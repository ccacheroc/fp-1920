{
 "cells": [
  {
   "cell_type": "markdown",
   "metadata": {},
   "source": [
    "# Ejercicios de repaso FP"
   ]
  },
  {
   "cell_type": "markdown",
   "metadata": {},
   "source": [
    "## CÓMO RESOLVER LOS EJERCICIOS\n",
    "A la hora de resolver los ejercicios, es muy importante que, sobre todo al principio, antes de poneros a programar dediquéis unos minutos a pensar en lo que os pide el ejercicio y cómo estructurar el código. Para ello os propongo el siguiente proceso: \n",
    "\n",
    "* Definid, en dos líneas, qué os está pidiendo el ejercicio\n",
    "* Identificad las ENTRADAS del programa y de dónde se obtienen\n",
    "* Identificad qué tiene que PROCESAR el programa\n",
    "* Identificad qué SALIDA tiene que producir el programa\n",
    "\n",
    "Sólo una vez que tenéis claro todo esto os debéis poner a programar. \n",
    "\n",
    "Happy programmaing! "
   ]
  },
  {
   "cell_type": "markdown",
   "metadata": {
    "collapsed": true
   },
   "source": [
    "# Tema 7: Bases de Datos"
   ]
  },
  {
   "cell_type": "markdown",
   "metadata": {},
   "source": [
    "## Ejercicio 7.1\n",
    "\n",
    "Blah blah blah"
   ]
  },
  {
   "cell_type": "code",
   "execution_count": 24,
   "metadata": {},
   "outputs": [],
   "source": [
    "#aquí va tu código"
   ]
  }
 ],
 "metadata": {
  "kernelspec": {
   "display_name": "Python 3",
   "language": "python",
   "name": "python3"
  },
  "language_info": {
   "codemirror_mode": {
    "name": "ipython",
    "version": 3
   },
   "file_extension": ".py",
   "mimetype": "text/x-python",
   "name": "python",
   "nbconvert_exporter": "python",
   "pygments_lexer": "ipython3",
   "version": "3.7.2"
  }
 },
 "nbformat": 4,
 "nbformat_minor": 1
}
