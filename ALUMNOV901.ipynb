{
 "cells": [
  {
   "cell_type": "markdown",
   "metadata": {},
   "source": [
    "# Ejercicios de repaso FP"
   ]
  },
  {
   "cell_type": "markdown",
   "metadata": {},
   "source": [
    "## CÓMO RESOLVER LOS EJERCICIOS\n",
    "A la hora de resolver los ejercicios, es muy importante que, sobre todo al principio, antes de poneros a programar dediquéis unos minutos a pensar en lo que os pide el ejercicio y cómo estructurar el código. Para ello os propongo el siguiente proceso: \n",
    "\n",
    "* Definid, en dos líneas, qué os está pidiendo el ejercicio\n",
    "* Identificad las ENTRADAS del programa y de dónde se obtienen\n",
    "* Identificad qué tiene que PROCESAR el programa\n",
    "* Identificad qué SALIDA tiene que producir el programa\n",
    "\n",
    "Sólo una vez que tenéis claro todo esto os debéis poner a programar. \n",
    "\n",
    "Happy programming! "
   ]
  },
  {
   "cell_type": "markdown",
   "metadata": {},
   "source": [
    "# 1.- VARIABLES, OPERANDOS, EXPRESIONES, SENTENCIAS, CONDICIONALES"
   ]
  },
  {
   "cell_type": "markdown",
   "metadata": {},
   "source": [
    "## Ejercicio 1.1. \n",
    "Crea un programa que, dadas las cuatro coordenadas (x1,y1) (x2,y2) de dos puntos cualquiera, te calcule la distancia mínima entre dichos puntos. El programa debe controlar que todas las coordenadas que introduces son enteros. En cuanto el usuario introduzca algo que no sea un entero, el programa debe imprimir un mensaje del tipo \"Coordenada Errónea\" y acabar. \n",
    "\n",
    "Ejemplo de salida: \n",
    "![Ejemplos de salida](1-1-salida.png)"
   ]
  },
  {
   "cell_type": "code",
   "execution_count": 1,
   "metadata": {},
   "outputs": [],
   "source": [
    "#aquí va vuestro código"
   ]
  },
  {
   "cell_type": "markdown",
   "metadata": {},
   "source": [
    "## Ejercicio 1.2. \n",
    "Escribe un programa de cálculo de salario por semana que, dado el número de horas trabajadas esa semana y una tarifa por hora, calcule el salario de esa semana, teniendo en cuenta que todas las horas trabajadas que excedan de 40 deben pagarse a 1.5 veces la tarifa por hora.  \n",
    "\n",
    "Ejemplo de salida: \n",
    "![Ejemplos de salida](1-2-salida.png)"
   ]
  },
  {
   "cell_type": "code",
   "execution_count": 2,
   "metadata": {},
   "outputs": [],
   "source": [
    "#aquí va vuestro código"
   ]
  },
  {
   "cell_type": "markdown",
   "metadata": {},
   "source": [
    "## Ejercicio 1.3. \n",
    "Crea un programa que, dada una puntuación numérica entre 0 y 10, muestre la calificación nominal según la siguiente tabla: \n",
    "\n",
    "* 10: MATRÍCULA DE HONOR\n",
    "* 9<=x<10: SOBRESALIENTE\n",
    "* 7<=x<9: NOTABLE\n",
    "* 6<=x<7: BIEN\n",
    "* 5<=x<6: APROBADO\n",
    "* x<5: SUSPENSO\n",
    "\n",
    "Si el número no está en el rango [0..10], el programa debe mostrar un mensaje de error. \n",
    "\n",
    "\n",
    "Ejemplos de salida: \n",
    "![Ejemplos de salida](1-3-salida.png)"
   ]
  },
  {
   "cell_type": "code",
   "execution_count": null,
   "metadata": {
    "collapsed": true
   },
   "outputs": [],
   "source": [
    "#tu código aquí"
   ]
  },
  {
   "cell_type": "markdown",
   "metadata": {},
   "source": [
    "## Ejercicio 1.4. \n",
    "Modifica el programa anterior para que, si el alumno tiene entre 8 y 10, se imprima un mensaje final diciéndole que ha hecho un buen trabajo. "
   ]
  },
  {
   "cell_type": "code",
   "execution_count": null,
   "metadata": {
    "collapsed": true
   },
   "outputs": [],
   "source": [
    "#tu código aquí"
   ]
  },
  {
   "cell_type": "markdown",
   "metadata": {},
   "source": [
    "## Ejercicio 1.5. \n",
    "\n",
    "Se dispone de un termómetro para medir con exactitud la temperatura en un determinado lugar. Sin embargo, a nuestros usuarios les basta con saber de manera aproximada si la temperatura se ajusta a los rangos siguientes: \n",
    "![Rangos y sensación térmica](1-5-enunciado.png)\n",
    "\n",
    "Crea un programa que simule el comportamiento del termómetro. Para ello, el programa generará una temperatura aleatoria en una escala en el rango [-10,44], y a continuación imprimirá por pantalla un mensaje con la sensación térmica correspondiente a esa temperatura.\n",
    "\n",
    "Nota: para generar un valor aleatorio entre -10 (incluido, ver corchete) y 44 (incluido, ver corchete) se tiene que utilizar la función randint() de la siguiente manera: \n",
    "<pre>\n",
    "import random\n",
    "num=random.randint(-10,44)\n",
    "</pre>\n",
    "\n",
    "Nota cómo la ayuda de la función random.randint(a,b) indica que esta función devuelve un entero aleatorio N tal que a <= N <= b"
   ]
  },
  {
   "cell_type": "code",
   "execution_count": null,
   "metadata": {
    "collapsed": true
   },
   "outputs": [],
   "source": [
    "#tu código aquí"
   ]
  },
  {
   "cell_type": "markdown",
   "metadata": {},
   "source": [
    "## Ejercicio 1.6. \n",
    "Crea un programa que pida por pantalla el sexo de una persona y su edad. A continuación, imprimirá en una sola línea si es hombre o mujer mayor o menor de edad. \n"
   ]
  },
  {
   "cell_type": "code",
   "execution_count": null,
   "metadata": {
    "collapsed": true
   },
   "outputs": [],
   "source": [
    "#tu código aquí"
   ]
  },
  {
   "cell_type": "markdown",
   "metadata": {},
   "source": [
    "## Ejercicio 1.7. \n",
    "Una tienda vende pantalones (precio estándar: 20 euros) y camisetas (precio estándar: 10 euros) FPJeans al por menor y al por mayor. Su política de descuentos es como sigue: \n",
    "* Si se compran menos de 5 pantalones, éstos se cobran a su precio estándar\n",
    "* En caso de que se compren 5 o más pero menos de 12 , se les descuenta el 15% en cada pantalón\n",
    "* Si se compran más de 12 se les descuenta 30% en cada pantalón.\n",
    "* Si se compran menos de 10 camisetas, estos se compran a su precio normal\n",
    "* Si se compran 10 o más camisetas pero menos de 30, se les descuenta un 10% en cada camiseta. \n",
    "* Si se compran 30 o más se les descuenta un 20% en cada camiseta. \n",
    "\n",
    "Escribe un programa que pida como datos de entrada el número de pantalones y camisetas que se desean comprar. A continuación imprimirá el total a pagar por la compra hecha.\n"
   ]
  },
  {
   "cell_type": "code",
   "execution_count": null,
   "metadata": {
    "collapsed": true
   },
   "outputs": [],
   "source": [
    "#tu código aquí"
   ]
  },
  {
   "cell_type": "markdown",
   "metadata": {},
   "source": [
    "## Ejercicio 1.8. \n",
    "Escribe un programa para determinar si un solicitante puede lograr un préstamo. Deberá pedir los siguientes datos para cada solicitante: \n",
    "\n",
    "*\tNombre\n",
    "*\thistoria crediticia (‘b’buena o ‘m’ mala), \n",
    "*\tcantidad pedida, \n",
    "*\tsalario anual, \n",
    "*\tvalor de otras propiedades.  \n",
    "\n",
    "El banco sólo considerará a los solicitantes con una historia crediticia buena (b).  De aquellos, sólo aceptara los que tengan más de 6 puntos.  Los puntos se obtienen como sigue:\n",
    "\n",
    "*\t5 puntos si el salario es 50% del préstamo o más.\n",
    "*\t3 puntos si el salario es por lo menos 25% pero menos de 50% del préstamo.\n",
    "*\t1 punto si el salario es por lo menos 10% pero menos de 25% del préstamo.\n",
    "*\t5 puntos si se tiene/n otra/s propiedad/es cuyo valor es de al menos el doble del préstamo.\n",
    "*\t3 puntos si se tiene/n otra/s propiedad/es cuyo valor es al menos igual al préstamo pero menor del doble.\n"
   ]
  },
  {
   "cell_type": "code",
   "execution_count": 1,
   "metadata": {},
   "outputs": [],
   "source": [
    "\n",
    "#aquí tu código"
   ]
  },
  {
   "cell_type": "markdown",
   "metadata": {},
   "source": [
    "## Ejercicio 1.9a.\n",
    "Completad el siguiente código para que el programa resultante diga si el castor está vestido correctamente o no. Las combinaciones correctas están reflejadas en el árbol de decisión mostrado en la figura. \n",
    "![Castores](./dress-code-reducido.png)"
   ]
  },
  {
   "cell_type": "code",
   "execution_count": null,
   "metadata": {},
   "outputs": [],
   "source": [
    "\n",
    "gafas=input(\"¿Lleva gafas? (s/n)\")\n",
    "color_pant=input(\"¿Lleva los pantalones de color azul, marrón u otro? (a/m/o)\")\n",
    "color_camiseta=input(\"¿Lleva la camiseta verde o de otro color (v/o)?\")\n",
    "color_sombrero=input(\"¿Lleva el sombrero de color azul, amarillo o rojo (az,am,r)?\")\n",
    "\n",
    "correcto=False\n",
    "\n",
    "\n",
    "#aquí va vuestro código\n",
    "\n",
    "\n",
    "if (correcto==True):\n",
    "    print (\"El castor está vestido correctamente\")\n",
    "else:\n",
    "    print(\"El castor NO está vestido correctamente\")"
   ]
  },
  {
   "cell_type": "markdown",
   "metadata": {},
   "source": [
    "## Ejercicio 1.9b.\n",
    "Completad el siguiente código para que el programa resultante diga si el castor está vestido correctamente o no. Las combinaciones correctas están reflejadas en el árbol de decisión mostrado en la figura. \n",
    "![Castores](./dress-code.png)"
   ]
  },
  {
   "cell_type": "code",
   "execution_count": null,
   "metadata": {},
   "outputs": [],
   "source": [
    "cola=input(\"¿Tiene la cola grande o pequeña? (g/p)\")\n",
    "gafas=input(\"¿Lleva gafas? (s/n)\")\n",
    "dientes=input(\"¿Tiene los dientes grandes o pequeños? (g/p)\")\n",
    "color_pant=input(\"¿Lleva los pantalones de color azul, marrón u otro? (a/m/o)\")\n",
    "color_camiseta=input(\"¿Lleva la camiseta verde o de otro color (v/o)?\")\n",
    "color_sombrero=input(\"¿Lleva el sombrero de color azul, amarillo o rojo (az,am,r)?\")\n",
    "\n",
    "correcto=False\n",
    "\n",
    "\n",
    "#aquí va vuestro código\n",
    "\n",
    "\n",
    "if (correcto==True):\n",
    "    print (\"El castor está vestido correctamente\")\n",
    "else:\n",
    "    print(\"El castor NO está vestido correctamente\")"
   ]
  },
  {
   "cell_type": "markdown",
   "metadata": {
    "collapsed": true
   },
   "source": [
    "## Ejercicio 1.10.\n",
    "Las siguientes tablas resumen los rangos de niveles normales para distintas mediciones de un análisis de sangre. \n",
    "\n",
    "![Tablas rangos dependientes de género](1-9-tablasrangosdepgenero.png)\n",
    "![Tablas rangos independientes género](1-9-tablasrangosindepgenero.png)\n",
    "\n",
    "Por otro lado, disponemos de las siguientes tablas que nos dan los posibles diagnósticos en función de si los valores de hematíes, hemoglobina, hematocrito, volumen corpuscular y hemoglobina corpuscular están por debajo del valor mínimo del rango, dentro del rango normal o por encima de los valores máximos del rango. \n",
    "![Tablas diagnóstico hematíes bajos](1-9-tablasdiagnosticohematiesbajos.png)\n",
    "![Tablas diagnóstico hematíes normales](1-9-tablasdiagnosticohematiesnormales.png)\n",
    "![Tablas diagnóstico hematíes altos](1-9-tablasdiagnosticohematiesaltos.png)\n",
    "\n",
    "\n",
    "Escribe un programa que pida los siguientes valores: \n",
    "* categoría (H,M,N)\n",
    "* hematíes\n",
    "* hemoglobina\n",
    "* hematocrito\n",
    "* Volumen corpuscular\n",
    "* Hemoglobina corpuscular\n",
    "\n",
    "A partir de ellos, el programa debe imprimir por pantalla el diagnóstico correcto. "
   ]
  },
  {
   "cell_type": "code",
   "execution_count": null,
   "metadata": {
    "collapsed": true
   },
   "outputs": [],
   "source": [
    "#aquí tu código"
   ]
  },
  {
   "cell_type": "markdown",
   "metadata": {},
   "source": [
    "## Ejercicio 1.11\n",
    "Dadas las longitudes en cm de los tres lados de un triángulo, escribid un programa que nos diga si el triángulo es equilátero, isósceles o escaleno. "
   ]
  },
  {
   "cell_type": "code",
   "execution_count": null,
   "metadata": {},
   "outputs": [],
   "source": [
    "#aquí va vuestro código"
   ]
  }
 ],
 "metadata": {
  "kernelspec": {
   "display_name": "Python 3",
   "language": "python",
   "name": "python3"
  },
  "language_info": {
   "codemirror_mode": {
    "name": "ipython",
    "version": 3
   },
   "file_extension": ".py",
   "mimetype": "text/x-python",
   "name": "python",
   "nbconvert_exporter": "python",
   "pygments_lexer": "ipython3",
   "version": "3.7.2"
  }
 },
 "nbformat": 4,
 "nbformat_minor": 1
}
