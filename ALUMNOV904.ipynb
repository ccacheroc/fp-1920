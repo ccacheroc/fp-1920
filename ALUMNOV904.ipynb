{
 "cells": [
  {
   "cell_type": "markdown",
   "metadata": {},
   "source": [
    "# Ejercicios de repaso FP"
   ]
  },
  {
   "cell_type": "markdown",
   "metadata": {},
   "source": [
    "## CÓMO RESOLVER LOS EJERCICIOS\n",
    "A la hora de resolver los ejercicios, es muy importante que, sobre todo al principio, antes de poneros a programar dediquéis unos minutos a pensar en lo que os pide el ejercicio y cómo estructurar el código. Para ello os propongo el siguiente proceso: \n",
    "\n",
    "* Definid, en dos líneas, qué os está pidiendo el ejercicio\n",
    "* Identificad las ENTRADAS del programa y de dónde se obtienen\n",
    "* Identificad qué tiene que PROCESAR el programa\n",
    "* Identificad qué SALIDA tiene que producir el programa\n",
    "\n",
    "Este procedimiento lo tenéis que aplicar tanto al programa principal como a cualquier FUNCIÓN QUE TENGÁIS que definir. \n",
    "\n",
    "En el caso de las funciones las entradas serán los parámetros (con sus valores por defecto si fuera el caso), las salidas se encapsulan en la sentencia return, y el procesamiento es el cuerpo de la función.\n",
    "\n",
    "Happy programming! "
   ]
  },
  {
   "cell_type": "markdown",
   "metadata": {},
   "source": [
    "# 4.- FUNCIONES"
   ]
  },
  {
   "cell_type": "markdown",
   "metadata": {},
   "source": [
    "## Ejercicio 4.0\n",
    "\n",
    "Escribe una función tiraDado que no reciba ningún argumento y que devuelva un número aleatorio entre 1 y 6. \n",
    "\n",
    "A continuación, escribe un programa principal que lance el dado 1000 veces y cuente el número de 1,2,3,4,5,6 que salen. Grafica las frecuencias de cada número. "
   ]
  },
  {
   "cell_type": "code",
   "execution_count": 54,
   "metadata": {},
   "outputs": [],
   "source": [
    "#aquí va tu código"
   ]
  },
  {
   "cell_type": "markdown",
   "metadata": {},
   "source": [
    "## Ejercicio 4.1 (Examen Marzo 2018)\n",
    "Uno de los algoritmos más básicos en Criptografía es el Cifrado César (https://es.wikipedia.org/wiki/Cifrado_C%C3%A9sar), que fue utilizado por Julio César para comunicarse con sus generales. Este cifrado consiste en, dado un texto, por cada una de las letras del texto añadirle un desplazamiento para conseguir una nueva letra diferente de la original. Asignaremos el valor 0 a la primera letra del abecedario, 1 a la segunda, ... El desplazamiento (conocido sólo por el emisor y el receptor) nos permite codificar/decodificar. \n",
    "\n",
    "Veamos un ejemplo. Supongamos que tenemos que codificar el mensaje \"PYTHON\", y que el desplazamiento es 3. \n",
    "\n",
    "P->S\n",
    "Y->B\n",
    "T->W\n",
    "H->K\n",
    "O->R\n",
    "N->P\n",
    "\n",
    "Por tanto PYTHON se convierte en SBWKRP\n",
    "\n",
    "Escribe una función codifica() que, dado un mensaje ascii (que puede contener letras ascii mayúsculas y/o minúsculas) y un desplazamiento, devuelva el mensaje cifrado. Por defecto, el desplazamiento asumido es 1. \n",
    "\n",
    "Nota: la cadena que contiene todas las letras minúsculas se encuentra en la variable ascii_lowercase de la librería string. Del mismo modo, la cadena que contiene todas las letras mayúsculas se encuentra en la variable ascii_uppercase de la librería string. \n",
    "\n"
   ]
  },
  {
   "cell_type": "code",
   "execution_count": null,
   "metadata": {},
   "outputs": [],
   "source": [
    "#aquí va tu código"
   ]
  },
  {
   "cell_type": "markdown",
   "metadata": {},
   "source": [
    "## Ejercicio 4.2\n",
    "Define una función que cuente los espacios del siguiente texto y devuelva dicho número. "
   ]
  },
  {
   "cell_type": "code",
   "execution_count": 6,
   "metadata": {},
   "outputs": [],
   "source": [
    "texto=\"\"\"The Zen of Python, by Tim Peters   \n",
    "\n",
    "Beautiful is better than ugly.\n",
    "Explicit is better than implicit.\n",
    "Simple is better than complex.\n",
    "Complex is better than complicated.\n",
    "Flat is better than nested.\n",
    "Sparse is better than dense.\n",
    "Readability counts.\n",
    "Special cases aren't special enough to break the rules.\n",
    "Although practicality beats purity.\n",
    "Errors should never pass silently.\n",
    "Unless explicitly silenced.\n",
    "In the face of ambiguity, refuse the temptation to guess.\n",
    "There should be one-- and preferably only one --obvious way to do it.\n",
    "Although that way may not be obvious at first unless you're Dutch.\n",
    "Now is better than never.\n",
    "Although never is often better than *right* now.\n",
    "If the implementation is hard to explain, it's a bad idea.\n",
    "If the implementation is easy to explain, it may be a good idea.\n",
    "Namespaces are one honking great idea -- let's do more of those!\n",
    "\"\"\"\n",
    "\n",
    "#aquí va vuestro código"
   ]
  },
  {
   "cell_type": "markdown",
   "metadata": {},
   "source": [
    "## Ejercicio 4.3 (Examen Prueba Marzo 2017)\n",
    "Diseña una función llamada comienza_may() que reciba una cadena y devuelva cierto si empieza por mayúscula y falso en caso contrario. "
   ]
  },
  {
   "cell_type": "code",
   "execution_count": null,
   "metadata": {},
   "outputs": [],
   "source": [
    "#aquí va tu código"
   ]
  },
  {
   "cell_type": "markdown",
   "metadata": {},
   "source": [
    "## Ejercicio 4.4 (Extensión de ejercicio 1.2.)\n",
    "Diseña una función de cálculo de salario llamada css(). La función acepta dos parámetros en este orden: horas y tarifa. El párametro horas tiene un valor por defecto de 40, y el parámetro tarifa tiene un valor por defecto de 10. La función calculará el __sueldo por semana__ asumiendo que las horas extras (las que superen las 40) se deben pagar a 1.5 veces la tarifa normal. A continuación crea un programa principal que pida al usuario las horas trabajadas y el salario. El usuario puede introducir un número entero o no introducir nada, en cuyo caso se debe llamar a la función sin nada en ese parámetro, para que ésta asuma el valor por defecto.  \n",
    "\n",
    "La función se puede invocar de las siguientes formas: \n",
    "\n",
    "<pre>\n",
    "*salario=css() #si el usuario no quiere introducir nada ni para horas ni para tarifa\n",
    "*salario=css(valor1) #si el usuario quiere introducir un valor para horas pero nada para tarifa\n",
    "*salario=css(valor1,valor2) #si el usuario quiere introducir valores para los dos parámetros\n",
    "*salario=css(tarifa=xxx) #si el usuario quiere introducir un valor sólo para tarifa\n",
    "</pre>\n",
    "\n",
    "Ejemplo de ejecución: \n",
    "![Ejemplos de salida](4-4-salida.png)\n"
   ]
  },
  {
   "cell_type": "code",
   "execution_count": 51,
   "metadata": {},
   "outputs": [],
   "source": [
    "#aquí va tu código"
   ]
  },
  {
   "cell_type": "markdown",
   "metadata": {},
   "source": [
    "## Ejercicio 4.5 (Examen Marzo 2017, extensión del ejercicio 2.1.)\n",
    "Escribe una función llamada factorial que reciba como parámetro un número entero. Si el parámetro es un número válido (un entero positivo) , la función devolverá su factorial, y si es un número no válido (no es entero o es un entero negativo) devolverá -1 \n",
    "\n",
    "Nota: recordad que el factorial de 0 es 1.\n",
    "\n",
    "Algunos ejemplos: \n",
    "* factorial(3) -> 6\n",
    "* factorial (-6) -> -1\n",
    "* factorial (0) -> 1\n"
   ]
  },
  {
   "cell_type": "code",
   "execution_count": null,
   "metadata": {
    "collapsed": true
   },
   "outputs": [],
   "source": [
    "#aquí va tu código"
   ]
  },
  {
   "cell_type": "markdown",
   "metadata": {},
   "source": [
    "## Ejercicio 4.6 (Examen Marzo 2017)\n",
    "Escribe una función llamada cels() que devuelva los grados Celsius equivalentes a los grados Fahrenheit que le pasamos como parámetro\n",
    "\n",
    "Recuerda: ºC=(ºF-32)*5/9\n"
   ]
  },
  {
   "cell_type": "code",
   "execution_count": 52,
   "metadata": {},
   "outputs": [],
   "source": [
    "#aquí va tu código\n"
   ]
  },
  {
   "cell_type": "markdown",
   "metadata": {},
   "source": [
    "## Ejercicio 4.7 (Examen Marzo 2017)\n",
    "\n",
    "Define una función llamada area_circulo que, a partir del radio del círculo –pasado como parámetro-, devuelva el valor de su área (PI*r2). Utiliza el valor 3.1416 como aproximación de PI o importa el valor de PI que encontrarás en el módulo math. La función debe devolver -1 si el parámetro que se pasa es un número negativo. \n"
   ]
  },
  {
   "cell_type": "code",
   "execution_count": null,
   "metadata": {
    "collapsed": true
   },
   "outputs": [],
   "source": [
    "#aquí va tu código"
   ]
  },
  {
   "cell_type": "markdown",
   "metadata": {},
   "source": [
    "## Ejercicio 4.8 (Examen Marzo 2017)\n",
    "\n",
    "Define una función llamada num_divisores que, dado un entero pasado como parámetro, devuelva el número de divisores que tiene (incluidos 1 y él mismo). Asumimos que el 0 no tiene divisores (si pasamos 0 como parámetro, la función devolverá 0). Si se introduce un número negativo, la función devolverá -1. \n",
    "\n",
    "Veamos algunos ejemplos: \n",
    "\n",
    "* num_divisores(1) -> 1\n",
    "* num_divisores(5)-> 2\n",
    "* num_divisores(8)->4\n",
    "* num_divisores(0)->0\n",
    "* num_divisores(-3)->2\n"
   ]
  },
  {
   "cell_type": "code",
   "execution_count": 53,
   "metadata": {},
   "outputs": [],
   "source": [
    "#aquí va tu código\n"
   ]
  },
  {
   "cell_type": "markdown",
   "metadata": {},
   "source": [
    "## Ejercicio 4.9 (Examen Marzo 2017)\n",
    "\n",
    "Define una función llamada mcd que calcule el máximo común divisor de dos números positivos pasados como parámetro. Si alguno de los parámetros no es un entero o es un entero <0, la función devolverá -1.  Si alguno de los parámetros es 0, el mcd será el valor del otro parámetro. \n",
    "\n",
    "Nota: el máximo común divisor de dos números enteros es el mayor número entero que los divide sin dejar resto\n",
    "\n",
    "Algunos ejemplos:\n",
    "* mcd(42,56)=14\n",
    "* mcd(34,0)=34\n",
    "* mcd(48,60)=12\n",
    "* mcd(-3,9)=-1\n"
   ]
  },
  {
   "cell_type": "code",
   "execution_count": null,
   "metadata": {
    "collapsed": true
   },
   "outputs": [],
   "source": [
    "#aquí va tu código"
   ]
  },
  {
   "cell_type": "markdown",
   "metadata": {},
   "source": [
    "## Ejercicio 4.10 (Examen Marzo 2017)\n",
    "\n",
    "Define una función llamada mcm que calcule el mínimo común múltiplo  de los dos números enteros positivos pasados como parámetro. Si alguno de los parámetros no es un entero o es un número <1, la función devolverá -1. \n",
    "\n",
    "Nota:  mcm(a,b)=a*b/mcd(a,b)\n"
   ]
  },
  {
   "cell_type": "code",
   "execution_count": null,
   "metadata": {
    "collapsed": true
   },
   "outputs": [],
   "source": [
    "#aquí va tu código"
   ]
  },
  {
   "cell_type": "markdown",
   "metadata": {},
   "source": [
    "## Ejercicio 4.11. Refinamiento ejercicio 3.4.\n",
    "Convierte el programa de cálculo de la letra del NIF de la sección de Strings (ejercicio 3.4.) en una función calculaLetraNIF() que reciba como parámetro el DNI (sin letra) y devuelva la letra del  NIF. La función devolverá -1 si el DNI no es correcto. Aseguraos de que la función funciona correctamente con DNIs tanto nacionales como extranjeros. \n",
    "\n",
    "\n",
    "Nota: recordad que tenéis toda la info acerca del algoritmo que debéis implementar en http://www.interior.gob.es/web/servicios-al-ciudadano/dni/calculo-del-digito-de-control-del-nif-nie"
   ]
  },
  {
   "cell_type": "code",
   "execution_count": 5,
   "metadata": {
    "collapsed": true
   },
   "outputs": [],
   "source": [
    "letrasNIF=\"TRWAGMYFPDXBNJZSQVHLCKE\"\n",
    "#aquí va vuestro código\n"
   ]
  },
  {
   "cell_type": "markdown",
   "metadata": {},
   "source": [
    "## Ejercicio 4.12 (Examen Marzo 2018)\n",
    "\n",
    "Dado un conjunto de tres números, define una función que se llame calcula_media_desviacion que reciba dichos números como parámetros y que devuelva la media y desviación típica de la serie, redondeados a dos decimales. \n",
    "\n",
    "Pista: la fórmula de la desviación típica es como sigue: \n",
    "\n",
    "![Fórmula desviación típica](formulaDesviacionTipica.jpeg)\n",
    "\n",
    "Pista: para redondear un número a dos decimales podéis utilizar la función round(num,num_decimales). \n"
   ]
  },
  {
   "cell_type": "code",
   "execution_count": 16,
   "metadata": {},
   "outputs": [
    {
     "name": "stdout",
     "output_type": "stream",
     "text": [
      "Media de 1,2,3= 2.0  Desviación de 1,2,3= 1.0\n",
      "Media de -5,-3,2= -2.0  Desviación de -5,-3,2= 3.61\n",
      "Media de 0,0,0= 0.0  Desviación de 0,0,0= 0.0\n"
     ]
    }
   ],
   "source": [
    "#aquí va vuestro código\n",
    "\n",
    "#ejemplos de uso de la función\n",
    "media,desviacion=calcula_media_desviacion(1,2,3)\n",
    "print(\"Media de 1,2,3=\",media,\" Desviación de 1,2,3=\",desviacion)  #Salida: Media de 1,2,3= 2.0  Desviación de 1,2,3= 1.0\n",
    "media,desviacion=calcula_media_desviacion(-5,-3,2)\n",
    "print(\"Media de -5,-3,2=\",media,\" Desviación de -5,-3,2=\",desviacion) #Salida: Media de -5,-3,2= -2.0  Desviación de -5,-3,2= 3.61\n",
    "media,desviacion=calcula_media_desviacion(0,0,0)\n",
    "print(\"Media de 0,0,0=\",media,\" Desviación de 0,0,0=\",desviacion) #Salida: Media de 0,0,0= 0.0  Desviación de 0,0,0= 0.0\n"
   ]
  },
  {
   "cell_type": "markdown",
   "metadata": {},
   "source": [
    "## Ejercicio 4.13 \n",
    "\n",
    "Mejora el programa anterior para que ahora acepte cualquier serie de números, de longitud indeterminada\n",
    "\n"
   ]
  },
  {
   "cell_type": "code",
   "execution_count": 18,
   "metadata": {},
   "outputs": [
    {
     "name": "stdout",
     "output_type": "stream",
     "text": [
      "Media de 1,2,3= 2.0  Desviación de 1,2,3= 1.0\n",
      "Media de -5,-3,2,4,5= 0.6  Desviación de -5,-3,2,4,5= 4.39\n",
      "Error, no puedo calcular la media y desviación típica de una lista vacía.\n",
      "Media de = None  Desviación de = None\n"
     ]
    }
   ],
   "source": [
    "#aquí va vuestro código\n",
    "\n",
    "\n",
    "#ejemplos de uso de la función\n",
    "media,desviacion=calcula_media_desviacion(1,2,3)\n",
    "print(\"Media de 1,2,3=\",media,\" Desviación de 1,2,3=\",desviacion)  #Salida: Media de 1,2,3= 2.0  Desviación de 1,2,3= 1.0\n",
    "media,desviacion=calcula_media_desviacion(-5,-3,2,4,5)\n",
    "print(\"Media de -5,-3,2,4,5=\",media,\" Desviación de -5,-3,2,4,5=\",desviacion) #Salida: Media de 1,2,3= 0.6  Desviación de 1,2,3= 4.39\n",
    "media,desviacion=calcula_media_desviacion()\n",
    "print(\"Media de =\",media,\" Desviación de =\",desviacion) #Salida: Media de 1,2,3= 0.6  Desviación de 1,2,3= 4.39\n"
   ]
  },
  {
   "cell_type": "markdown",
   "metadata": {},
   "source": [
    "## Ejercicio 4.14 (Examen Marzo 2018). Refinamiento ejercicio 3.2.\n",
    "\n",
    "Vamos a retomar el tema de los palíndromos (ejercicio 3.2.). Define una función llamada esCadenaPalíndroma(param) que reciba un parámetro. La función debe comprobar que el parámetro es una cadena. Si fuera de cualquier otro tipo, devolverá False. \n",
    "Si el parámetro es una cadena, la función debe convertir a minúsculas y quitar los espacios en blanco de la cadena, y a continuación comprobar si la cadena es o no palíndroma. Recordad que una cadena se considera palíndroma cuando se lee igual de derecha a izquierda que de izquierda a derecha. Tenéis muchos ejemplos de frases en castellano palíndromas en https://es.wikipedia.org/wiki/Pal%C3%ADndromo#En_espa%C3%B1ol. \n",
    "\n",
    "La función devolverá True si la cadena es palíndroma o vacía, y False en otro caso. \n",
    "\n"
   ]
  },
  {
   "cell_type": "code",
   "execution_count": null,
   "metadata": {
    "collapsed": true
   },
   "outputs": [],
   "source": [
    "#aquí va vuestro código"
   ]
  },
  {
   "cell_type": "markdown",
   "metadata": {},
   "source": [
    "## Ejercicio 4.15 (Examen Marzo 2018). Refinamiento ejercicio 3.2.\n",
    "Define una función llamada esNumeroCapicua(param) que reciba un parámetro. La función debe comprobar que el parámetro es un entero. Si fuera de cualquier otro tipo, devolverá False. \n",
    "\n",
    "Si el parámetro es un entero, la función debe convertir el número a cadena, y a continuación comprobar si la cadena es o no palíndroma. Para ello, podéis reutilizar la función del ejercicio anterior. Recordad que una cadena se considera palíndroma cuando se lee igual de derecha a izquierda que de izquierda a derecha. \n",
    "\n",
    "La función devolverá True si la cadena es palíndroma (lo que significa que el número original es capicúa) o False en otro caso. "
   ]
  },
  {
   "cell_type": "code",
   "execution_count": null,
   "metadata": {
    "collapsed": true
   },
   "outputs": [],
   "source": [
    "#aquí va vuestro código"
   ]
  },
  {
   "cell_type": "markdown",
   "metadata": {},
   "source": [
    "## Ejercicio 4.16. Refinamiento ejercicio 3.2.\n",
    "Vamos ahora a combinar los dos ejercicios anteriores en una sola función que llamaremos esCapidroma(param). La función debe funcionar tanto para números como para cadenas. La función devolverá: \n",
    "\n",
    "* 1 si el parámetro es un número capicúa \n",
    "* 2 si el parámetro es un número no capicúa\n",
    "* 3 si el parámetro es una palabra palíndroma\n",
    "* 4 si el parámetro es una palabra no palíndroma\n",
    "\n"
   ]
  },
  {
   "cell_type": "code",
   "execution_count": null,
   "metadata": {
    "collapsed": true
   },
   "outputs": [],
   "source": [
    "#aquí va vuestro código\n",
    "    \n",
    "print(capidroma(\"Reconocer\"))#3: palíndroma\n",
    "print(capidroma(\"Arriba la birra\")) #3 palíndroma\n",
    "print(capidroma(\"\"))#3 palíndroma\n",
    "print(capidroma(\"aeiou\"))#4 no palíndroma\n",
    "print(capidroma(12321))#1 capicúa\n",
    "print(capidroma(123456)) #2 no capicúa\n",
    "\n"
   ]
  },
  {
   "attachments": {},
   "cell_type": "markdown",
   "metadata": {},
   "source": [
    "## Ejercicio 4.17 (Examen Marzo 2019)\n",
    "\n",
    "Definimos la distancia de Hamming para cadenas como el número de elementos que tienen que cambiarse para transformar la primera cadena en la segunda cadena.  Dicho de otro modo, la distancia es el número de elementos que, encontrándose en la misma posición, son distintos entre las dos cadenas. \n",
    "\n",
    "\n",
    "Define una función dHamming(adn1,adn2,alfabeto) que reciba dos cadenas y el alfabeto a partir del cual se construyen las cadenas. Por defecto, el alfabeto se corresponde a los nucleótidos “ATCG” que componen las cadenas de ADN. La función debe devolver la distancia de Hamming entre las dos cadenas. Si las cadenas no tienen la misma longitud, el programa debe devolver -1. Asimismo, si las cadenas contienen algún carácter que no pertenece al alfabeto a partir del cual deberían estar construidas, la función también devolverá -1. \n",
    " \n",
    "\n",
    "\n",
    "Ejemplos de ejecución: \n",
    "<pre>\n",
    "print(dHamming(\"AAAA\",\"ACAA\")) #1: la segunda posición es distinta\n",
    "print(dHamming(\"abcd\",\"abbb\",\"abcd\")) #2: primera y tercera posición son distintas\n",
    "print(dHamming(\"abcd\",\"abbb\",\"abc\")) #-1\n",
    "print(dHamming(\"abcd\",\"abbb\")) #-1\n",
    "print(dHamming(\"ACGT\",\"AC\")) #-1\n",
    "p = “CCGAAGCAATTGAAACCCCCCCGGCCTGGGAGGCGCAAAAATCTGACCTCTTTGTGAGT”\n",
    "q = ”GCGTAGTAGGTTCGCGTACCTCGTTCCGGGGAAAACACAAAGGAGAAGGGAATGCTCCT”\n",
    "print(dHamming(p,q)) #35\n",
    "</pre>"
   ]
  },
  {
   "cell_type": "code",
   "execution_count": 14,
   "metadata": {},
   "outputs": [
    {
     "name": "stdout",
     "output_type": "stream",
     "text": [
      "-1\n"
     ]
    }
   ],
   "source": [
    "#aquí va tu función\n",
    "\n",
    "p=\"CCGTAAAAACG\"\n",
    "q=\"ACGTCAAAAG\"\n",
    "print(dHamming(p,q)) #-1\n",
    "\n",
    "p=\"CCGTA\"\n",
    "q=\"ACGTC\"\n",
    "print(dHamming(p,q)) #2\n",
    "\n",
    "p = 'CCGAAGCAATTGAAACCCCCCCGGCCTGGGAGGCGCAAAAATCTGACCTCTTTGTGAGTTGACCACTTAATTTATGTCTGACCACGAGAAGGGCTACTGATTTGGTA'\n",
    "q = 'GCGTAGTAGGTTCGCGTACCTCGTTCCGGGGAAAACACAAAGGAGAAGGGAATGCTCCTAGTAGTTTCAGTCTAGCAAACATGTTATAACGCTAACTGTGTGCTGCA'\n",
    "\n",
    "print(dHamming(p,q))#71"
   ]
  },
  {
   "cell_type": "markdown",
   "metadata": {},
   "source": [
    "## Ejercicio 4.17b\n",
    "Modifica el ejercicio anterior para que ahora acepte cadenas de distinta longitud. Si son de distinta longitud, la distancia de Hamming contará como nucleótidos distintos (a) los que, estando en la misma posición de las dos cadenas, son distintos (ejercicio anterior) y (b) todos los nucleótidos 'extras' de la cadena más larga. "
   ]
  },
  {
   "cell_type": "code",
   "execution_count": null,
   "metadata": {},
   "outputs": [],
   "source": [
    "#aquí va tu código"
   ]
  },
  {
   "attachments": {},
   "cell_type": "markdown",
   "metadata": {},
   "source": [
    "## Ejercicio 4.18\n",
    "La distancia de Levenshtein, distancia de edición o distancia entre palabras es el número mínimo de operaciones requeridas para transformar una cadena de caracteres en otra, se usa ampliamente en teoría de la información y ciencias de la computación. Se entiende por operación, bien una inserción, eliminación o la sustitución de un carácter. Es útil en programas que determinan cuán similares son dos cadenas de caracteres, como es el caso de los correctores ortográficos.\n",
    "\n",
    "La distancia de Levenshtein puede ser vista como una generalización de la distancia de Hamming para cadenas de longitudes distintas y donde se añaden las operaciones de inserción o eliminación. \n",
    "\n",
    "El algoritmo (en pseudocódigo) para implementar esta distancia es como sigue: \n",
    "<pre>\n",
    "int LevenshteinDistance(char str1[1..lenStr1], char str2[1..lenStr2])\n",
    "   // d is a table with lenStr1+1 rows and lenStr2+1 columns\n",
    "   declare int d[0..lenStr1, 0..lenStr2]\n",
    "   // i and j are used to iterate over str1 and str2\n",
    "   declare int i, j, cost\n",
    " \n",
    "   for i from 0 to lenStr1\n",
    "       d[i, 0] := i\n",
    "   for j from 0 to lenStr2\n",
    "       d[0, j] := j\n",
    " \n",
    "   for i from 1 to lenStr1\n",
    "       for j from 1 to lenStr2\n",
    "           if str1[i-1] = str2[j-1] then cost := 0\n",
    "                                else cost := 1\n",
    "           d[i, j] := minimum(\n",
    "                                d[i-1, j] + 1,     // deletion\n",
    "                                d[i, j-1] + 1,     // insertion\n",
    "                                d[i-1, j-1] + cost   // substitution\n",
    "                            )\n",
    " \n",
    "   return d[lenStr1, lenStr2]\n",
    "</pre>\n",
    "\n",
    "\n",
    "Tenéis más información en https://es.wikipedia.org/wiki/Distancia_de_Levenshtein#Python. \n",
    "\n",
    "Implementa una función que, dadas dos cadenas p y q, nos devuelva la distancia de Levenshtein. \n",
    "\n"
   ]
  },
  {
   "cell_type": "code",
   "execution_count": 45,
   "metadata": {},
   "outputs": [
    {
     "name": "stdout",
     "output_type": "stream",
     "text": [
      "58\n"
     ]
    }
   ],
   "source": [
    "#aquí va tu código\n",
    "\n",
    "p = 'CCGAAGCAATTGAAACCCCCCCGGCCTGGGAGGCGCAAAAATCTGACCTCTTTGTGAGTTGACCACTTAATTTATGTCTGACCACGAGAAGGGCTACTGATTTGGTA'\n",
    "q = 'GCGTAGTAGGTTCGCGTACCTCGTTCCGGGGAAAACACAAAGGAGAAGGGAATGCTCCTAGTAGTTTCAGTCTAGCAAACATGTTATAACGCTAACTGTGTGCTGCA'\n",
    "\n",
    "print(levenshtein(p,q)) #58"
   ]
  },
  {
   "cell_type": "markdown",
   "metadata": {},
   "source": [
    "## Ejercicio 4.19\n",
    "\n",
    "Para dos secuencias de la misma longitud, dada una misma posición dentro de las dos cadenas, se define **transición** como la sustitución de una purina por otra purina (A->G o G->A) o de una pirimidina por otra pirimidina (C->T o T->C) y **transversión** cuando se sustituye una purina por una pirimidina o viceversa:\n",
    "\n",
    "<img src=\"mutaciones_puntuales.png\">\n",
    "\n",
    "Las transversiones ocurren en menor cantidad en la naturaleza que las transiciones, dado el cambio drástico de base química. Así, la relación de transiciones frente a las transversiones es de 2 de media en el genoma. Sin embargo, en las regiones codificantes esta relación es superior (normalmente más de 3). Una manera de identificar dichas regiones es conocer por tanto esta relación (cociente) entre transiciones y transversiones, que llamamos R.\n",
    "\n",
    "R=transiciones/transversiones. \n",
    "\n",
    "Ejemplo: \n",
    "\n",
    "s1 = GCAACGCACAACGAAAACCCTTAGGGACTGGATTATTTCGTGATCGTTGTAGTTATTGGAAGTACGGGCATCAACCCAGTT<br>\n",
    "s2 = TTATCTGACAAAGAAAGCCGTCAACGGCTGGATAATTTCGCGATCGTGCTGGTTACTGGCGGTACGAGTGTTCCTTTGGGT<br>\n",
    "\n",
    "R = 1.2142857\n",
    "\n",
    "Escribid una función en Python que llamaremos R(cadena1,cadena2) que reciba como parámetro dos cadenas de ADN de la misma longitud y devuelva como valor de retorno R, i.e., la relación entre transiciones y transversiones en las dos cadenas. Redondead dicho valor a dos decimales. Si las cadenas son de longitud distinta, la función devolverá -1. "
   ]
  },
  {
   "cell_type": "code",
   "execution_count": 56,
   "metadata": {},
   "outputs": [
    {
     "name": "stdout",
     "output_type": "stream",
     "text": [
      "2.3176470588235296\n",
      "1.2142857142857142\n"
     ]
    }
   ],
   "source": [
    "#aquí vuestro código\n",
    "\n",
    "s1 = \"\"\"TGATTTCCTTTTGTCATTTTGCCTCGTCGTCAGGAATATTGGGACGAATTGGACTCTACT\n",
    "TCTGTGGGCTGAGCCGGTTCACCCATTGACGAGTGCTAGTCACAGATGAATTACAATGAA\n",
    "CGCTCGAGAAAGTGCTAATAAACGAACACCAGTAACATATGGGGGCGCGGCTGCCGGGCG\n",
    "ACATGGCCGATTTAAAACACGACTGTAAGGACTGATAAACGTGTAGCATTTTCAAGTCTC\n",
    "GTCGCGATGTACAAATATCGTGTTCCCTAGCTCAGGGCGCACGCTAAGGACAAACGGTGT\n",
    "CACCGAATTTTCCAACGGAGGCACACACATCAACGTGCGAGATTTCGTATGTACCCCCAT\n",
    "TGTATTGAGATGGCATCTGCTCCGAACGTTGAGATCACGCCAGCACTTACAGAACATTCC\n",
    "TAGTGTGGATCTATTAATAGACGGACTGAAACATTAGGGTGGGAAGTGAGCTATGGCTCA\n",
    "CACCAAGCATCGGTTTCTTCTTGGACGGTGCTGTCCCCACCATTTGTTATTGTGCTCTAG\n",
    "AAACACTATAAAGCCTTTAATAAATTCACCGCTGTCGTATCCAAAAGCCGGGTCTGCCTC\n",
    "CTGATGCGTCTCGCGGCTATGGCTGGGTCACACCCCGACAGTCCAGTACCGGTGGTGCCG\n",
    "GAGATAGTGTCGCAGGCGTTCTATGGAGATGGACGGCCATCCATACCCAGTCAGCAAAAC\n",
    "TACCGATCTCTCGGATATCTGTAGGTGGAGCTATTGTCGATAGCTATAAACCAGACTCGG\n",
    "AGAGTAATATGAAATGGAAGTGAGTGCTGGCGAGGCTTTGTGTACTTGTCTGATTTTGTG\n",
    "TTGATCTA\"\"\"\n",
    "\n",
    "s2 = \"\"\"TGACTCCTCCTTGTAAGTACGCGTAGCCTCCAGGAACTTTTAGGCGAATTGTACGTCACC\n",
    "TCCGGGAGCCGGGCCGGTTGATCCTTTGACAAGTCCTAACCACAGATGTGTCACAACCAA\n",
    "CCCTTGGAAGGGTGCCAGTTAACAAGCGGTAGCAGGACATGAGGACGCGACTGCCGGAAG\n",
    "ACATGACCAGCTTAAAACACAACTGTCGGGACGGATAAACGTACTGTATCCTTGAATCTC\n",
    "GTCGCAGTGTAGAAAAGGCGTTCTCCCTGGTTCAGGGCGCATGCTAGGGATAAACGGTGT\n",
    "AGTTAAAGATGACGAGGGAAGCGTACGCATCGATGCATGTGACTCCGGATGTACCTCGGT\n",
    "TATATTGAGAGGGTATCCGCTCGAGACGTTAAAATCCCGTTAGTATTCTCTGGACATTCT\n",
    "TGACGTGGATCTTTCAAGGCGCGGACTATAGTGGTAGGGCGGGGAGCGACCTATGACTCA\n",
    "CATCAAGCATCAGCTTTCACTTGGACAGAACTGCGTTCACAATTCGTTACCGCACTTTGA\n",
    "AAACATTAGGGAGCTCTTAGTAGATTAGGCGCTGTCGTATCTAAAGGCCAGATCTGTCCT\n",
    "TTGCTGAATCTCGCGGCCATGTCCGTGTGAAGCCCCGACGACTTAAGGTTAGTGGCGCGA\n",
    "AAGATAGGGTCGTAGGCGATCGATGGAGATGGATAGCTATGCGTATCCGTTCTGTGGTAT\n",
    "GCTAAATCTCATAGATAGCTGTGGGTGAAGTTCATATAGACAGCTCTAAGCCACACCCGG\n",
    "GGAATAATATGGAGTGGGAATGAGAGCTGTCGTGGCTTTGTGCACCTGTCGGATCTCCTA\n",
    "TTGATCTG\"\"\"\n",
    "\n",
    "print (R(s1, s2)) #2.32\n",
    "\n",
    "s1 = \"GCAACGCACAACGAAAACCCTTAGGGACTGGATTATTTCGTGATCGTTGTAGTTATTGGAAGTACGGGCATCAACCCAGTT\"\n",
    "s2 = \"TTATCTGACAAAGAAAGCCGTCAACGGCTGGATAATTTCGCGATCGTGCTGGTTACTGGCGGTACGAGTGTTCCTTTGGGT\"\n",
    "print (R(s1, s2)) #1.21\n",
    "\n"
   ]
  },
  {
   "cell_type": "code",
   "execution_count": 21,
   "metadata": {},
   "outputs": [
    {
     "name": "stdout",
     "output_type": "stream",
     "text": [
      "True\n",
      "-1\n"
     ]
    }
   ],
   "source": [
    "s1 = \"\"\"TGATTTCCTTTTGTCATTTTGCCTCGTCGTCAGGAATATTGGGACGAATTGGACTCTACT\n",
    "TCTGTGGGCTGAGCCGGTTCACCCATTGACGAGTGCTAGTCACAGATGAATTACAATGAA\n",
    "CGCTCGAGAAAGTGCTAATAAACGAACACCAGTAACATATGGGGGCGCGGCTGCCGGGCG\n",
    "ACATGGCCGATTTAAAACACGACTGTAAGGACTGATAAACGTGTAGCATTTTCAAGTCTC\n",
    "GTCGCGATGTACAAATATCGTGTTCCCTAGCTCAGGGCGCACGCTAAGGACAAACGGTGT\n",
    "CACCGAATTTTCCAACGGAGGCACACACATCAACGTGCGAGATTTCGTATGTACCCCCAT\n",
    "TGTATTGAGATGGCATCTGCTCCGAACGTTGAGATCACGCCAGCACTTACAGAACATTCC\n",
    "TAGTGTGGATCTATTAATAGACGGACTGAAACATTAGGGTGGGAAGTGAGCTATGGCTCA\n",
    "CACCAAGCATCGGTTTCTTCTTGGACGGTGCTGTCCCCACCATTTGTTATTGTGCTCTAG\n",
    "AAACACTATAAAGCCTTTAATAAATTCACCGCTGTCGTATCCAAAAGCCGGGTCTGCCTC\n",
    "CTGATGCGTCTCGCGGCTATGGCTGGGTCACACCCCGACAGTCCAGTACCGGTGGTGCCG\n",
    "GAGATAGTGTCGCAGGCGTTCTATGGAGATGGACGGCCATCCATACCCAGTCAGCAAAAC\n",
    "TACCGATCTCTCGGATATCTGTAGGTGGAGCTATTGTCGATAGCTATAAACCAGACTCGG\n",
    "AGAGTAATATGAAATGGAAGTGAGTGCTGGCGAGGCTTTGTGTACTTGTCTGATTTTGTG\n",
    "TTGATCTA\"\"\"\n",
    "\n",
    "s2 = \"\"\"TGACTCCTCCTTGTAAGTACGCGTAGCCTCCAGGAACTTTTAGGCGAATTGTACGTCACC\n",
    "TCCGGGAGCCGGGCCGGTTGATCCTTTGACAAGTCCTAACCACAGATGTGTCACAACCAA\n",
    "CCCTTGGAAGGGTGCCAGTTAACAAGCGGTAGCAGGACATGAGGACGCGACTGCCGGAAG\n",
    "ACATGACCAGCTTAAAACACAACTGTCGGGACGGATAAACGTACTGTATCCTTGAATCTC\n",
    "GTCGCAGTGTAGAAAAGGCGTTCTCCCTGGTTCAGGGCGCATGCTAGGGATAAACGGTGT\n",
    "AGTTAAAGATGACGAGGGAAGCGTACGCATCGATGCATGTGACTCCGGATGTACCTCGGT\n",
    "TATATTGAGAGGGTATCCGCTCGAGACGTTAAAATCCCGTTAGTATTCTCTGGACATTCT\n",
    "TGACGTGGATCTTTCAAGGCGCGGACTATAGTGGTAGGGCGGGGAGCGACCTATGACTCA\n",
    "CATCAAGCATCAGCTTTCACTTGGACAGAACTGCGTTCACAATTCGTTACCGCACTTTGA\n",
    "AAACATTAGGGAGCTCTTAGTAGATTAGGCGCTGTCGTATCTAAAGGCCAGATCTGTCCT\n",
    "TTGCTGAATCTCGCGGCCATGTCCGTGTGAAGCCCCGACGACTTAAGGTTAGTGGCGCGA\n",
    "AAGATAGGGTCGTAGGCGATCGATGGAGATGGATAGCTATGCGTATCCGTTCTGTGGTAT\n",
    "GCTAAATCTCATAGATAGCTGTGGGTGAAGTTCATATAGACAGCTCTAAGCCACACCCGG\n",
    "GGAATAATATGGAGTGGGAATGAGAGCTGTCGTGGCTTTGTGCACCTGTCGGATCTCCTA\n",
    "TTGATCTG\"\"\"\n",
    "\n",
    "\n",
    "def numTransiciones(cad1,cad2):\n",
    "    ntrans=0\n",
    "    for c1,c2 in zip(cad1,cad2):\n",
    "        if (c1!=c2):\n",
    "            if c1 in \"AG\" and c2 in \"AG\":\n",
    "                ntrans=ntrans+1\n",
    "            elif c1 in \"TC\" and c2 in \"TC\":\n",
    "                ntrans=ntrans+1\n",
    "    return(ntrans)\n",
    "    \n",
    "def numTransversiones(cad1,cad2):\n",
    "    ntransv=0\n",
    "    for c1,c2 in zip(cad1,cad2):\n",
    "        if (c1!=c2):\n",
    "            if c1 in \"AC\" and c2 in \"AC\":\n",
    "                ntransv=ntransv+1\n",
    "            elif c1 in \"GT\" and c2 in \"GT\":\n",
    "                ntransv=ntransv+1\n",
    "            elif c1 in \"AT\" and c2 in \"AT\":\n",
    "                ntransv=ntransv+1\n",
    "            elif c1 in \"GC\" and c2 in \"GC\":\n",
    "                ntransv=ntransv+1\n",
    "    return(ntransv)        \n",
    "        \n",
    "\n",
    "def R(cad1,cad2):\n",
    "    return(numTransiciones(cad1,cad2)/numTransversiones(cad1,cad2))\n",
    "\n",
    "\n",
    "print(round(R(s1,s2),2)==2.32)\n",
    "\n",
    "\n",
    "\n",
    "def numLetrasCoincidenEnTodasCadenas(cad1,cad2,cad3,cad4,cad5):\n",
    "    numIguales=0\n",
    "    listaPos=[]\n",
    "    if (len(cad1)==len(cad2)==len(cad3)==len(cad4)==len(cad5)):\n",
    "        for i in range(len(cad1)):\n",
    "            if (cad1[i]==cad2[i]==cad3[i]==cad4[i]==cad5[i]):\n",
    "                numIguales=numIguales+1\n",
    "                listaPos.append(i)\n",
    "        return(numIguales,listaPos)\n",
    "    else:\n",
    "        return(-1)\n",
    "\n",
    "print(numLetrasCoincidenEnTodasCadenas(\"AAA\",\"AAA\",\"AAAA\",\"AAA\",\"AAA\"))\n"
   ]
  },
  {
   "cell_type": "markdown",
   "metadata": {},
   "source": [
    "## Ejercicio 4.20\n",
    "Nos han pedido implementar una función sumar5() que permita a nuestro programa generar la siguiente salida:\n",
    "\n",
    "\n",
    "\n",
    "\n",
    "Salida esperada: \n",
    "* La suma hasta ahora es 5\n",
    "* La suma hasta ahora es 10\n",
    "* La suma hasta ahora es 15\n",
    "* La suma definitiva es 15\n",
    "\n",
    "Para ello debes completar el programa que te presentamos a continuación\n"
   ]
  },
  {
   "cell_type": "code",
   "execution_count": null,
   "metadata": {
    "collapsed": true
   },
   "outputs": [],
   "source": [
    "def sumar5():\n",
    "   #aquí vuestro código\n",
    "\n",
    "suma=0\n",
    "sumar5()\n",
    "sumar5()\n",
    "sumar5()\n",
    "print(‘La suma definitiva es’, suma)\n"
   ]
  },
  {
   "cell_type": "markdown",
   "metadata": {},
   "source": [
    "## Ejercicio 4.21\n",
    "\n",
    "Diseña una función llamada es_repeticion que reciba una cadena y nos diga si la cadena está formada por la concatenación simple de una cadena consigo misma. \n",
    "\n",
    "Ejemplos de ejecución: \n",
    "* es_repetición(‘abab’)->True\n",
    "* es_repeticion(“CrisCrisCris”) -> False\n",
    "* es_repeticion(“CrisCris”)->True \n",
    "* es repeticion(\"HolaCaracola\")->False\n",
    "* es_repeticion(“Criscris”)-> False "
   ]
  },
  {
   "cell_type": "code",
   "execution_count": null,
   "metadata": {
    "collapsed": true
   },
   "outputs": [],
   "source": [
    "#aquí el código de vuestra función\n",
    "\n",
    "\n",
    "\n",
    "print(es_repetición(\"abab\")) #True\n",
    "print(es_repeticion(\"PythonPythonPython\")) # False\n",
    "print(es_repeticion(\"PythonPython\"))# True \n",
    "print(es_repeticion(\"HolaCaracola\"))# False \n",
    "print(es_repeticion(\"Criscris\"))# False \n"
   ]
  },
  {
   "cell_type": "markdown",
   "metadata": {},
   "source": [
    "## Ejercicio 4.22\n",
    "Modifica el código del ejercicio anterior para que ahora compruebe si la cadena está formada por la concatenación CUALQUIER NÚMERO DE VECES de una cadena consigo misma, y que además ignore mayúsculas y minúsculas. \n",
    "\n",
    "Ejemplos de ejecución: \n",
    "* es_repetición(‘abab’)->True\n",
    "* __es_repeticion(“CrisCrisCris”) -> True__\n",
    "* es_repeticion(“CrisCris”)->True \n",
    "* es repeticion(\"HolaCaracola\")->False\n",
    "* __es_repeticion(“CriscrisCrIs”)-> True__ "
   ]
  },
  {
   "cell_type": "code",
   "execution_count": 21,
   "metadata": {},
   "outputs": [
    {
     "name": "stdout",
     "output_type": "stream",
     "text": [
      "aa [1]\n",
      "['a', 'a']\n",
      "True\n",
      "abab [1, 2, 3]\n",
      "['a', 'b', 'a', 'b']\n",
      "['ab', 'ab']\n",
      "True\n",
      "PythonPythonPython [1, 2, 3, 4, 5, 6, 7, 8, 9, 10, 11, 12, 13, 14, 15, 16, 17]\n",
      "['P', 'y', 't', 'h', 'o', 'n', 'P', 'y', 't', 'h', 'o', 'n', 'P', 'y', 't', 'h', 'o', 'n']\n",
      "['Py', 'th', 'on', 'Py', 'th', 'on', 'Py', 'th', 'on']\n",
      "['Pyt', 'hon', 'Pyt', 'hon', 'Pyt', 'hon']\n",
      "['Pyth', 'onPy', 'thon', 'Pyth']\n",
      "['Pytho', 'nPyth', 'onPyt']\n",
      "['Python', 'Python', 'Python']\n",
      "True\n",
      "PythonPython [1, 2, 3, 4, 5, 6, 7, 8, 9, 10, 11]\n",
      "['P', 'y', 't', 'h', 'o', 'n', 'P', 'y', 't', 'h', 'o', 'n']\n",
      "['Py', 'th', 'on', 'Py', 'th', 'on']\n",
      "['Pyt', 'hon', 'Pyt', 'hon']\n",
      "['Pyth', 'onPy', 'thon']\n",
      "['Pytho', 'nPyth']\n",
      "['Python', 'Python']\n",
      "True\n",
      "HolaCaracola [1, 2, 3, 4, 5, 6, 7, 8, 9, 10, 11]\n",
      "['H', 'o', 'l', 'a', 'C', 'a', 'r', 'a', 'c', 'o', 'l', 'a']\n",
      "['Ho', 'la', 'Ca', 'ra', 'co', 'la']\n",
      "['Hol', 'aCa', 'rac', 'ola']\n",
      "['Hola', 'Cara', 'cola']\n",
      "['HolaC', 'araco']\n",
      "['HolaCa', 'racola']\n",
      "['HolaCar']\n",
      "['HolaCara']\n",
      "['HolaCarac']\n",
      "['HolaCaraco']\n",
      "['HolaCaracol']\n",
      "False\n",
      "PythonpYtHon [1, 2, 3, 4, 5, 6, 7, 8, 9, 10, 11]\n",
      "['P', 'y', 't', 'h', 'o', 'n', 'p', 'Y', 't', 'H', 'o', 'n']\n",
      "['Py', 'th', 'on', 'pY', 'tH', 'on']\n",
      "['Pyt', 'hon', 'pYt', 'Hon']\n",
      "['Pyth', 'onpY', 'tHon']\n",
      "['Pytho', 'npYtH']\n",
      "['Python', 'pYtHon']\n",
      "['Pythonp']\n",
      "['PythonpY']\n",
      "['PythonpYt']\n",
      "['PythonpYtH']\n",
      "['PythonpYtHo']\n",
      "False\n"
     ]
    }
   ],
   "source": [
    "#aquí el código de vuestra función\n",
    "\n",
    "def divideCadena(cadena,len_elemento):\n",
    "    l=[]\n",
    "    while(len(cadena)>=len_elemento):\n",
    "        l.append(cadena[0:len_elemento])\n",
    "        cadena=cadena[len_elemento:]\n",
    "    return(l)\n",
    "\n",
    "#print(divideCadena(\"ababab\",2))\n",
    "\n",
    "def es_repeticion(cadena):\n",
    "    cadena=cadena.lower()\n",
    "    puntos_division=list(range(1,len(cadena)))\n",
    "    print(cadena,puntos_division)\n",
    "    for e in puntos_division:\n",
    "        es_repeticion=True\n",
    "        lista=divideCadena(cadena,e)\n",
    "        print(lista)\n",
    "        for i in range(0,len(lista)-1):\n",
    "            if (lista[i]!=lista[i+1]):\n",
    "                es_repeticion=False\n",
    "                break\n",
    "        if (len(lista)>1 and es_repeticion):\n",
    "            return(True)\n",
    "\n",
    "    return(False)\n",
    "\n",
    "\n",
    "\n",
    "\n",
    "\n",
    "print(es_repeticion(\"aa\")) #True\n",
    "print(es_repeticion(\"abab\")) #True\n",
    "print(es_repeticion(\"PythonPythonPython\")) # True\n",
    "print(es_repeticion(\"PythonPython\"))# True \n",
    "print(es_repeticion(\"HolaCaracola\"))# False \n",
    "print(es_repeticion(\"PythonpYtHon\"))# True \n",
    "\n"
   ]
  },
  {
   "attachments": {},
   "cell_type": "markdown",
   "metadata": {},
   "source": [
    "## Ejercicio 4.23 (Examen Marzo 2019)\n",
    "\n",
    "Implementa una función esPerfecto(num) que devuelva True si el argumento pasado como parámetro es un número perfecto, y False en caso contrario.  Si la función recibe un entero menor o igual a 0 debe devolver False. \n",
    "\n",
    "Nota: Un número perfecto es un número natural que es igual a la suma de sus divisores propios positivos (sin contarse él mismo). Así, 6 es un número perfecto porque sus divisores propios son 1, 2 y 3; y 6 = 1 + 2 + 3. Otro número perfecto es el 28: 1+2+4+7+14\n",
    "\n",
    "\n",
    "Ejemplo de ejecución: \n",
    "print(esPerfecto(-1)) #False\n",
    "print(esPerfecto(0)) #False\n",
    "print(esPerfecto(6)) #True\n",
    "print(esPerfecto(28)) #True\n",
    "print(esPerfecto(24))#False\n"
   ]
  },
  {
   "cell_type": "code",
   "execution_count": 6,
   "metadata": {},
   "outputs": [
    {
     "data": {
      "text/plain": [
       "False"
      ]
     },
     "execution_count": 6,
     "metadata": {},
     "output_type": "execute_result"
    }
   ],
   "source": [
    "#aquí va tu código\n",
    "\n",
    "es_perfecto(27)"
   ]
  },
  {
   "cell_type": "markdown",
   "metadata": {},
   "source": [
    "## Ejercicio 4.24\n",
    "Diseña una función que, basándose en la función anterior, imprima todos los números perfectos comprendidos entre 1 y n, siendo n un entero que nos proporciona el usuario. "
   ]
  },
  {
   "cell_type": "code",
   "execution_count": null,
   "metadata": {
    "collapsed": true
   },
   "outputs": [],
   "source": [
    "#aquí va tu código"
   ]
  },
  {
   "cell_type": "markdown",
   "metadata": {},
   "source": [
    "## Ejercicio 4.25\n",
    "Define una función que nos devuelva el número de días que tiene un año determinado. Ten en cuenta que un año es bisiesto si (a) es divisible por 4 y no divisible por 100 o (b) es divisible por 4, por 100 y por 400. \n",
    " \n",
    "num_dias(2002)->365 días\n",
    "num_dias(2004)->366 días\n",
    "num_dias(2000)->366 días\n"
   ]
  },
  {
   "cell_type": "code",
   "execution_count": null,
   "metadata": {
    "collapsed": true
   },
   "outputs": [],
   "source": [
    "#aquí va tu código"
   ]
  },
  {
   "cell_type": "markdown",
   "metadata": {},
   "source": [
    "## Ejercicio 4.26\n",
    "Define una función llamada sumatorio que, dado un número aleatorio de enteros pasados como parámetro, nos devuelva su sumatorio.\n",
    "Nota: aquí el objetivo es que la función pueda aceptar cualquier número de parámetros\n",
    "\n",
    "Ejemplos de llamada: \n",
    "* sumatorio(1,2,3,4) -> devuelve 10\n",
    "* sumatorio(100,200) -> devuelve 300\n",
    "* sumatorio(1,2,3,4,5,6,7,8,9)->devuelve 45\n"
   ]
  },
  {
   "cell_type": "code",
   "execution_count": null,
   "metadata": {
    "collapsed": true
   },
   "outputs": [],
   "source": [
    "#aquí va tu código"
   ]
  },
  {
   "cell_type": "markdown",
   "metadata": {},
   "source": [
    "## Ejercicio 4.27\n",
    "\n",
    "Un oficial de correos ha decidido optimizar el trabajo de envío de telegramas de su oficina. Para ello desea disponer de un programa en Python que corte automáticamente todas las palabras de más de cinco letras a sólo cinco letras. La forma de indicar que una palabra fue cortada es agregando una arroba @. Además, la función debe eliminar todos los espacios en blanco de más. En esta oficina, un punto se especifica como STOP, y un punto y final como STOPSTOP.\n",
    "\n",
    "Por ejemplo, el texto “Llego mañana alrededor de mediodía. Espérame.” se transcribiría “Llego mañan@ alred@ del medio@ STOP Esper@STOPSTOP”. \n",
    "\n",
    "Por otro lado, la oficina cobra un valor por las palabras cortas (10 céntimos de euro) y otro valor por las palabras largas (que deben ser cortadas) (15 céntimos de euro).\n",
    "\n",
    "Se pide: \n",
    "* Escribir la función adaptaTexto(texto,longMaxPal=5,indicador_corte,indicador_punto,indicador_final) que recibe un texto, la longitud máxima de las palabras y el indicador de corte de la palabra, y devuelva la cadena modificada. \n",
    "* Escribir otra función calculaCoste(textoAdaptado, coste_cortas,coste_largas) que reciba el texto adaptado, el coste de las palabras cortadas y el coste de las palabras no cortadas (en céntimos de euro), y devuelva el coste de enviar el telegrama. \n",
    "\n",
    "En ambas funciones, proporciona como valores por defecto de los parámetros los datos de nuestra oficina de correos. \n"
   ]
  },
  {
   "cell_type": "code",
   "execution_count": 14,
   "metadata": {
    "collapsed": true
   },
   "outputs": [],
   "source": [
    "#aquí va tu código"
   ]
  },
  {
   "cell_type": "markdown",
   "metadata": {},
   "source": [
    "## Ejercicio 4.28\n",
    "Escribe una función promedioGT que reciba como parámetro una cadena de ADN y devuelva el % de GT que contiene dicha cadena.\n",
    "\n",
    "Nota: con genomas completos ese porcentaje nos ayuda a discernir a qué especie pertenece ese genoma."
   ]
  },
  {
   "cell_type": "code",
   "execution_count": 1,
   "metadata": {},
   "outputs": [],
   "source": [
    "#aquí va tu código"
   ]
  },
  {
   "attachments": {},
   "cell_type": "markdown",
   "metadata": {},
   "source": [
    "## Ejercicio 4.29 (Examen Marzo 2019)\n",
    "\n",
    "Realiza una función dimeNumSolucionesReales (a,b,c) que reciba como parámetros los tres coeficientes de una ecuación de segundo grado, y devuelva el número de soluciones (0,1 ó 2).  En caso de no pasar el argumento correspondiente a alguno de los parámetros, la función debe asumir un valor por defecto de 0 para ese parámetro.\n",
    " \n",
    "![solucionesEcuacionesSegundoGrado.png] (Fórmula de cálculo de soluciones de una ecuación de segundo grado)\n",
    "\n",
    "Nota: recordad que  el número de soluciones de una ecuación de segundo grado depende del valor del discriminante D = b2 - 4ac.\n",
    "\n",
    "Ejemplos de ejecución: \n",
    "print(dimeNumSolucionesReales (-1,7,-10)) # 2 (5,2)\n",
    "print(dimeNumSolucionesReales (1,-4,4)) # 1 (2)\n",
    "print(dimeNumSolucionesReales (1,-4,7)) #0 (no tiene soluciones reales)\n",
    "print(dimeNumSolucionesReales (c=1, a=1)) # 0 (no tiene soluciones reales)\n",
    "print(dimeNumSolucionesReales (1)) #1 (0)\n",
    "print(dimeNumSolucionesReales (2,4)) #2 (-2,0)\n",
    "\n"
   ]
  },
  {
   "cell_type": "code",
   "execution_count": null,
   "metadata": {},
   "outputs": [],
   "source": [
    "#aquí va tu código"
   ]
  },
  {
   "cell_type": "markdown",
   "metadata": {},
   "source": [
    "## Ejercicio 4.30 (Examen Marzo 2019)\n",
    "\n",
    "Implementa una función nDivisores(num) que, dado un entero positivo (>0) pasado como argumento, devuelva el número de divisores enteros de ese número, incluidos el 1 y él mismo.  La función debe devolver -1 si el parámetro no es un entero positivo > 0. \n",
    "\n",
    "Nota: para comprobar si un número es entero, nos han proporcionado esta función, que podéis utilizar si consideráis conveniente: \n",
    "\n",
    "<pre>\n",
    "def esEntero(param):\n",
    "    try:\n",
    "        int(param)\n",
    "        return(float(param)==int(param))\n",
    "    except ValueError:\n",
    "        return(False)\n",
    "</pre>\n",
    "\n",
    "Ejemplos de ejecución: \n",
    "* print(nDivisores(\"a\")) #-1\n",
    "* print(nDivisores(“3”))#2\n",
    "* print(nDivisores(“3.0”)) #-1\n",
    "* print(nDivisores(3.0))#2\n",
    "* print(nDivisores(-5)) #-1\n",
    "* print(nDivisores(0)) #-1\n",
    "* print(nDivisores(1)) #1\n",
    "* print(nDivisores(7)) #2\n",
    "* print(nDivisores(8)) #4\n",
    "* print(nDivisores(4224)) #32\n",
    "* print(nDivisores(3.14)) #-1\n"
   ]
  },
  {
   "cell_type": "code",
   "execution_count": null,
   "metadata": {},
   "outputs": [],
   "source": []
  },
  {
   "attachments": {},
   "cell_type": "markdown",
   "metadata": {},
   "source": [
    "## Ejercicio 4.31\n",
    "Crea una función dameAcronimo, que devuelva una cadena formada por las iniciales que estén en mayúscula de la cadena que se pase como parámetro (primera letra y la letra que haya tras cada espacio). \n",
    "\n",
    "Ejemplos:\n",
    "<pre>\n",
    "print dameAcronimo(“Universidad de Alicante”) #UA \n",
    "print dameAcronimo(“National Aeronautics and Space Administration”) #NASA\n",
    "</pre>"
   ]
  },
  {
   "cell_type": "code",
   "execution_count": null,
   "metadata": {},
   "outputs": [],
   "source": []
  }
 ],
 "metadata": {
  "kernelspec": {
   "display_name": "Python 3",
   "language": "python",
   "name": "python3"
  },
  "language_info": {
   "codemirror_mode": {
    "name": "ipython",
    "version": 3
   },
   "file_extension": ".py",
   "mimetype": "text/x-python",
   "name": "python",
   "nbconvert_exporter": "python",
   "pygments_lexer": "ipython3",
   "version": "3.6.8"
  }
 },
 "nbformat": 4,
 "nbformat_minor": 1
}
