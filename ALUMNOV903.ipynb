{
 "cells": [
  {
   "cell_type": "markdown",
   "metadata": {},
   "source": [
    "# Ejercicios de repaso FP"
   ]
  },
  {
   "cell_type": "markdown",
   "metadata": {},
   "source": [
    "## CÓMO RESOLVER LOS EJERCICIOS\n",
    "A la hora de resolver los ejercicios, es muy importante que, sobre todo al principio, antes de poneros a programar dediquéis unos minutos a pensar en lo que os pide el ejercicio y cómo estructurar el código. Para ello os propongo el siguiente proceso: \n",
    "\n",
    "* Definid, en dos líneas, qué os está pidiendo el ejercicio\n",
    "* Identificad las ENTRADAS del programa y de dónde se obtienen\n",
    "* Identificad qué tiene que PROCESAR el programa\n",
    "* Identificad qué SALIDA tiene que producir el programa\n",
    "\n",
    "Sólo una vez que tenéis claro todo esto os debéis poner a programar. \n",
    "\n",
    "Happy programming! "
   ]
  },
  {
   "cell_type": "markdown",
   "metadata": {},
   "source": [
    "# 3.- STRINGS"
   ]
  },
  {
   "cell_type": "markdown",
   "metadata": {},
   "source": [
    "## Ejercicio 3.0. \n",
    "Muestra la ayuda en el intéprete de la clase string y de sus funciones replace(), split() y find(), y responde a las siguientes preguntas: \n",
    "\n",
    "* ¿Es posible indicar el número máximo de reemplazos que se deben producir en una cadena con el método replace()? ¿Cómo?\n",
    "* ¿Qué utiliza la función split() si no se le pasa nada como separador? ¿Qué diferencia hay entre hacer split() y split(\" \")?\n",
    "* ¿Qué devuelve find si no encuentra la cadena de búsqueda en la cadena original?\n",
    "\n",
    "Nota: el método help() requiere que se le pase un objeto o una cadena como parámetro. \n",
    "* Si se le pasa un objeto, el método imprime sus propiedades (atributos y métodos) con una breve descripción de cada una. \n",
    "* Si se le pasa una cadena, se busca si existe algún módulo, función, clase, método, palabra clave o tópico de documentación con ese nombre, y se imprime la página de ayuda. \n",
    "* Para métodos y clases que hay importar para usar, si se invoca a help con una cadena no hace falta realizar la importación. Sin embargo, si se escribe el nombre de la función sin comillas, sí tiene que estar en memoria para que aparezca la ayuda. Observa el siguiente ejemplo: \n",
    "<pre>\n",
    "from math import *\n",
    "help(pow)\n",
    "</pre>\n",
    "<pre>\n",
    "help('re.compile')\n",
    "</pre>"
   ]
  },
  {
   "cell_type": "code",
   "execution_count": 17,
   "metadata": {},
   "outputs": [
    {
     "name": "stdout",
     "output_type": "stream",
     "text": [
      "Help on built-in function pow in module math:\n",
      "\n",
      "pow(x, y, /)\n",
      "    Return x**y (x to the power of y).\n",
      "\n",
      "Help on function compile in re:\n",
      "\n",
      "re.compile = compile(pattern, flags=0)\n",
      "    Compile a regular expression pattern, returning a Pattern object.\n",
      "\n"
     ]
    }
   ],
   "source": [
    "#help(str)\n",
    "#help(str.replace)\n",
    "#help(str.split)\n",
    "#help(str.find)\n",
    "#help('def')\n",
    "#help('print') #es igual a help(print)\n",
    "from math import *\n",
    "help(pow)\n",
    "\n",
    "help('re.compile')"
   ]
  },
  {
   "cell_type": "markdown",
   "metadata": {},
   "source": [
    "## Ejercicio 3.1 \n",
    "Python está lleno de bromas y guiños, como no podía ser de otro modo en un lenguaje cuyo nombre está inspirado en un grupo de humor inglés. A esas bromas que los diseñadores de lenguajes de programación introducen en sus compiladores o intérpretes se les llama 'Huevos de Pascua'. Uno de los huevos de pascua más conocido de Python es el código que hace que se imprima por pantalla el \"Zen de Python\", i.e. los principios que han guiado el diseño del lenguaje y que siguen guiando cualquier posible modificación. Investiga qué código es el que consigue imprimir dichos principios y crea un programa que imprima el \"Zen de Python\". \n",
    "\n",
    "Nota: \n",
    "Podéis investigar ese y muchos otros huevos de pascua en http://mundogeek.net/archivos/2008/12/07/huevos-de-pascua-en-python/"
   ]
  },
  {
   "cell_type": "code",
   "execution_count": null,
   "metadata": {},
   "outputs": [],
   "source": []
  },
  {
   "cell_type": "markdown",
   "metadata": {
    "collapsed": true
   },
   "source": [
    "## Ejercicio 3.2\n",
    "Escribe un programa que pida una entrada de usuario. A continuación, el programa debe comprobar si el usuario ha introducido un número o un texto. Si es un número, imprimirá si es o no capicúa. Si es un texto, imprimirá si es o no palíndromo. \n",
    "\n",
    "Nota: recordad que la función input() devuelve una cadena. \n",
    "\n",
    "Pista: str.isdigit() te dice si una cadena es o no un número entero válido\n",
    "\n",
    "![Ejemplos de salida](ejemplosalida1.png)\n"
   ]
  },
  {
   "cell_type": "code",
   "execution_count": 6,
   "metadata": {},
   "outputs": [
    {
     "name": "stdout",
     "output_type": "stream",
     "text": [
      "Dime número o palabra: 123456\n",
      "No es capicúa\n"
     ]
    }
   ],
   "source": [
    "#entrada\n",
    "cadena=input(\"Dime número o palabra: \")\n",
    "\n",
    "\n",
    "#procesamiento\n",
    "esPal=True\n",
    "iini=0\n",
    "ifin=len(cadena)-1\n",
    "\n",
    "while (iini<ifin):\n",
    "    if (cadena[iini]!=cadena[ifin]):\n",
    "        esPal=False\n",
    "        break\n",
    "    iini=iini+1\n",
    "    ifin=ifin-1\n",
    "\n",
    "\n",
    "#salida\n",
    "if cadena.isdigit(): \n",
    "    if (esPal):\n",
    "        print(\"Es capicúa\")\n",
    "    else:\n",
    "        print(\"No es capicúa\")\n",
    "else:\n",
    "    if (esPal):\n",
    "        print(\"Es palíndroma\")\n",
    "    else:\n",
    "        print(\"No es palíndroma\")"
   ]
  },
  {
   "cell_type": "code",
   "execution_count": 10,
   "metadata": {},
   "outputs": [
    {
     "name": "stdout",
     "output_type": "stream",
     "text": [
      "4380764792 hola\n",
      "4380764792 hola\n",
      "4380764792 hola\n",
      "4380764792 hola\n"
     ]
    }
   ],
   "source": [
    "cadena=input(\"Dime cadena o número: \")\n",
    "\n",
    "#procesamiento\n",
    "cadenaInvertida=cadena[::-1]\n",
    "esPal=(cadena==cadenaInvertida)\n",
    "\n",
    "#salida\n",
    "if cadena.isdigit(): \n",
    "    if (esPal):\n",
    "        print(\"Es capicúa\")\n",
    "    else:\n",
    "        print(\"No es capicúa\")\n",
    "else:\n",
    "    if (esPal):\n",
    "        print(\"Es palíndroma\")\n",
    "    else:\n",
    "        print(\"No es palíndroma\")"
   ]
  },
  {
   "cell_type": "code",
   "execution_count": 12,
   "metadata": {},
   "outputs": [
    {
     "name": "stdout",
     "output_type": "stream",
     "text": [
      "rac a\n"
     ]
    }
   ],
   "source": [
    "cadena=\"hola caracola\"\n",
    "print(cadena[7:2:-1])"
   ]
  },
  {
   "cell_type": "markdown",
   "metadata": {},
   "source": [
    "## Ejercicio 3.3 (Examen Marzo 2018)\n",
    "Escribe un programa que pida por pantalla un número en base 2 (binario, 0/1). A continuación, el programa deberá pasarlo a base 10 (decimal) e imprimir el resultado por pantalla. \n",
    "\n",
    "Importante: crea el código para que funcione bien para cualquier cadena binaria. Si la cadena contiene algo que no sea 0 y 1, el programa debe imprimir un mensaje de error adecuado y volver a pedir la cadena.  \n",
    "\n",
    "\n",
    "Ejemplos de entrada->salida: \n",
    "* \"1\"->1\n",
    "* \"10\"->2\n",
    "* \"0010111\"->23\n",
    "* \"1011\"->11\n"
   ]
  },
  {
   "cell_type": "code",
   "execution_count": 14,
   "metadata": {},
   "outputs": [
    {
     "name": "stdout",
     "output_type": "stream",
     "text": [
      "Dime binario: 1101\n",
      "13\n"
     ]
    }
   ],
   "source": [
    "binario=input(\"Dime binario: \")\n",
    "exp=len(binario)-1\n",
    "suma=0\n",
    "\n",
    "for c in binario: \n",
    "    if (c==\"1\"):\n",
    "        suma=suma+(2**exp)\n",
    "    exp=exp-1\n",
    "    \n",
    "print(suma)"
   ]
  },
  {
   "cell_type": "code",
   "execution_count": 17,
   "metadata": {},
   "outputs": [
    {
     "name": "stdout",
     "output_type": "stream",
     "text": [
      "Dime binario: 1101\n",
      "13\n"
     ]
    }
   ],
   "source": [
    "#aquí va vuestro código\n",
    "\n",
    "cadena=input(\"Dime binario: \")\n",
    "exp=len(cadena)-1\n",
    "suma=0 #acumulador\n",
    "for i in range(len(cadena)):\n",
    "    suma=suma+int(cadena[i])*2**exp\n",
    "    exp=exp-1\n",
    "print(suma)\n",
    "\n"
   ]
  },
  {
   "cell_type": "markdown",
   "metadata": {},
   "source": [
    "## Ejercicio 3.4\n",
    "Crea un programa que pida por pantalla al usuario su DNI (sin letra) y, a partir de él, calcule la letra del NIF que le corresponde. El programa debe mostrar por pantalla el NIF completo del usuario.\n",
    "\n",
    "Nota: tenéis una explicación del algoritmo necesario para calcular la letra del NIF en http://www.interior.gob.es/web/servicios-al-ciudadano/dni/calculo-del-digito-de-control-del-nif-nie\n",
    "\n",
    "Básicamente, la letra se calcula dividiendo el número por 23 y quedándote con el resto. La letra que equivale a cada número la tienes a continuación:\n",
    "\n",
    "![Cálculo letra NIF](letraNIF.png)\n"
   ]
  },
  {
   "cell_type": "code",
   "execution_count": 1,
   "metadata": {},
   "outputs": [],
   "source": [
    "#Aquí va vuestro código"
   ]
  },
  {
   "cell_type": "markdown",
   "metadata": {},
   "source": [
    "## Ejercicio 3.5\n",
    "\n",
    "Los ficheros FASTA son ficheros de texto cuyo formato de contenido es como sigue: \n",
    "\n",
    "<pre>\n",
    ">SEQUENCE_1 \n",
    "MTEITAAMVKELRESTGAGMMDCKNALSETNGDFDKAVQLLREKGLGKAAKKADRLAAEG\n",
    "LVSVKVSDDFTIAAMRPSYLSYEDLDMTFVENEYKALVAELEKENEERRRLKDPNKPEHK\n",
    "IPQFASRKQLSDAILKEAEEKIKEELKAQGKPEKIWDNIIPGKMNSFIADNSQLDSKLTL\n",
    "MGQFYVMDDKKTVEQVIAEKEKEFGGKIKIVEFICFEVGEGLEKKTEDFAAEVAAQL\n",
    ">SEQUENCE_2\n",
    "SATVSEINSETDFVAKNDQFIALTKDTTAHIQSNSLQSVEELHSSTINGVKFEEYLKSQI\n",
    "ATIGENLVVRRFATLKAGANGVVNGYIHTNGRVGVVIAAACDSAEVASKSRDLLRQICMH\n",
    "</pre>\n",
    "\n",
    "Las secuencias (que pueden ser de proteínas o de ácidos nucleicos) se separan con líneas de cabecera, que comienzan por >, y que proporcionan un nombre y/o un identificador único a la secuencia.  En el ejemplo, se trata de una proteína, y por tanto lo que sigue a la cabecera  (hasta el siguiente >) son letras en mayúsucula que representan los residuos en la proteína: M para metionina, T para treonina, etc. En el caso de tratarse de una secuencia genómica, solo tendríamos alguna de las posibles bases (G, A, T o C) en el caso del ADN, o bien las mismas bases a excepción de U en vez de T para el ARN.\n",
    "\n",
    "Tenéis información detallada de este formato en https://es.wikipedia.org/wiki/Formato_FASTA\n",
    "\n",
    "Se pide implementar un programa que pida al usuario la subsecuencia que quiere buscar en la secuencia seqFASTA, e imprima el número de veces que aparece esa subsecuencia en la secuencia completa. Tened en cuenta que, para que el cálculo se realice correctamente, antes de contar las ocurrencias tenéis que eliminar de seqFASTA las líneas de cabecera, así como eliminar los \\n y los espacios en blanco que generan separaciones artificiales de la secuencia. \n",
    "\n",
    "Nota: recordad que la instrucción repr(cadena) devuelve un string con todos los caracteres ocultos o no imprimibles que contiene marcados. Si la imprimís podréis todo lo que debéis 'limpiar' antes de proceder a la búsqueda de la subcadena.  \n"
   ]
  },
  {
   "cell_type": "code",
   "execution_count": 1,
   "metadata": {},
   "outputs": [],
   "source": [
    "seqFasta=\"\"\"\n",
    ">HSBGPG Human gene for bone gla protein (BGP)\n",
    "GGCAGATTCCCCCTAGACCCGCCCGCACCATGGTCAGGCATGCCCCTCCTCATCGCTGGGCACAGCCCAGAGGGT\n",
    "ATAAACAGTGCTGGAGGCTGGCGGGGCAGGCCAGCTGAGTCCTGAGCAGCAGCCCAGCGCAGCCACCGAGACACC\n",
    "ATGAGAGCCCTCACACTCCTCGCCCTATTGGCCCTGGCCGCACTTTGCATCGCTGGCCAGGCAGGTGAGTGCCCC\n",
    "CACCTCCCCTCAGGCCGCATTGCAGTGGGGGCTGAGAGGAGGAAGCACCATGGCCCACCTCTTCTCACCCCTTTG\n",
    "GCTGGCAGTCCCTTTGCAGTCTAACCACCTTGTTGCAGGCTCAATCCATTTGCCCCAGCTCTGCCCTTGCAGAGG\n",
    "GAGAGGAGGGAAGAGCAAGCTGCCCGAGACGCAGGGGAAGGAGGATGAGGGCCCTGGGGATGAGCTGGGGTGAAC\n",
    "CAGGCTCCCTTTCCTTTGCAGGTGCGAAGCCCAGCGGTGCAGAGTCCAGCAAAGGTGCAGGTATGAGGATGGACC\n",
    "TGATGGGTTCCTGGACCCTCCCCTCTCACCCTGGTCCCTCAGTCTCATTCCCCCACTCCTGCCACCTCCTGTCTG\n",
    "GCCATCAGGAAGGCCAGCCTGCTCCCCACCTGATCCTCCCAAACCCAGAGCCACCTGATGCCTGCCCCTCTGCTC\n",
    "CACAGCCTTTGTGTCCAAGCAGGAGGGCAGCGAGGTAGTGAAGAGACCCAGGCGCTACCTGTATCAATGGCTGGG\n",
    "GTGAGAGAAAAGGCAGAGCTGGGCCAAGGCCCTGCCTCTCCGGGATGGTCTGTGGGGGAGCTGCAGCAGGGAGTG\n",
    "GCCTCTCTGGGTTGTGGTGGGGGTACAGGCAGCCTGCCCTGGTGGGCACCCTGGAGCCCCATGTGTAGGGAGAGG\n",
    "AGGGATGGGCATTTTGCACGGGGGCTGATGCCACCACGTCGGGTGTCTCAGAGCCCCAGTCCCCTACCCGGATCC\n",
    "CCTGGAGCCCAGGAGGGAGGTGTGTGAGCTCAATCCGGACTGTGACGAGTTGGCTGACCACATCGGCTTTCAGGA\n",
    "GGCCTATCGGCGCTTCTACGGCCCGGTCTAGGGTGTCGCTCTGCTGGCCTGGCCGGCAACCCCAGTTCTGCTCCT\n",
    "CTCCAGGCACCCTTCTTTCCTCTTCCCCTTGCCCTTGCCCTGACCTCCCAGCCCTATGGATGTGGGGTCCCCATC\n",
    "ATCCCAGCTGCTCCCAAATAAACTCCAGAAG\n",
    "\"\"\"\n",
    "\n",
    "#aquí va tu código\n"
   ]
  },
  {
   "cell_type": "markdown",
   "metadata": {},
   "source": [
    "## Ejercicio 3.6\n",
    "\n",
    "En genética, el contenido GC se entiende como el porcentaje entre los pares Guanina-Citosina en la molécula de ADN o genoma y el resto de bases. Este estadístico es muy importante debido a que distintas especies tienen distintos porcentajes de GC: desde el 20% en el Plasmodium falciparum hasta el 70% en algunas bacterias. De hecho, en estas últimas, a veces se utiliza para clasificarlas (bacterias con alto vs bajo GC). Conocer este porcentaje nos puede servir por tanto para saber con qué especie estamos tratando (https://en.wikipedia.org/wiki/GC-content#Application_in_systematics). Además, el contenido GC puede indicar porciones del genoma donde, por ejemplo, se debe buscar la secuencia origen de la replicación (oriC) de la especie, es decir, la secuencia que permite la replicación de las células. Por ejemplo, en algunas bacterias como E coli, oriC se encuentra en zonas ‘ricas en AT’\n",
    "\n",
    "Dada la cadena seqFasta, que contiene una secuencia de ADN en formato FASTA, imprime dicho porcentaje GC, redondeado a dos decimales, por pantalla.\n",
    "\n",
    "Algoritmo: \n",
    "![AlgoritmoGC](3-6-gc.png)\n",
    "Solución esperada: El %GC en la cadena es 63.53\n"
   ]
  },
  {
   "cell_type": "code",
   "execution_count": 6,
   "metadata": {},
   "outputs": [],
   "source": [
    "seqFasta=\"\"\"\n",
    ">HSBGPG Human gene for bone gla protein (BGP)\n",
    "GGCAGATTCCCCCTAGACCCGCCCGCACCATGGTCAGGCATGCCCCTCCTCATCGCTGGGCACAGCCCAGAGGGT\n",
    "ATAAACAGTGCTGGAGGCTGGCGGGGCAGGCCAGCTGAGTCCTGAGCAGCAGCCCAGCGCAGCCACCGAGACACC\n",
    "ATGAGAGCCCTCACACTCCTCGCCCTATTGGCCCTGGCCGCACTTTGCATCGCTGGCCAGGCAGGTGAGTGCCCC\n",
    "CACCTCCCCTCAGGCCGCATTGCAGTGGGGGCTGAGAGGAGGAAGCACCATGGCCCACCTCTTCTCACCCCTTTG\n",
    "GCTGGCAGTCCCTTTGCAGTCTAACCACCTTGTTGCAGGCTCAATCCATTTGCCCCAGCTCTGCCCTTGCAGAGG\n",
    "GAGAGGAGGGAAGAGCAAGCTGCCCGAGACGCAGGGGAAGGAGGATGAGGGCCCTGGGGATGAGCTGGGGTGAAC\n",
    "CAGGCTCCCTTTCCTTTGCAGGTGCGAAGCCCAGCGGTGCAGAGTCCAGCAAAGGTGCAGGTATGAGGATGGACC\n",
    "TGATGGGTTCCTGGACCCTCCCCTCTCACCCTGGTCCCTCAGTCTCATTCCCCCACTCCTGCCACCTCCTGTCTG\n",
    "GCCATCAGGAAGGCCAGCCTGCTCCCCACCTGATCCTCCCAAACCCAGAGCCACCTGATGCCTGCCCCTCTGCTC\n",
    "CACAGCCTTTGTGTCCAAGCAGGAGGGCAGCGAGGTAGTGAAGAGACCCAGGCGCTACCTGTATCAATGGCTGGG\n",
    "GTGAGAGAAAAGGCAGAGCTGGGCCAAGGCCCTGCCTCTCCGGGATGGTCTGTGGGGGAGCTGCAGCAGGGAGTG\n",
    "GCCTCTCTGGGTTGTGGTGGGGGTACAGGCAGCCTGCCCTGGTGGGCACCCTGGAGCCCCATGTGTAGGGAGAGG\n",
    "AGGGATGGGCATTTTGCACGGGGGCTGATGCCACCACGTCGGGTGTCTCAGAGCCCCAGTCCCCTACCCGGATCC\n",
    "CCTGGAGCCCAGGAGGGAGGTGTGTGAGCTCAATCCGGACTGTGACGAGTTGGCTGACCACATCGGCTTTCAGGA\n",
    "GGCCTATCGGCGCTTCTACGGCCCGGTCTAGGGTGTCGCTCTGCTGGCCTGGCCGGCAACCCCAGTTCTGCTCCT\n",
    "CTCCAGGCACCCTTCTTTCCTCTTCCCCTTGCCCTTGCCCTGACCTCCCAGCCCTATGGATGTGGGGTCCCCATC\n",
    "ATCCCAGCTGCTCCCAAATAAACTCCAGAAG\n",
    "\"\"\"\n",
    "\n",
    "#aquí vuestro código\n"
   ]
  },
  {
   "cell_type": "markdown",
   "metadata": {},
   "source": [
    "## Ejercicio 3.7\n",
    "\n",
    "La molécula de ADN tiene una forma de doble hélice, cada una yendo en dirección opuesta a la otra. El orden en secuencia de los nucleótidos determina lo que conocemos como estructura primaria de ADN. La doble hélice se forma gracias a la complementariedad de las bases A y T, por un lado, y C y G por el otro. Hablamos de estructura secundaria cuando nos referimos a que las bases A y T son complementarias, y a que C y G también. Por estructura terciaria entendemos cómo se unen estas bases a la estructura principal que las soporta y forma una doble hélice en forma de espiral. \n",
    "\n",
    "![Reversecomplement](3-8-rc.png)\n",
    "\n",
    "<img src=\"https://upload.wikimedia.org/wikipedia/commons/a/ae/DNA_chemical_structure_es.svg\" alt=\"ADN\" style=\"width: 300px;\"/>\n",
    "\n",
    "En este ejercicio os pedimos que, dada una secuencia con bases A, C, G o T, imprimáis por pantalla su secuencia inversa complementaria (reverse complementary). Esta secuencia se calcula como los elementos complementarios de cada elemento de la secuencia original ordenados en sentido inverso. \n",
    "\n",
    "Ejemplo: \n",
    "<pre>\n",
    "Secuencia:      GGCAGATTCCCCCTAGACCCGCCCGCACCATGGTCAGGCATGCCCCTCCTCATCGCTGGGCACAGCCCAGAGGGT\n",
    "Complementaria: ACCCTCTGGGCTGTGCCCAGCGATGAGGAGGGGCATGCCTGACCATGGTGCGGGCGGGTCTAGGGGGAATCTGCC \n",
    "</pre>\n",
    "\n",
    "\n",
    "Nota: esta función es útil porque a menudo se quiere buscar un motivo en el ADN y no se sabe en cuál de las dos hebras se puede encontrar. \n",
    "\n"
   ]
  },
  {
   "cell_type": "code",
   "execution_count": 1,
   "metadata": {},
   "outputs": [],
   "source": [
    "# aquí va vuestro código\n",
    "\n"
   ]
  },
  {
   "cell_type": "markdown",
   "metadata": {
    "collapsed": true
   },
   "source": [
    "## Ejercicio 3.8\n",
    "Dada una secuencia de ADN almacenada en la variable seqFASTA, imprime una lista que contenga todas las posiciones de todos los \"canonical donor splice site candidates\" en la secuencia. \n",
    "\n",
    "Nota: los splice site candidates se caracterizan por empezar por la subcadena \"GT\". \n",
    "\n",
    "Pseodocódigo: \n",
    "<pre>\n",
    "Mientras no hayas recorrido toda la secuencia con tu búsqueda\n",
    "    Busca en la secuencia la siguiente ocurrencia de la cadena GT\n",
    "    Si la encuentras: imprime la posicion donde la has encontrado\n",
    "</pre>"
   ]
  },
  {
   "cell_type": "code",
   "execution_count": null,
   "metadata": {
    "collapsed": true
   },
   "outputs": [],
   "source": [
    "seqFasta=\"\"\"\n",
    ">HSBGPG Human gene for bone gla protein (BGP)\n",
    "GGCAGATTCCCCCTAGACCCGCCCGCACCATGGTCAGGCATGCCCCTCCTCATCGCTGGGCACAGCCCAGAGGGT\n",
    "ATAAACAGTGCTGGAGGCTGGCGGGGCAGGCCAGCTGAGTCCTGAGCAGCAGCCCAGCGCAGCCACCGAGACACC\n",
    "ATGAGAGCCCTCACACTCCTCGCCCTATTGGCCCTGGCCGCACTTTGCATCGCTGGCCAGGCAGGTGAGTGCCCC\n",
    "CACCTCCCCTCAGGCCGCATTGCAGTGGGGGCTGAGAGGAGGAAGCACCATGGCCCACCTCTTCTCACCCCTTTG\n",
    "GCTGGCAGTCCCTTTGCAGTCTAACCACCTTGTTGCAGGCTCAATCCATTTGCCCCAGCTCTGCCCTTGCAGAGG\n",
    "GAGAGGAGGGAAGAGCAAGCTGCCCGAGACGCAGGGGAAGGAGGATGAGGGCCCTGGGGATGAGCTGGGGTGAAC\n",
    "CAGGCTCCCTTTCCTTTGCAGGTGCGAAGCCCAGCGGTGCAGAGTCCAGCAAAGGTGCAGGTATGAGGATGGACC\n",
    "TGATGGGTTCCTGGACCCTCCCCTCTCACCCTGGTCCCTCAGTCTCATTCCCCCACTCCTGCCACCTCCTGTCTG\n",
    "GCCATCAGGAAGGCCAGCCTGCTCCCCACCTGATCCTCCCAAACCCAGAGCCACCTGATGCCTGCCCCTCTGCTC\n",
    "CACAGCCTTTGTGTCCAAGCAGGAGGGCAGCGAGGTAGTGAAGAGACCCAGGCGCTACCTGTATCAATGGCTGGG\n",
    "GTGAGAGAAAAGGCAGAGCTGGGCCAAGGCCCTGCCTCTCCGGGATGGTCTGTGGGGGAGCTGCAGCAGGGAGTG\n",
    "GCCTCTCTGGGTTGTGGTGGGGGTACAGGCAGCCTGCCCTGGTGGGCACCCTGGAGCCCCATGTGTAGGGAGAGG\n",
    "AGGGATGGGCATTTTGCACGGGGGCTGATGCCACCACGTCGGGTGTCTCAGAGCCCCAGTCCCCTACCCGGATCC\n",
    "CCTGGAGCCCAGGAGGGAGGTGTGTGAGCTCAATCCGGACTGTGACGAGTTGGCTGACCACATCGGCTTTCAGGA\n",
    "GGCCTATCGGCGCTTCTACGGCCCGGTCTAGGGTGTCGCTCTGCTGGCCTGGCCGGCAACCCCAGTTCTGCTCCT\n",
    "CTCCAGGCACCCTTCTTTCCTCTTCCCCTTGCCCTTGCCCTGACCTCCCAGCCCTATGGATGTGGGGTCCCCATC\n",
    "ATCCCAGCTGCTCCCAAATAAACTCCAGAAG\n",
    "\"\"\"\n",
    "\n",
    "#aquí tu código"
   ]
  },
  {
   "cell_type": "markdown",
   "metadata": {},
   "source": [
    "## Ejercicio 3.9\n",
    "\n",
    "La codificación de proteínas como secuencias de aminoácidos utiliza el vocabulario \n",
    "vocAmino=\"ABCDEFGHIKLMNPQRSTVWXYZ\"\n",
    "\n",
    "Escribe un programa que pida al usuario la proteína (cadena de aminoácidos) y compruebe que todos los aminoácidos son válidos. Si alguno no lo es, debe ir indicando cada carácter inválido y en qué posición se ha encontrado. \n",
    "\n",
    "El programa debe funcionar independientemente de que la cadena se introduzca en mayúsculas o minúsculas.\n",
    "\n",
    "Pseudocódigo: \n",
    "<pre>\n",
    "Para cada carácter en la cadena que representa la proteína:\n",
    "    Si no es un aminoácido:\n",
    "        Imprimir caracter inválido y en qué posición de la cadena se ha encontrado\n",
    "</pre>"
   ]
  },
  {
   "cell_type": "code",
   "execution_count": null,
   "metadata": {
    "collapsed": true
   },
   "outputs": [],
   "source": [
    "vocAmino=\"ABCDEFGHIKLMNPQRSTVWXYZ\"\n",
    "#aquí tu código"
   ]
  },
  {
   "cell_type": "markdown",
   "metadata": {},
   "source": [
    "## Ejercicio 3.10\n",
    "Crea una secuencia de ADN aleatoria de longitud aleatoria entre 150 y 200 bases. \n",
    "\n",
    "Nota: Los secuenciadores de ADN de segunda generación no son buenos leyendo secuencias de ADN muy largas (en los cromosomas humanos cada secuencia tiene del orden de 100.000.000 de bases). En lo que sí son buenos es en leer de manera paralela muchas secuencias cortas (entre 150 y 200 bases). Crea un programa que simule una lectura de esos secuenciadores, lo que los ingleses llaman 'sequence read', y genere una cadena de ADN con bases aleatorias y longitud comprendida entre 150 y 200. \n"
   ]
  },
  {
   "cell_type": "code",
   "execution_count": 2,
   "metadata": {},
   "outputs": [],
   "source": [
    "#aquí va tu código\n"
   ]
  },
  {
   "cell_type": "markdown",
   "metadata": {},
   "source": [
    "## Ejercicio 3.11\n",
    "Implementa el código para encontrar el prefijo más largo de dos cadenas aleatorias de ADN de 20 elementos cada una. \n"
   ]
  },
  {
   "cell_type": "code",
   "execution_count": 1,
   "metadata": {},
   "outputs": [],
   "source": [
    "#aquí va tu código"
   ]
  },
  {
   "cell_type": "markdown",
   "metadata": {},
   "source": [
    "# Ejercicio 3.12\n",
    "    Escribe un programa que vaya generando números aleatorios entre 1 y 1000000 hasta que genere un número capicúa. En ese momento el programa imprimirá el número generado, dirá que es capicúa y mostrará el número de intentos que ha necesitado para generar dicho número. "
   ]
  },
  {
   "cell_type": "code",
   "execution_count": null,
   "metadata": {},
   "outputs": [],
   "source": [
    "#aquí va tu código"
   ]
  },
  {
   "cell_type": "markdown",
   "metadata": {},
   "source": [
    "# Ejercicio 3.13\n",
    "    Escribe un programa que pida un número entero mayor que cero y que devuelva la cadena binaria correspondiente a ese número decimal. "
   ]
  },
  {
   "cell_type": "code",
   "execution_count": 1,
   "metadata": {},
   "outputs": [],
   "source": [
    "#aquí va tu código"
   ]
  },
  {
   "cell_type": "markdown",
   "metadata": {},
   "source": [
    "## Ejercicio 3.14\n",
    "Nuestra hermana ha estado jugando con nuestro código, y ha mezclado la secuencia de ADN con la que estábamos trabajando con su trabajo de literatura sobre El Quijote. \n",
    "Crea una función extraeCadenaADN(texto) que extraiga dicha cadena y la devuelva. \n",
    "\n",
    "Nota: por simplicidad, asumiremos que la cadena se ha insertado como una palabra más dentro del texto.\n"
   ]
  },
  {
   "cell_type": "code",
   "execution_count": null,
   "metadata": {},
   "outputs": [],
   "source": [
    "#aquí vuestro código"
   ]
  },
  {
   "cell_type": "markdown",
   "metadata": {},
   "source": [
    "## Ejercicio 3.15\n",
    "Dado un número decimal (e.g. 19.19() escribe un programa que me diga si la parte a la izquierda y a la derecha de la coma son iguales. "
   ]
  },
  {
   "cell_type": "code",
   "execution_count": null,
   "metadata": {},
   "outputs": [],
   "source": []
  }
 ],
 "metadata": {
  "kernelspec": {
   "display_name": "Python 3",
   "language": "python",
   "name": "python3"
  },
  "language_info": {
   "codemirror_mode": {
    "name": "ipython",
    "version": 3
   },
   "file_extension": ".py",
   "mimetype": "text/x-python",
   "name": "python",
   "nbconvert_exporter": "python",
   "pygments_lexer": "ipython3",
   "version": "3.7.2"
  }
 },
 "nbformat": 4,
 "nbformat_minor": 1
}
