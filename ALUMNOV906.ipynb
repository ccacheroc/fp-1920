{
 "cells": [
  {
   "cell_type": "markdown",
   "metadata": {},
   "source": [
    "# Ejercicios de repaso FP"
   ]
  },
  {
   "cell_type": "markdown",
   "metadata": {},
   "source": [
    "## CÓMO RESOLVER LOS EJERCICIOS\n",
    "A la hora de resolver los ejercicios, es muy importante que, sobre todo al principio, antes de poneros a programar dediquéis unos minutos a pensar en lo que os pide el ejercicio y cómo estructurar el código. Para ello os propongo el siguiente proceso: \n",
    "\n",
    "* Definid, en dos líneas, qué os está pidiendo el ejercicio\n",
    "* Identificad las ENTRADAS del programa y de dónde se obtienen\n",
    "* Identificad qué tiene que PROCESAR el programa\n",
    "* Identificad qué SALIDA tiene que producir el programa\n",
    "\n",
    "Sólo una vez que tenéis claro todo esto os debéis poner a programar. \n",
    "\n",
    "Happy programming! "
   ]
  },
  {
   "cell_type": "markdown",
   "metadata": {},
   "source": [
    "# 6. Ficheros"
   ]
  },
  {
   "cell_type": "markdown",
   "metadata": {},
   "source": [
    "## Ejercicio 6.1.\n",
    "\n",
    "Dado el fichero notasPracticasFP.txt, en formato csv, que contiene las notas de prácticas de FP, se pide crear un diccionario donde cada elemento sea el expediente de cada alumno. La clave será su dni, y el valor será una tupla compuesta por el nombre (una cadena) y el conjunto de notas de ese alumno en las distintas prácticas de programación que va entregando (una lista). \n",
    "\n",
    "Una vez creado el diccionario, el programa debe volcar en el fichero \"medias.csv\" el dni, el nombre y la nota media de cada alumno.  "
   ]
  },
  {
   "cell_type": "code",
   "execution_count": 7,
   "metadata": {},
   "outputs": [],
   "source": [
    "#aquí va vuestro código\n"
   ]
  },
  {
   "cell_type": "markdown",
   "metadata": {},
   "source": [
    "## Ejercicio 6.1.b\n",
    "\n",
    "Modulariza el código del programa anterior de la siguiente forma: "
   ]
  },
  {
   "cell_type": "code",
   "execution_count": 1,
   "metadata": {},
   "outputs": [],
   "source": [
    "def leeFicheroNotas(fich):\n",
    "    pass\n",
    "    #aquí va tu código\n",
    "\n",
    "def escribeFicheroMedias(fich,d):\n",
    "    pass\n",
    "    #aquí va tu código\n",
    "\n",
    "def calculaNotas(fin,fout):\n",
    "    d=leeFicheroNotas(fin)\n",
    "    numNotasTranscritas=escribeFicheroMedias(fout,d)\n",
    "    return(numNotasTranscritas)\n",
    "\n",
    "#programa principal\n",
    "calculaNotas(\"notasPracticasFP.csv\",\"medias.csv\")"
   ]
  },
  {
   "cell_type": "markdown",
   "metadata": {},
   "source": [
    "## Ejercicio 6.1.c\n",
    "Cread una nueva función dameMediaAlumno(fich,dni) que, dado el nombre del fichero que contiene las medias y el dni de un alumno, devuelva su media (un float). "
   ]
  },
  {
   "cell_type": "code",
   "execution_count": null,
   "metadata": {},
   "outputs": [],
   "source": [
    "print(dameMediaAlumno(\"medias.csv\",\"12345678\"))"
   ]
  },
  {
   "cell_type": "markdown",
   "metadata": {},
   "source": [
    "## Ejercicio 6.2.\n",
    "Descarga el fichero romeo.txt y escribe un programa que abra el archivo, lo lea línea a línea y, para cada línea, la divida en una lista de palabras y las añada, si aún no estaban, a una lista. Una vez leídas todas las líneas, ordena y muestra en pantalla las palabras resultantes en orden alfabético. La lista no debe contener repetidos. "
   ]
  },
  {
   "cell_type": "code",
   "execution_count": null,
   "metadata": {
    "collapsed": true
   },
   "outputs": [],
   "source": [
    "#aquí vuestro código"
   ]
  },
  {
   "cell_type": "markdown",
   "metadata": {},
   "source": [
    "## Ejercicio 6.2b\n",
    "Crea ahora una función leeTexto() que reciba como parámetro el nombre del archivo, lo lea de golpe y elimine todos los caracteres de puntuación que no forman parte de las palabras: e.g. .,:!? etc. A continuación, deberá devolver el texto limpio (solo palabras separadas por espacios). \n",
    "\n",
    "Pista: se te puede facilitar mucho el trabajo si utilizas la función translate de cadenas y un iterador. \n",
    "\n",
    "Ejemplo de uso: \n",
    "s=s.translate({ord(i):None for i in '?:!'})\n",
    "\n",
    "Crea otra función cuentaPalabras() que reciba el texto limpio (solo palabras separadas por espacios) y devuelva un diccionario con el número de veces que aparece cada palabra en el texto. \n",
    "\n",
    "Crea por último otra función dimePalMasFrecuente() que, dado el diccionario de palabras y frecuencias, devuelva una tupla con la palabra y la frecuencia de la palabra con frecuencia más alta. \n",
    "\n",
    "Nota: para el fichero romeo-full.txt la palabra más frecuente debe tener 69 ocurrencias. Para el fichero romeo.txt la palabra más frecuente debe tener 3 ocurrencias. \n",
    "\n",
    "Mejora: modifica la última función para que, si hay más de una palabra con la misma frecuencia más alta, me las devuelva todas. \n"
   ]
  },
  {
   "cell_type": "code",
   "execution_count": null,
   "metadata": {},
   "outputs": [],
   "source": [
    "#aquí va vuestro código"
   ]
  },
  {
   "cell_type": "markdown",
   "metadata": {},
   "source": [
    "## Ejercicio 6.3. \n",
    "Evoluciona el programa anterior para que sea capaz de hacer lo mismo con el fichero romeo-full.txt. Este archivo contiene signos de puntuación, mayúsculas, minúsculas, etc., por lo que necesitarás preprocesar las líneas del fichero antes de separar las palabras y guardarlas. En lugar de guardar las palabras en un fichero, guárdalas en un diccionario junto con las veces que aparecen en el fichero. \n",
    "\n",
    "Pista: usa los métodos de cadena lower(), translate(string.punctuation)  y strip(lista_caracteres) para simplificar el código. \n",
    "* cadena_todo_minusculas=cadena.lower()\n",
    "* cadena_sin_punt=cadena.translate(string.punctuation)\n",
    "* cadena_sin_caract=cadena.strip(caracteres)\n"
   ]
  },
  {
   "cell_type": "code",
   "execution_count": null,
   "metadata": {
    "collapsed": true
   },
   "outputs": [],
   "source": [
    "#aquí vuestro código"
   ]
  },
  {
   "cell_type": "markdown",
   "metadata": {},
   "source": [
    "## Ejercicio 6.4.\n",
    "Modifica el programa anterior para que muestre el total de palabras distintas, las diez palabras más comunes y la palabra más larga del fichero. \n",
    "\n",
    "Pista: el método sorted acepta un argumento key= que permite especificar por qué campo se desea ordenar. \n",
    "Así, sorted(d,key=d.get,reverse=True) devuelve una lista de claves (palabras) ordenadas según el número de ocurrencias de cada palabra. \n"
   ]
  },
  {
   "cell_type": "code",
   "execution_count": 16,
   "metadata": {},
   "outputs": [
    {
     "name": "stdout",
     "output_type": "stream",
     "text": [
      "pal distintas:  664\n",
      "['', '2', 'a', 'i', 'o', \"'\", '2,', 'ii', 'he', 'at', 'it', 'is', 'be', 'do', 'my', 'o,', 'of', 'am', 'to', 'me', 'in', 'if', 'as', 'so', 'ay', 'on', 'no', 'or', 'we', 'by', 'an', 'i:', 'and', 'act', 'the', 'sun', 'who', 'her', 'art', 'far', 'not', 'she', 'but', 'it;', 'off', 'yet', 'eye', 'too', 'two', 'all', 'how', 'me!', 'for', 'him', 'air', 'thy', 'or,', 'nor', 'any', 'man', 'new', 'am:', 'had', 'me,', 'are', 'did', 'can', 'let', 'see', 'saw', 'out', 'me?', 'say', 'ere', 'was', 'by?', 'god', 'joy', 'one', \"'it\", 'bud', 'may', 'vow', 'it:', 'it?', 'lay', 'by,', 'why', 'hop', 'his', 'hap', 'that', 'felt', 'but,', 'what', 'fair', 'sun,', 'kill', 'sick', 'pale', 'with', 'thou', 'maid', 'more', 'than', 'she:', 'none', 'wear', 'cast', 'knew', 'says', 'will', \"'tis\", 'some', 'eyes', 'till', 'they', 'were', 'doth', 'airy', 'sing', 'see,', 'upon', 'this', \"o'er\", 'head', 'unto', 'fall', 'back', 'gaze', 'when', 'deny', 'wilt', 'not,', \"i'll\", 'hear', 'name', 'arm,', 'part', 'call', 'rose', 'dear', 'owes', 'doff', 'thee', 'take', 'thus', 'know', 'tell', 'tear', 'word', 'ears', 'have', 'high', 'hard', 'art,', 'find', 'here', 'hold', 'love', 'out,', 'lies', 'look', 'hide', 'from', 'them', 'life', 'lent', 'yet,', 'wert', 'vast', 'sea,', 'such', 'mask', 'else', 'hast', 'fain', 'dost', 'then', 'say,', 'jove', 'won,', 'nay,', 'woo;', 'true', 'been', 'must', 'dark', 'hath', 'moon', 'tips', 'orb,', 'lest', 'all;', 'like', 'good', 'next', 'meet', 'rest', 'come', 'mine', 'gave', 'give', 'wish', 'both', 'stay', 'bent', 'send', 'time', 'foot', 'lord', 'anon', 'want', 'goes', 'lure', 'cave', 'echo', 'make', 'soul', 'hour', 'nine', 'home', 'lets', 'poor', 'silk', 'bird', 'much', 'exit', 'help', 'romeo', 'scene', 'enter', 'jests', 'scars', 'never', 'wound', 'above', 'soft!', 'light', 'east,', 'moon,', 'maid,', 'since', 'green', 'fools', 'lady,', 'love!', 'were!', 'that?', 'bold,', 'stars', 'their', 'head?', 'cheek', 'would', 'shame', 'those', 'lamp;', 'birds', 'think', 'night', 'leans', 'hand!', 'glove', 'hand,', 'might', 'touch', 'speak', 'being', 'sails', 'bosom', 'name;', 'sworn', 'love,', 'shall', 'more,', 'this?', 'foot,', 'face,', 'other', 'name!', 'name?', 'which', 'smell', 'title', 'name,', 'word:', 'enemy', 'thee;', 'drunk', 'words', 'walls', 'place', 'wings', 'these', 'stony', 'dares', 'thee,', 'there', 'peril', 'thine', 'proof', 'world', 'cloak', 'here:', 'ended', 'hate,', 'death', 'whose', 'first', 'shore', 'blush', 'heard', 'dwell', 'form,', 'fain,', \"'ay,'\", 'mayst', 'prove', 'frown', 'else,', 'fond,', 'trust', 'ware,', 'swear', 'wilt,', 'self,', 'well,', 'rash,', 'cease', 'sweet', 'heart', 'leave', 'canst', 'didst', 'again', 'love?', 'thing', 'have:', 'deep;', 'have,', 'nurse', 'calls', 'noise', 'anon,', 'exit,', 'three', 'where', 'rite;', 'come,', '--but', 'suit,', 'times', 'heavy', 'looks', 'hist!', 'lies,', 'mine,', 'name:', 'sound', 'music', 'ears!', 'dear?', 'thee?', 'fail:', 'years', 'stand', 'still', 'stay,', 'gone:', 'bird;', 'sleep', 'eyes,', 'peace', 'rest!', 'hence', 'cell,', 'juliet', 'window', 'yonder', 'arise,', 'grief,', 'vestal', 'livery', 'speaks', 'answer', 'having', 'return', 'there,', 'stars,', 'heaven', 'region', 'stream', 'bright', 'cheek!', 'again,', 'angel!', 'night,', 'winged', 'clouds', 'romeo,', 'romeo!', 'romeo?', 'father', 'refuse', 'longer', 'enemy;', 'though', \"what's\", 'sweet;', 'would,', 'retain', 'myself', 'saint,', 'sound:', 'either', 'camest', 'climb,', 'death,', \"love's\", 'walls;', 'limits', 'cannot', 'murder', 'alack,', 'twenty', 'sweet,', 'enmity', 'sight;', 'better', 'place?', 'prompt', 'pilot;', \"wash'd\", 'maiden', 'spoke:', 'false;', 'laughs', 'gentle', 'truth,', 'light:', 'should', 'pardon', 'impute', 'silver', 'tops--', 'love--', 'swear:', 'night!', 'flower', 'repose', 'within', 'before', 'frank,', 'bounty', 'adieu!', 'nurse!', 'afeard', 'dream,', 'words,', 'indeed', 'follow', 'madam!', 'thee--', 'grief:', 'thrive', 'soul--', 'worse,', 'toward', 'books,', 'school', 'voice,', 'again!', 'aloud;', 'tongue', 'hoarse', 'forgot', 'almost', 'little', 'gyves,', 'thread', 'plucks', 'morrow', 'peace,', 'crave,', 'orchard', 'appears', 'through', 'breaks?', 'envious', 'already', 'speaks:', 'fairest', 'heaven,', 'entreat', 'twinkle', 'spheres', 'mortals', 'capulet', '[aside]', \"call'd,\", 'without', 'hateful', 'myself,', 'because', 'hundred', 'dislike', 'hither,', 'kinsmen', 'swords:', 'against', \"night's\", 'wanting', 'counsel', \"know'st\", 'bepaint', \"lovers'\", 'quickly', \"'havior\", 'cunning', 'strange', 'blessed', 'monthly', 'changes', 'circled', 'believe', \"heart's\", 'sudden;', 'breath,', 'breast!', 'request', 'wouldst', 'within;', 'little,', 'juliet,', 'purpose', 'procure', 'perform', \"mean'st\", 'beseech', 'come:--', 'bondage', 'hoarse,', \"romeo's\", 'tongues', 'softest', \"o'clock\", 'forget,', 'company', 'further', 'twisted', 'liberty', 'parting', 'sorrow,', 'ghostly', 'envious;', 'nothing:', 'daylight', 'glorious', 'thyself,', 'montague', 'counsel?', 'written,', \"tongue's\", 'neither,', 'attempt;', \"found'st\", 'inquire;', 'farthest', 'to-night', 'farewell', \"think'st\", 'perverse', 'strange,', 'confess,', 'passion:', 'yielding', 'likewise', 'variable', 'gracious', 'although', 'contract', 'lightens', \"summer's\", 'ripening', 'exchange', 'faithful', 'withdraw', 'purpose,', 'infinite', 'blessed,', 're-enter', 'fortunes', '[within]', 'thousand', 'retiring', 'remember', 'morning;', \"wanton's\", 'prisoner', \"father's\", \"capulet's\", 'business,', 'messenger', 'wondering', 'bestrides', 'wherefore', 'montague?', 'belonging', 'baptized;', 'stumblest', 'therefore', 'direction', 'adventure', \"swear'st,\", 'perjuries', 'pronounce', 'montague,', 'idolatry,', 'to-night:', 'beauteous', 'to-night?', 'boundless', 'marriage,', 'to-morrow', 'attending', 'brightness', 'perfection', 'henceforth', \"bescreen'd\", 'utterance,', 'wherefore?', \"o'er-perch\", 'prorogued,', 'gentleman,', 'discovered', 'fruit-tree', 'inconstant', 'unadvised,', 'lightning,', 'to-morrow,', 'throughout', 'schoolboys', \"falconer's\", 'repetition', 'forgetting', 'cherishing', 'discourses;', 'lazy-pacing', 'considering', 'merchandise', 'compliment!', 'faithfully:', 'substantial', 'honourable,', 'remembering', 'unsatisfied?', 'satisfaction', 'silver-sweet', \"overheard'st,\", 'tassel-gentle', 'white-upturned', 'loving-jealous', 'flattering-sweet']\n"
     ]
    }
   ],
   "source": [
    "def longpal(palabra):\n",
    "    return(len(palabra))\n",
    "\n",
    "#aquí vuestro código\n",
    "d={}\n",
    "with open(\"romeo-full.txt\") as f:\n",
    "    contenido=f.read().lower().replace(\".\",\" \").replace(\"\\n\",\" \").strip()\n",
    "    palabras=contenido.split(\" \")\n",
    "    for palabra in palabras: \n",
    "        d[palabra]=d.get(palabra,0)+1\n",
    "    print(\"pal distintas: \",len(d))\n",
    "    print(sorted(d,key=longpal))\n",
    "    "
   ]
  },
  {
   "cell_type": "markdown",
   "metadata": {},
   "source": [
    "## Ejercicio 6.5.\n",
    "Como ya explicamos, existe un formato de fichero utilizado para mantener colecciones de mensajes de correo electrónico llamado mbox (https://en.wikipedia.org/wiki/Mbox). Os hemos dejado dos ficheros (uno completo y otro más corto para pruebas) que recogen la actividad de correos de varias personas en el equipo de desarrollo de un proyecto de código abierto. \n",
    "\n",
    "Escribe un programa que cuente el número de mensajes que fueron enviados cada día de la semana y los muestre por pantalla. \n",
    "\n",
    "Pista: el día de la semana se encuentra en la línea From, tercera palabra. \n",
    "\n",
    "E.g. salida para mbox-short.txt: {'Thu':6, 'Sat':1, 'Fri':20}\n",
    " \n"
   ]
  },
  {
   "cell_type": "code",
   "execution_count": null,
   "metadata": {
    "collapsed": true
   },
   "outputs": [],
   "source": [
    "#aquí vuestro código"
   ]
  },
  {
   "cell_type": "markdown",
   "metadata": {},
   "source": [
    "## Ejercicio 6.6.\n",
    "Imprime la lista de usuarios que han enviado correos almacenados en el fichero mbox.txt, junto con el número de mensajes que han enviado. La lista debe estar ordenada de más mensajes enviados a menos. \n",
    "\n",
    "Salida esperada: \n",
    "* cwen@iupui.edu: 5 correos enviados\n",
    "* zqian@umich.edu: 4 correos enviados\n",
    "* david.horwitz@uct.ac.za: 4 correos enviados\n",
    "* ..."
   ]
  },
  {
   "cell_type": "code",
   "execution_count": null,
   "metadata": {
    "collapsed": true
   },
   "outputs": [],
   "source": [
    "#aquí tu código"
   ]
  },
  {
   "cell_type": "markdown",
   "metadata": {},
   "source": [
    "## Ejercicio 6.7.\n",
    "\n",
    "Ya hemos comentado cómo dentro de los ficheros de tipo mbox cada mensaje incluye una serie de líneas generadas por un filtro software estadístico de spam de código abierto llamado DSPAM, https://help.ubuntu.com/community/Postfix/Dspam)\n",
    "\n",
    "\n",
    "La primera línea indica si ese correo es spam (X-DSPAM-Result: Innocent), la segunda indica cuándo fue analizado (X-DSPAM-Processed: Tue Jun 16 20:25:03 2009),  la tercera indica el grado de confianza (entre 0 y 1) en el veredicto (inocente/spam) (X-DSPAM-Confidence: 1.0000) y la cuarta línea indica la probabilidad de que el correo sea spam (X-DSPAM-Probability: 0.0023)\n",
    "\n",
    "Analiza el fichero mbox-spam.txt e imprime el remitente cuyo mensaje tiene la máxima probabilidad de ser SPAM. \n",
    "\n",
    "Salida esperada: louis@media.berkeley.edu: 0.9215 probabilidad de spam"
   ]
  },
  {
   "cell_type": "code",
   "execution_count": null,
   "metadata": {
    "collapsed": true
   },
   "outputs": [],
   "source": [
    "#aquí tu código"
   ]
  },
  {
   "cell_type": "markdown",
   "metadata": {},
   "source": [
    "## Ejercicio 6.8.\n",
    "\n",
    "Para este ejercicio os hemos proporcionado un fichero FASTA real llamado lambda_virus.fa. Tenéis que crear una función leerGenoma que reciba como parámetro el nombre del fichero y devuelva una cadena de AGCTs, sin espacios en blanco ni saltos de línea, que represente el genoma contenido en el fichero. A continuación, definid otra función dimeNumBasesCadaTipo() que reciba como parámetro la cadena de ADN y devuelva el número de As, de C, de T y de G que contiene dicho genoma. Por último, imprimid por pantalla dicho diccionario. Para almacenar los contadores utilizad un diccionario dContadoresBases={\"A\":0,\"T\":0,\"C\":0,\"G\":0}. Como podéis observar, en ese diccionario la clave es la base, y el valor es el contador. En un principio inicializamos todos los contadores a 0. \n",
    "\n",
    "\n",
    "Nota: para bajar un fichero fasta de cualquier genoma completo basta con ir a la web del NCBI \n",
    "    \n",
    "* https://www.ncbi.nlm.nih.gov/genome/\n",
    "* Buscar: organismo. E.g. enterobacteria phage lambda\n",
    "* Pinchar en el link \"Genome Assembly and Annotation report\"\n",
    "* Pinchar sobre la versión que queréis descargar, e.g. \"enterobacteria phage D03\"\n",
    "* En la parte de arriba de la página aparecerá la opción para bajar las secuencias en formato FASTA tanto del genoma como de las proteínas. Tb aparecen otros formatos. \n",
    "\n"
   ]
  },
  {
   "cell_type": "code",
   "execution_count": 6,
   "metadata": {},
   "outputs": [],
   "source": [
    "#aquí va vuestro código\n",
    "\n",
    "\n",
    "def leerGenoma(nombrefich):\n",
    "    cadenaADN=\"\"\n",
    "    return(cadenaADN)\n",
    "\n",
    "def dimeNumBasesCadaTipo(cadenaADN):\n",
    "    d={}\n",
    "    return(d)\n",
    "\n",
    "adn=leerGenoma(\"lambda_virus.fa\")\n",
    "dbases=dimeNumBasesCadaTipo(adn)\n",
    "print(dbases)"
   ]
  },
  {
   "cell_type": "markdown",
   "metadata": {},
   "source": [
    "## Ejercicio 6.9.\n",
    "El formato FASTQ es un formato basado en texto que almacena tanto secuencias biológicas (normalmente secuencias de nucleótidos) como las puntuaciones de calidad correspondientes a cada uno de los elementos de la secuencia (Q). \n",
    "\n",
    "La puntuación de calidad se calcula como Q= $-10*log 10 p$\n",
    "\n",
    "El resultado se interpreta como sigue: \n",
    "* Q=10 -> probabilidad 1 entre 10 de que sea errónea\n",
    "* Q=20 -> probabilidad 1 entre 100 de que la base sea errónea\n",
    "* Q=30 -> probabilidad 1 entre 1000 de que la base sea errónea\n",
    "* ...\n",
    "\n",
    "Tanto la letra de la secuencia como su puntuación de calidad se codifican como un carácter ASCII por brevedad. \n",
    "\n",
    "Este formato se ha convertido recientemente en el formato estándar de facto para almacenar la salida de instrumentos de secuenciación de alto rendimiento como el Illumina Genome Analyzer.\n",
    "\n",
    "Tenéis más información al respecto en https://en.wikipedia.org/wiki/FASTQ_format\n",
    "\n",
    "Un fichero FASTQ normalmente usa cuatro líneas por secuencia: \n",
    "\n",
    "* Línea 1 comienza con un carácter '@' al que le sigue un identificador y una descripción opcional (similar a la línea de título del formato FASTA) \n",
    "* Línea 2 es la secuencia biológica.\n",
    "* Línea 3 comienza con un carácter '+' al que, de manera opcional, le sigue el mismo identificador de secuencia y su descripción\n",
    "* Línea 4 codifica los valores de calidad para la secuencia de la Línea 2, y debe por tanto contener el mismo número de símbolos que letras tiene la secuencia original. \n",
    "\n",
    "Veamos algunos ejemplos de formato FASTQ:\n",
    "<pre>\n",
    "@SEQ_ID\n",
    "GATTTGGGGTTCAAAGCAGTATCGATCAAATAGTAAATCCATTTGTTCAACTCACAGTTT\n",
    "+\n",
    "!''*((((***+))%%%++)(%%%%).1***-+*''))**55CCF>>>>>>CCCCCCC65\n",
    "</pre>\n",
    "\n",
    "Otro ejemplo (extraído del NCBI/EBI Sequence Read Archive) (https://en.wikipedia.org/wiki/Sequence_Read_Archive):\n",
    "\n",
    "<pre>\n",
    "@SRR001666.1 071112_SLXA-EAS1_s_7:5:1:817:345 length=36\n",
    "GGGTGATGGCCGCTGCCGATGGCGTCAAATCCCACC\n",
    "+SRR001666.1 071112_SLXA-EAS1_s_7:5:1:817:345 length=36\n",
    "IIIIIIIIIIIIIIIIIIIIIIIIIIIIII9IG9IC\n",
    "</pre>\n",
    "\n",
    "En la línea 4 de ambos ficheros podemos ver los símbolos ASCII que representan la calidad de cada elemento de la secuencia.  '!' representa la menor calidad posible, mientras que '~' representa la mayor calidad posible. \n",
    "La secuencia completa de caracteres ASCII que representan la calidad, ordenados de menos calidad a más, es como sigue:\n",
    "<pre>\n",
    "!\"#$%&'()*+,-./0123456789:;<=>?@ABCDEFGHIJKLMNOPQRSTUVWXYZ[\\]^_`abcdefghijklmnopqrstuvwxyz{|}~\n",
    "</pre>\n",
    "\n",
    "Estos caracteres son una codificación ASCII del valor de Q (-10*log en base 10 de p). La transformación se realiza redondeando Q al entero más cercano y sumándole 33. A continuación se convierte el número en el carácter correspondiente a ese código ASCII. Eg, la ! se corresponde al ASCII 33, o, lo que es lo mismo, a Q=0 (calidad muy baja). la A se corresponde al número 65, i.e. Q=32 (aproximadamente una posibilidad entre mil, i.e. un uno seguido de tres ceros, de que la base sea errónea). El gorro de la ñ se corresponde con el valor 126 (Q=93), i.e. 1 posibilidad en 100000000 (1 uno seguido de 9 ceros) de que esa base sea errónea.  (https://es.wikipedia.org/wiki/ASCII)\n",
    "\n",
    "Se pide que creéis una función dameLecturaFASTQ(nombreFich) que devuelva mediante una lista la primera lectura (read, el primer grupo de cuatro líneas) de un fichero FASTQ. Para probar la función, utilizaremos el fichero SRR835775_1.first3.fastq que tenéis en el Moodle. De esas cuatro líneas de momento nos interesan solo la segunda (la secuencia) y la cuarta (la calidad de cada base). Ambas líneas deben estar limpias de espacios en blanco y saltos de línea.  A continuación, imprimid por pantalla cada base identificada junto con su calidad de la identificación. PPara ayudaros, os proporciono dos funciones: ascii2Q convierte el código ASCII contenido en el fichero en el valor entero correspondiente a Q. QtoAscii hace la operación inversa, i.e. convierte un valor entero Q en el código ASCII que lo codifica.  "
   ]
  },
  {
   "cell_type": "code",
   "execution_count": 15,
   "metadata": {},
   "outputs": [
    {
     "name": "stdout",
     "output_type": "stream",
     "text": [
      "0.5\n"
     ]
    }
   ],
   "source": [
    "#Bajada en MAC desde una URL de un fichero .fastq con sequencing reads con sus correspondientes valores de calidad para cada base\n",
    "#!curl http://d28rh4a8wq0iu5.cloudfront.net/ads1/data/SRR835775_1.first1000.fastq > SRR835775_1.first1000.fastq\n",
    "#en UNIX sería con el wget\n",
    "def ascii2Q(codAsciiQ):\n",
    "    \"\"\"\n",
    "    Convierte el carácter ASCII de calidad de una base en el número Q redondeado\n",
    "    \"\"\"\n",
    "    return(ord(codAsciiQ)-33)\n",
    "\n",
    "def Q2Ascii(Q):\n",
    "    \"\"\"\n",
    "    Convierte el valor Q  en el carácter ASCII que lo codifica según la codificación Phred 33\n",
    "    \"\"\"\n",
    "    return (chr(int(Q)+33))\n",
    "\n",
    "#aquí va vuestro código\n",
    "\n",
    "\n",
    "def dameLineaCalidadSec(idSec,nomfich):\n",
    "    with open(nomfich) as f:\n",
    "        lineas=f.readlines()\n",
    "        for i,l in enumerate(lineas): \n",
    "            if l.find(idSec)!=-1:\n",
    "                return(lineas[i+1].strip())\n",
    "    return(None)\n",
    "    \n",
    "def calculaGC(sec):\n",
    "    return((sec.count(\"G\")+sec.count(\"C\"))/len(sec))\n",
    "sec=dameLineaCalidadSec(\"@SRR835775.2 2/1\",\"SRR835775_1.first3.fastq\")\n",
    "print(calculaGC(sec))\n",
    "    \n"
   ]
  },
  {
   "cell_type": "markdown",
   "metadata": {},
   "source": [
    "## Ejercicio 6.9b.\n",
    "Modificad el programa anterior para que ahora la función dameLecturaFASTQ(nombreFich) incluya un nuevo parámetro numLectura. Si numLectura==1, se devolverá la primera lectura del fichero (las primeras cuatro líneas), si numLectura==2 se devolverá la segunda lectura del fichero, etc. La forma de devolver la lectura será mediante una lista de cuatro cadenas, una por cada línea que compone la lectura. "
   ]
  },
  {
   "cell_type": "code",
   "execution_count": null,
   "metadata": {},
   "outputs": [],
   "source": [
    "#Bajada en MAC desde una URL de un fichero .fastq con sequencing reads con sus correspondientes valores de calidad para cada base\n",
    "#!curl http://d28rh4a8wq0iu5.cloudfront.net/ads1/data/SRR835775_1.first1000.fastq > SRR835775_1.first1000.fastq\n",
    "#en UNIX sería con el wget\n",
    "def ascii2Q(codAsciiQ):\n",
    "    \"\"\"\n",
    "    Convierte el carácter ASCII de calidad de una base en el número Q redondeado\n",
    "    \"\"\"\n",
    "    return(ord(codAsciiQ)-33)\n",
    "\n",
    "def Q2Ascii(Q):\n",
    "    \"\"\"\n",
    "    Convierte el valor Q  en el carácter ASCII que lo codifica según la codificación Phred 33\n",
    "    \"\"\"\n",
    "    return (chr(int(Q)+33))\n",
    "\n",
    "#aquí va vuestro código"
   ]
  },
  {
   "cell_type": "markdown",
   "metadata": {},
   "source": [
    "## Ejercicio 6.9c.\n",
    "Crea otra función dameCalidadMediaBases(lista) que reciba como parámetro la lectura de la función anterior, y devuelva la calidad Q media de esa lectura (en número)"
   ]
  },
  {
   "cell_type": "code",
   "execution_count": null,
   "metadata": {},
   "outputs": [],
   "source": [
    "#aquí va tu código"
   ]
  },
  {
   "cell_type": "markdown",
   "metadata": {},
   "source": [
    "## Ejercicio 6.9d\n",
    "Utilizando las funciones anteriores, crea una función que devuelva la calidad media de TODAS las secuencias contenidas en el fichero fastq\n",
    "((calidad_s1+calidad_s2...+ calidad_sn)/num_secs)"
   ]
  },
  {
   "cell_type": "code",
   "execution_count": null,
   "metadata": {},
   "outputs": [],
   "source": []
  },
  {
   "cell_type": "markdown",
   "metadata": {},
   "source": [
    "## Ejercicio 6.9e.\n",
    "Genera un fichero secuencia.fa a partir del fichero SRR835775_1.first3.fastq. Como no conocemos de qué organismo es este genoma, pon como línea de cabecera del fichero fa la siguiente línea: \n",
    "\n",
    ">?|?|?|?| Unknown, partial genome\n"
   ]
  },
  {
   "cell_type": "code",
   "execution_count": null,
   "metadata": {},
   "outputs": [],
   "source": [
    "#aquí va vuestro código"
   ]
  },
  {
   "cell_type": "markdown",
   "metadata": {},
   "source": [
    "## Ejercicio 6.10.\n",
    "\n",
    "Con el mismo fichero y las mismas funciones del ejercicio anterior,crea ahora un programa que calcule la calidad media de la primera secuencia de ADN del fichero SRR835775_1.first1000.fastq\n",
    "\n",
    "La solución debería darte 19.02 "
   ]
  },
  {
   "cell_type": "code",
   "execution_count": 33,
   "metadata": {},
   "outputs": [],
   "source": [
    "def ascii2Q(codAsciiQ):\n",
    "    \"\"\"\n",
    "    Convierte el carácter ASCII de calidad de una base en el número Q redondeado\n",
    "    \"\"\"\n",
    "    return(ord(codAsciiQ)-33)\n",
    "\n",
    "def Q2Ascii(Q):\n",
    "    \"\"\"\n",
    "    Convierte el valor Q  en el carácter ASCII que lo codifica según la codificación Phred 33\n",
    "    \"\"\"\n",
    "    return (chr(int(Q)+33))\n",
    "\n",
    "#aquí va tu código"
   ]
  },
  {
   "cell_type": "markdown",
   "metadata": {},
   "source": [
    "## Ejercicio 6.11.\n",
    "\n",
    "Siguiendo con el formato FASQ, crea ahora una función dameCalidadMediaPorIDSecuencia(idsec) que, dado un id de secuencia (líneas que comienzan por arroba, e.g. @SRR835775.16 16/1) devuelva la calidad media de esa secuencia. "
   ]
  },
  {
   "cell_type": "code",
   "execution_count": 5,
   "metadata": {},
   "outputs": [
    {
     "name": "stdout",
     "output_type": "stream",
     "text": [
      "19.02\n",
      "25.03\n",
      "None\n"
     ]
    }
   ],
   "source": [
    "def ascii33toQ(codAsciiQ):\n",
    "    \"\"\"\n",
    "    Convierte el carácter ASCII de calidad de una base en el número Q redondeado\n",
    "    \"\"\"\n",
    "    return(ord(codAsciiQ)-33)\n",
    "\n",
    "def QtoAscii33(Q):\n",
    "    \"\"\"\n",
    "    Convierte el valor Q  en el carácter ASCII que lo codifica según la codificación Phred 33\n",
    "    \"\"\"\n",
    "    return (chr(int(Q)+33))\n",
    "\n",
    "#aquí va tu código\n",
    "\n",
    "def dameCalidadMediaPorIDSecuencia(idsec,fich):\n",
    "    with open(fich) as f:\n",
    "        cadCalidad=\"\"\n",
    "        encontrada=False\n",
    "        for i,linea in enumerate(f):\n",
    "            if (i%4==0): #cabecera\n",
    "                if linea.strip()==idsec.strip(): #esta es la sec que estamos buscando\n",
    "                    encontrada=True\n",
    "            elif(i%4==3): #calidad\n",
    "                if encontrada:\n",
    "                    cadCalidad=linea.strip()\n",
    "                    break\n",
    "        if (encontrada):\n",
    "            total=0\n",
    "            for c in cadCalidad:\n",
    "                total=total+ascii33toQ(c)\n",
    "            return(total/len(cadCalidad))\n",
    "        else:\n",
    "            return(None)\n",
    "\n",
    "print(dameCalidadMediaPorIDSecuencia(\"@SRR835775.1 1/1\",\"lambda_virus_short.fastq\")) #32\n",
    "print(dameCalidadMediaPorIDSecuencia(\"@SRR835775.4 4/1\",\"lambda_virus_short.fastq\")) #32\n",
    "print(dameCalidadMediaPorIDSecuencia(\"@ñlsdfks.16 16/1\",\"lambda_virus_short.fastq\")) #None"
   ]
  },
  {
   "cell_type": "code",
   "execution_count": 6,
   "metadata": {},
   "outputs": [
    {
     "name": "stdout",
     "output_type": "stream",
     "text": [
      "19.02\n",
      "25.03\n",
      "None\n"
     ]
    }
   ],
   "source": [
    "def ascii33toQ(codAsciiQ):\n",
    "    \"\"\"\n",
    "    Convierte el carácter ASCII de calidad de una base en el número Q redondeado\n",
    "    \"\"\"\n",
    "    return(ord(codAsciiQ)-33)\n",
    "\n",
    "def QtoAscii33(Q):\n",
    "    \"\"\"\n",
    "    Convierte el valor Q  en el carácter ASCII que lo codifica según la codificación Phred 33\n",
    "    \"\"\"\n",
    "    return (chr(int(Q)+33))\n",
    "\n",
    "#aquí va tu código\n",
    "\n",
    "def dameCalidadMediaPorIDSecuencia(idsec,fich):\n",
    "    with open(fich) as f:\n",
    "        listaLineas=f.readlines()\n",
    "        cadCalidad=\"\"\n",
    "        for i in range(0,len(listaLineas),4):\n",
    "            if listaLineas[i].strip()==idsec.strip(): #esta es la sec que estamos buscando\n",
    "                cadCalidad=listaLineas[i+3].strip()\n",
    "                break\n",
    "        if (cadCalidad!=\"\"):\n",
    "            total=0\n",
    "            for c in cadCalidad:\n",
    "                total=total+ascii33toQ(c)\n",
    "            return(total/len(cadCalidad))\n",
    "        else:\n",
    "            return(None)\n",
    "\n",
    "print(dameCalidadMediaPorIDSecuencia(\"@SRR835775.1 1/1\",\"lambda_virus_short.fastq\")) #32\n",
    "print(dameCalidadMediaPorIDSecuencia(\"@SRR835775.4 4/1\",\"lambda_virus_short.fastq\")) #32\n",
    "print(dameCalidadMediaPorIDSecuencia(\"@ñlsdfks.16 16/1\",\"lambda_virus_short.fastq\")) #None"
   ]
  },
  {
   "cell_type": "markdown",
   "metadata": {},
   "source": [
    "## Ejercicio 6.12.\n",
    "\n",
    "Vamos ahora a crear una función leerFichFastq(nombrefich) que lea un fichero en formato fastq y devuelva dos listas: una con todas las lecturas (secuencias de bases) y otra con todas las cadenas que representan la calidad codificada en ASCII de cada secuencia. \n",
    "\n",
    "A continuación, cread otra función llamada creaArrayFrec que devuelva una lista donde cada posición se corresponde a la frecuencia de aparición de esa calidad en el fichero. E.g. la posición 0 de la lista contendrá las veces que aparece el valor de calidad 0 (i.e. el carácter !) dentro del fichero. La posición 1 contendrá las veces que aparece el valor de calidad 1 en el fichero, y así sucesivamente. \n",
    "\n",
    "Nota: para calcular el valor Q correspondiente a la codificación ASCII podéis utilizar la llamada a la función q = phred33toQ(base) que os proporcioné en el ejercicio anterior. \n",
    "\n",
    "Nota: si queréis dibujar el histograma correspondiente a la lista de frecuencias devuelta por la función creaArrayFrec() basta con copiar al final de vuestro programa el siguiente código: \n",
    "<pre>\n",
    "%matplotlib inline\n",
    "import matplotlib.pyplot as plt\n",
    "plt.bar(range(len(hist)),hist)\n",
    "plt.show()\n",
    "</pre>\n",
    "\n"
   ]
  },
  {
   "cell_type": "code",
   "execution_count": 8,
   "metadata": {},
   "outputs": [
    {
     "ename": "TypeError",
     "evalue": "'NoneType' object is not iterable",
     "output_type": "error",
     "traceback": [
      "\u001b[0;31m---------------------------------------------------------------------------\u001b[0m",
      "\u001b[0;31mTypeError\u001b[0m                                 Traceback (most recent call last)",
      "\u001b[0;32m<ipython-input-8-fddfb0b9a3ab>\u001b[0m in \u001b[0;36m<module>\u001b[0;34m()\u001b[0m\n\u001b[1;32m     25\u001b[0m \u001b[0;34m\u001b[0m\u001b[0m\n\u001b[1;32m     26\u001b[0m \u001b[0;31m#programa principal\u001b[0m\u001b[0;34m\u001b[0m\u001b[0;34m\u001b[0m\u001b[0m\n\u001b[0;32m---> 27\u001b[0;31m \u001b[0msecuencias\u001b[0m\u001b[0;34m,\u001b[0m\u001b[0mcalidades\u001b[0m\u001b[0;34m=\u001b[0m\u001b[0mleerFichFastq\u001b[0m\u001b[0;34m(\u001b[0m\u001b[0;34m\"SRR835775_1.first1000.fastq\"\u001b[0m\u001b[0;34m)\u001b[0m\u001b[0;34m\u001b[0m\u001b[0m\n\u001b[0m\u001b[1;32m     28\u001b[0m \u001b[0mhist\u001b[0m \u001b[0;34m=\u001b[0m \u001b[0mcreaArrayFrec\u001b[0m\u001b[0;34m(\u001b[0m\u001b[0mcalidades\u001b[0m\u001b[0;34m)\u001b[0m\u001b[0;34m\u001b[0m\u001b[0m\n\u001b[1;32m     29\u001b[0m \u001b[0mprint\u001b[0m\u001b[0;34m(\u001b[0m\u001b[0mh\u001b[0m\u001b[0;34m)\u001b[0m\u001b[0;34m\u001b[0m\u001b[0m\n",
      "\u001b[0;31mTypeError\u001b[0m: 'NoneType' object is not iterable"
     ]
    }
   ],
   "source": [
    "def phred33toQ(codAsciiQ):\n",
    "    \"\"\"\n",
    "    Convierte el carácter ASCII de calidad de una base en el número Q redondeado\n",
    "    \"\"\"\n",
    "    return(ord(codAsciiQ)-33)\n",
    "\n",
    "def Qtophred33(Q):\n",
    "    \"\"\"\n",
    "    Convierte el valor Q  en el carácter ASCII que lo codifica según la codificación Phred 33\n",
    "    \"\"\"\n",
    "    return (chr(int(Q)+33))\n",
    "\n",
    "def leerFichFastq(nombrefich):\n",
    "    \"\"\"\n",
    "    Lee un fich FastQ y devuelve dos listas: una de secuencias, y otra de cadenas de calidad\n",
    "    \"\"\"\n",
    "    pass #aquí va vuestro código\n",
    "\n",
    "def creaArrayFrec(qualityStrings):\n",
    "    \"\"\"\n",
    "    Create a histogram of quality scores\n",
    "    \"\"\"\n",
    "    pass #aquí va vuestro código\n",
    "\n",
    "\n",
    "#programa principal\n",
    "secuencias,calidades=leerFichFastq(\"SRR835775_1.first1000.fastq\")\n",
    "hist = creaArrayFrec(calidades)\n",
    "print(h)\n",
    "\n",
    "\n",
    "%matplotlib inline\n",
    "import matplotlib.pyplot as plt\n",
    "plt.bar(range(len(hist)),hist)\n",
    "plt.show()"
   ]
  },
  {
   "cell_type": "markdown",
   "metadata": {},
   "source": [
    "## Ejercicio 6.13. \n",
    "\n",
    "¿Os acordáis del porcentaje GC? Era el porcentaje de GC con respecto al total de bases de la secuencia. \n",
    "\n",
    "En este ejercicio os pedimos que creéis una función llamada dameListaSecuencias(nombrefich) que lea nuevamente el fichero que le pasemos como parámetro (e.g. \"SRR835775_1.first1000.fastq\"), y devuelva la lista de secuencias leídas (es decir, sólo la línea 2 de cada grupo de 4 que componen una lectura). \n",
    "A continuación, definid otra función que devuelva el %GC (un valor entre 0 y 100) para cada secuencia. Por último, imprimid la lista como un diagrama de líneas copiando y pegando el siguiente código al final de vuestro programa: \n",
    "<pre>\n",
    "%matplotlib inline\n",
    "import matplotlib.pyplot as plt\n",
    "plt.plot(range(len(listaPorcentajesGC)),listaPorcentajesGC) #line plot\n",
    "plt.show()\n",
    "</pre>\n",
    "\n",
    "En el gráfico podréis observar cómo el valor GC es mayor de 0.5, lo cual concuerda con el tipo de genoma -humano- que estamos analizando. \n",
    "\n",
    "\n",
    "\n"
   ]
  },
  {
   "cell_type": "code",
   "execution_count": 27,
   "metadata": {},
   "outputs": [
    {
     "data": {
      "image/png": "[encoded data removed]",
      "text/plain": [
       "<matplotlib.figure.Figure at 0x10a3a4cf8>"
      ]
     },
     "metadata": {},
     "output_type": "display_data"
    }
   ],
   "source": [
    "def leeFichFastq(nombrefich):\n",
    "    \"\"\"\n",
    "    Lee un fich FastQ y devuelve dos listas: una de secuencias, y otra de cadenas de calidad\n",
    "    \"\"\"\n",
    "    pass #aquí va vuestro código\n",
    "\n",
    "def calculaListaGCsPorPosicion(listaSecs,maxLongSec):\n",
    "    \"\"\"\n",
    "    Va mirando cada posición de todos los reads, y cuenta cuántas Gs y cuántas Cs hay en esa posición en el fichero. \n",
    "    Todas las secuencias deben tener la misma longitud (longSec).\n",
    "    Devuelve un array con los porcentajes (entre 0 y 100) de GC en cada posición de las secuencias. \n",
    "    \"\"\"\n",
    "    \n",
    "    pass #aquí va vuestro código      \n",
    "        \n",
    "    \n",
    "#programa principal\n",
    "lsec=leeFichFastq(\"SRR835775_1.first1000.fastq\")\n",
    "listaPorcentajesGC=calculaListaGCsPorPosicion(lsec,100) #100 es la longitud máxima \n",
    "\n",
    "\n",
    "%matplotlib inline\n",
    "import matplotlib.pyplot as plt\n",
    "plt.plot(range(len(listaPorcentajesGC)),listaPorcentajesGC) #line plot\n",
    "plt.show()\n"
   ]
  },
  {
   "cell_type": "markdown",
   "metadata": {},
   "source": [
    "## Ejercicio 6.14. (Opt)\n",
    "\n",
    "Con el mismo fichero que en el ejercicio anterior, cuenta el número de veces que aparece cada base en el fichero. \n",
    "\n",
    "Pista: puedes usar la librería collections y el método update() del objeto Counter. \n",
    "\n",
    "Nota: veremos que el resultado es Counter({'G': 28742, 'C': 28272, 'T': 21836, 'A': 21132, 'N': 18})\n",
    "    \n",
    "N significa que el secuenciador no ha sido capaz de decidir qué base (Q tan baja que no ha podido decidirse). \n"
   ]
  },
  {
   "cell_type": "code",
   "execution_count": 29,
   "metadata": {},
   "outputs": [
    {
     "name": "stdout",
     "output_type": "stream",
     "text": [
      "Counter({'G': 28742, 'C': 28272, 'T': 21836, 'A': 21132, 'N': 18})\n"
     ]
    }
   ],
   "source": [
    "#aquí va vuestro código"
   ]
  },
  {
   "cell_type": "markdown",
   "metadata": {},
   "source": [
    "## Ejercicio 6.15: READ ALIGNMENT PROBLEM\n",
    "\n",
    "Los humanos tenemos 23 pares de cromosomas: 46 en total. \n",
    "Cada cromosoma tiene alrededor de 100 millones de de bases, por lo que la longitud del genoma humano es de miles de millones de bases. En concreto, la longitud del genoma de referencia humano es de alrededor de 3000 millones de bases. \n",
    "\n",
    "![Genoma Humano Impreso: resultado del proyecto Human Genome. Los números representan los cromosomas](genomahumanoimpreso.png)\n",
    "\n",
    "Por otro lado, los secuenciadores de ADN generan miles de millones de secuencias de ADN relativamente cortas que hay que recomponer para conseguir la cadena que representa el genoma original. \n",
    "\n",
    "Recomponer el genoma a partir de las lecturas de los secuenciadores es como hacer un puzzle. La buena noticia es que dos personas no relacionadas tienen un genoma que es similar en un 99.8-99.9%. Por tanto, podemos utilizar un genoma de otra persona como 'imagen de referencia' para recomponer el genoma en el que estamos trabajando.  Además, disponemos de  genomas de referencia para muchísimas especies que han sido publicadas en revistas de prestigio. \n",
    "\n",
    "![Recomponer genoma a partir de genoma de referencia](6-7-recomponerGenoma.png)\n",
    "\n",
    "Para ello, hay que buscar en el genoma de referencia EN QUÉ POSICIÓN se produce el parecido mayor entre cada secuencia generada por el secuenciador y el fichero donde está contenido el genoma de referencia. \n",
    "\n",
    "En este ejercicio queremos saber, dada la lectura \"AGTT\" y el genoma de referencia del organismo Phi X (fichero phix.fa), en qué posiciones (offset) se encuentra esa lectura en el genoma completo. \n",
    "\n"
   ]
  },
  {
   "cell_type": "code",
   "execution_count": 10,
   "metadata": {},
   "outputs": [
    {
     "name": "stdout",
     "output_type": "stream",
     "text": [
      "[1, 26, 397, 511, 615, 1250, 1778, 2027, 2195, 2385, 2529, 3137, 3222, 3712, 4176, 4236, 4257, 4380, 4851, 4903, 4985, 5287]\n"
     ]
    }
   ],
   "source": [
    "#aquí vuestro código\n",
    "def leerGenoma(fich):\n",
    "    with open(fich) as f:\n",
    "        genoma=\"\"\n",
    "        for linea in f: \n",
    "            if not linea.startswith(\">\"):\n",
    "                genoma=genoma+linea.strip()\n",
    "    return(genoma)\n",
    "\n",
    "def leerGenoma2(fich):\n",
    "    with open(fich) as f:\n",
    "        genoma=f.read()\n",
    "        while(\">\") in genoma:\n",
    "            posini=genoma.find(\">\")\n",
    "            posfin=genoma.find(\"\\n\",posini)\n",
    "            genoma=genoma[:posini]+genoma[posfin+1:]\n",
    "        genoma.replace(\"\\n\",\"\")\n",
    "    return(genoma)    \n",
    " \n",
    "def encontrarPosiciones(lectura,genoma):\n",
    "    encontrado=None\n",
    "    posbusq=0\n",
    "    listapos=[]\n",
    "    while encontrado==None or encontrado!=-1:\n",
    "        encontrado=genoma.find(lectura,posbusq)\n",
    "        if (encontrado!=-1):\n",
    "            listapos.append(encontrado)\n",
    "            posbusq=encontrado+1\n",
    "    return(listapos)  \n",
    "\n",
    "genoma=leerGenoma(\"phix.fa\")\n",
    "#print(genoma)\n",
    "lectura=\"AGTT\"\n",
    "print(encontrarPosiciones(lectura,genoma))"
   ]
  },
  {
   "cell_type": "markdown",
   "metadata": {},
   "source": [
    "## Ejercicio 6.16\n",
    "\n",
    "Hay tres motivos por los que, cuando comparamos lecturas reales de los secuenciadores de ADN con el genoma de referencia real no se encuentran coincidencias exactas. Estas tres razones son: \n",
    "* Sequencing errors\n",
    "* Diferencias entre el genoma actual y el genoma de referencia\n",
    "* Las hebras de ADN son de dos hebras, y las lecturas del secuenciador pueden venir de una hebra o de la otra. Por tanto, para ver si existe una coincidencia, hay que comprobar tanto la hebra original como su reversa complementaria. \n",
    "\n",
    "Modifica el ejercicio anterior para que ahora las posiciones se busquen tanto en la cadena original como en su reverso complementario. \n",
    "\n",
    "\n"
   ]
  },
  {
   "cell_type": "code",
   "execution_count": 10,
   "metadata": {},
   "outputs": [],
   "source": [
    "#aquí va vuestro código"
   ]
  },
  {
   "cell_type": "markdown",
   "metadata": {},
   "source": [
    "## Ejercicio 6.17\n",
    "¿Cuántas veces aparece AGGT o su reverso complementario, ACCT, en el genoma del lambda virus? (Fichero lambda_virus.fa).  E.g. si 𝙰𝙶𝙶𝚃 aparece 10 veces y 𝙰𝙲𝙲𝚃 aparece 12 veces en su reverso complementario, deberías reportar 22. "
   ]
  },
  {
   "cell_type": "code",
   "execution_count": 12,
   "metadata": {},
   "outputs": [],
   "source": [
    "#aquí va vuestro código\n"
   ]
  },
  {
   "cell_type": "markdown",
   "metadata": {},
   "source": [
    "## Ejercicio 6.18\n",
    "\n",
    "¿Cuál es la posición (el offset) de la primera ocurrencia de 𝙰𝙲𝚃𝙰𝙰𝙶𝚃 o su reverso complementario en el genoma del Lambda virus? E.g. si la primera ocurrencia de 𝙰𝙲𝚃𝙰𝙰𝙶𝚃 se encuentra en la pos 40 (0-based) y la primera ocurrencia de su reverso complementario 𝙰𝙲𝚃𝚃𝙰𝙶𝚃 se encuentra en la pos 29, debes reportar 29.\n",
    "Nota: la solución debería daros 26028\n",
    "\n",
    "¿Y de 𝙰𝙶𝚃𝙲𝙶𝙰 o su reverso complementario? Nota: la solución debería daros 2784"
   ]
  },
  {
   "cell_type": "code",
   "execution_count": 11,
   "metadata": {},
   "outputs": [],
   "source": [
    "#aquí va vuestro código"
   ]
  },
  {
   "cell_type": "markdown",
   "metadata": {},
   "source": [
    "## Ejercicio 6.19\n",
    "\n",
    "Dado el nombre de un fichero de texto, implementad una función que devuelva una tupla con dos valores: la palabra que más se repite en el fichero, y el número de veces que aparece. \n",
    "\n",
    "E.g. si utilizáis el fichero \"noticia.txt\", la palabra que más se repite es 'de', con ocho ocurrencias. Acordaos de que, antes de contar las palabras, debéis limpiar el contenido del fichero (quitar comas, puntos, \\n, etc.)"
   ]
  },
  {
   "cell_type": "code",
   "execution_count": null,
   "metadata": {
    "collapsed": true
   },
   "outputs": [],
   "source": [
    "#aquí va vuestro código"
   ]
  },
  {
   "cell_type": "markdown",
   "metadata": {},
   "source": [
    "## Ejercicio 6.20a\n",
    "\n",
    "¿Os acordáis del ejercicio de cálculo del %GC? Nos han pedido mejorarlo para que ahora calcule el %GC medio de todas las secuencias contenidas en un fichero FASTA. \n",
    "\n",
    "Escribe el algoritmo que permitiría hacer esto:\n",
    "\n"
   ]
  },
  {
   "cell_type": "markdown",
   "metadata": {},
   "source": [
    "#aquí tu algoritmo en pseudocódigo"
   ]
  },
  {
   "cell_type": "markdown",
   "metadata": {},
   "source": [
    "## Ejercicio 6.20b\n",
    "¡El programador junior que tenemos a nuestro cargo nos ha pedido ayuda porque no consigue hacerlo! Este es el código que tiene hasta ahora: "
   ]
  },
  {
   "cell_type": "code",
   "execution_count": null,
   "metadata": {},
   "outputs": [],
   "source": [
    "def GCMedio(nombre_fich):#FUNCION QUE RECIBE COMO PARAMETRO EL NOMBRE DE UN FICHERO\n",
    "    nombre_fich=open(nombre_fich)#abrimos en fichero\n",
    "    texto=nombre_fich.read()#Leemos el fichero\n",
    "    texto=texto.replace(\"\\n\",\"\")#Eliminamos \\n(espacios)\n",
    "    lista_seq=[\"A\",\"G\",\"T\",\"C\"]#Establezco una lista con las posibles bases para cuando recorra el bucle saber si se contaran o no.\n",
    "    cont_total=0#contador total de todas las bases validas de las secuencias \n",
    "    cont_g=0#contador de guaninas\n",
    "    cont_c=0#contador de citosinas \n",
    "    for i in texto:#recorremos todo el texto\n",
    "        if(i in lista_seq):#si el elemento se encuentra en la lista de bases, el contador ira aumentando contando el numero de bases totales que hay.\n",
    "            cont_total=cont_total+1\n",
    "            if(i==\"G\"):#Si el elemento esta en la lista y ademas es uana G, se añadira al contador de las guaninas para luego sacar el porcentaje\n",
    "                cont_g=cont_g+1\n",
    "            if(i==\"C\"):#Y lo mismo para las citosinas. \n",
    "                cont_c=cont_c+1\n",
    "                \n",
    "    return(cont_total)#devolvemos el valor de bases totales\n",
    "    return(cont_g)#total de guaninas \n",
    "    return(cont_c)#total de citosinas \n",
    "        \n",
    "        \n",
    "    \n",
    "    porc_gc=round((cont_g+cont_c)/cont_total,2)#Calculamos el porcentaje de guanias y citosinas respecto el total \n",
    "    return(porc_gc)#Y aqui esta en resultado"
   ]
  },
  {
   "cell_type": "markdown",
   "metadata": {},
   "source": [
    "## ¿Qué problemas tiene? ¿Cómo los arreglamos?\n",
    "\n",
    "* Aquí problema 1\n",
    "* Aquí problema 2\n",
    "* Aquí problema 3"
   ]
  },
  {
   "cell_type": "code",
   "execution_count": null,
   "metadata": {},
   "outputs": [],
   "source": [
    "#Aquí vuestro código arreglado"
   ]
  },
  {
   "cell_type": "markdown",
   "metadata": {},
   "source": [
    "## Ejercicio 6.21\n",
    "Nos han dado un fichero csv que contiene datos de análisis de distintos pacientes. \n",
    "<pre>\n",
    "fecha;nombre;colesterol;azucar;genero;prot;hem\n",
    "09/04/19 19:33;Lidia;300;79;M;-;5.3\n",
    "10/05/19 20:53;Rocio;400;90;M;+;3\n",
    "11/03/19 10:33;Laura;167;102;M;+;4.1\n",
    "12/03/19 20:33;Lidia;250;100;M;+;3.9\n",
    "13/01/19 13:57;Julio;209;123;H;-;4.3\n",
    "14/04/19 16:45;Dani;199;87;H;-;5\n",
    "25/04/2019 08 19:21;Raquel;187;89;H;+;6.3\n",
    "26/04/19 21:25;Julio;105;150;H;+;5.2\n",
    "</pre>\n",
    "\n",
    "Necesitamos crear un programa que, dado un nombre de paciente, nos imprima en un formato legible para el médico los datos de todos sus análisis. Para ello hemos diseñado la siguiente estrategia: \n",
    "\n",
    "0.- Copia los datos anteriores en un fichero y llámalo datos.csv\n",
    "1.- Cargar todos los datos del fichero en un diccionario en memoria, cuya clave sea el nombre del paciente\n",
    "2.- Pedir el nombre del paciente. El programa debe asumir que el usuario se ha equivocado y seguir pidiendo el nombre mientras no lo encuentre en el diccionario. \n",
    "3.- Imprimir todos los análisis de ese paciente. \n",
    "\n",
    "Para implementar esta estrategia, hemos decidido implementar tres funciones: \n",
    "dic=creaDiccionarioCSV(\"datos.csv\")\n",
    "pac=introducePaciente(dic)\n",
    "imprimeDatosPaciente(pac,dic)\n",
    "\n",
    "Ejemplo de salida del programa: \n",
    "<pre>\n",
    "Nombre del paciente: Raquel\n",
    "\n",
    "Resultados de los analisis de  Raquel \n",
    "\n",
    "------------ 25/04/2019 08 19:21 ------------\n",
    "#Bioquímica sanguínea#\n",
    " Colesterol: 187 mg/dL\n",
    " Glucosa 89 mg/dL \n",
    "\n",
    "#Bioquímica de orina#\n",
    "Proteínas (en orina):  Positivo \n",
    "\n",
    "#Hematimetría#\n",
    "* Hematíes (en sangre):  6.3 10E12/L \n",
    "</pre>\n",
    "\n",
    "Implementa el programa"
   ]
  },
  {
   "cell_type": "code",
   "execution_count": null,
   "metadata": {},
   "outputs": [],
   "source": [
    "## Aquí vuestro código"
   ]
  },
  {
   "cell_type": "markdown",
   "metadata": {},
   "source": [
    "## Ejercicio 6.21b (optativo)\n",
    "Crea otro programa que convierta el fichero csv anterior en un fichero json que pueda ser enviado a otros facultativos. "
   ]
  },
  {
   "cell_type": "code",
   "execution_count": 1,
   "metadata": {},
   "outputs": [
    {
     "data": {
      "text/plain": [
       "'/Users/ccachero/Desktop/SINCRONIZADO_DRIVE/FP2018-2019/AAA-SESIONES-FPGTIS/AAA-EJERCICIOS_REPASO/AA-Jupyter'"
      ]
     },
     "execution_count": 1,
     "metadata": {},
     "output_type": "execute_result"
    }
   ],
   "source": [
    "pwd"
   ]
  },
  {
   "cell_type": "markdown",
   "metadata": {},
   "source": [
    "## Ejercicio 6.22\n",
    "\n",
    "Dar un fichero con lecturas y calidades y pedir que generen el fichero fastq\n"
   ]
  },
  {
   "cell_type": "code",
   "execution_count": null,
   "metadata": {},
   "outputs": [],
   "source": []
  }
 ],
 "metadata": {
  "kernelspec": {
   "display_name": "Python 3",
   "language": "python",
   "name": "python3"
  },
  "language_info": {
   "codemirror_mode": {
    "name": "ipython",
    "version": 3
   },
   "file_extension": ".py",
   "mimetype": "text/x-python",
   "name": "python",
   "nbconvert_exporter": "python",
   "pygments_lexer": "ipython3",
   "version": "3.6.8"
  }
 },
 "nbformat": 4,
 "nbformat_minor": 1
}
