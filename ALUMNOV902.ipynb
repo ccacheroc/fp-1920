{
 "cells": [
  {
   "cell_type": "markdown",
   "metadata": {},
   "source": [
    "# Ejercicios de repaso FP"
   ]
  },
  {
   "cell_type": "markdown",
   "metadata": {},
   "source": [
    "## CÓMO RESOLVER LOS EJERCICIOS\n",
    "A la hora de resolver los ejercicios, es muy importante que, sobre todo al principio, antes de poneros a programar dediquéis unos minutos a pensar en lo que os pide el ejercicio y cómo estructurar el código. Para ello os propongo el siguiente proceso: \n",
    "\n",
    "* Definid, en dos líneas, qué os está pidiendo el ejercicio\n",
    "* Identificad las ENTRADAS del programa y de dónde se obtienen\n",
    "* Identificad qué tiene que PROCESAR el programa\n",
    "* Identificad qué SALIDA tiene que producir el programa\n",
    "* Identificad posibles fuentes de error y cómo queréis protegeros de ellas\n",
    "\n",
    "Sólo una vez que tenéis claro todo esto os debéis poner a programar. \n",
    "\n",
    "Además, en este tema, es importante que penséis para cada ejercicio qué tipo de bucle es el más adecuado: un while o un for. Recordad que el for es útil cuando sabemos el número máximo de veces que se va a ejecutar el bucle. Si no podemos preverlo, probablemente la solución más sencilla sea con un while. \n",
    "\n",
    "Happy programming! "
   ]
  },
  {
   "cell_type": "markdown",
   "metadata": {},
   "source": [
    "# 2.- BUCLES"
   ]
  },
  {
   "cell_type": "markdown",
   "metadata": {},
   "source": [
    "## Ejercicio 2.1\n",
    "Crea un programa que, dado un entero positivo (>=0) introducido por el usuario, imprima por pantalla su factorial. Si introduces un número negativo, el programa debe imprimir un mensaje de error y volver a pedir el número hasta que el usuario introduzca un número entero positivo. Debes realizar todo el ejercicio usando exclusivamente bucles while. \n",
    "Ejemplo de ejecución: \n",
    "![Ejemplos de salida](2-1-salida.png)"
   ]
  },
  {
   "cell_type": "code",
   "execution_count": null,
   "metadata": {},
   "outputs": [],
   "source": []
  },
  {
   "cell_type": "markdown",
   "metadata": {},
   "source": [
    "## Ejercicio 2.2\n",
    "Crea un programa que vaya pidiendo números al usuario hasta que éste escribe 'fin'. El programa sólo debe aceptar números positivos: si el usuario introduce un número negativo, debe volver a pedir la entrada. \n",
    "En ese momento, el programa debe calcular la media y mostrarla por pantalla.\n",
    "\n",
    "![Ejemplos de salida](2-2-salida.png)\n",
    "\n",
    "\n",
    "Vamos a seguir el proceso comentado en clase para estructurar un problema: \n",
    "\n",
    "1.- Entradas: números o cadena \"fin\". ¿Qué implica esto? Que no podemos hacer la conversión directa a float o int de la cadena que devuelve el input\n",
    "\n",
    "2.- Procesamiento: \n",
    "- ir sumando los números que introduzca el usuario (variable acumuladora SUMA)\n",
    "- ir contando los números que introduce el usuario (variable acumuladora CONTADOR)\n",
    "\n",
    "3.- Salida: media=suma/contador\n",
    "\n",
    "4.- Posibles problemas que debemos controlar: \n",
    "- Que el usuario introduzca directamente la palabra \"fin\"-> Debe salir un mensaje indicando que media=None (o que no se puede calcular la media)\n",
    "- Que el usuario introduzca un número negativo: volvemos a pedir el número (vamos a aceptar sólo números positivos)\n",
    "- Que el usuario introduzca algo que no sea ni fin ni un número válido: de momento no lo vamos a controlar (lo veremos en el tema siguiente)"
   ]
  },
  {
   "cell_type": "code",
   "execution_count": 51,
   "metadata": {},
   "outputs": [],
   "source": [
    "#aquí va tu código"
   ]
  },
  {
   "cell_type": "markdown",
   "metadata": {},
   "source": [
    "## Ejercicio 2.3\n",
    "Crea un programa que vaya pidiendo una lista de números como el anterior, y al final imprima por pantalla el máximo y el mínimo de la serie. \n",
    "![Ejemplos de salida](2-3-salida.png)"
   ]
  },
  {
   "cell_type": "code",
   "execution_count": null,
   "metadata": {
    "collapsed": true
   },
   "outputs": [],
   "source": [
    "#aquí va tu código"
   ]
  },
  {
   "cell_type": "markdown",
   "metadata": {},
   "source": [
    "## Ejercicio 2.4\n",
    "  \n",
    "  \n",
    "  Escribe un programa que pida al usuario un número mayor que cero. A continuación, el programa debe imprimir la secuenca de Fibonacci hasta ese número incluido. \n",
    "\n",
    "Nota: la sucesión de Fibonacci es una sucesión infinita de números naturales que comienza con los números 1 y 1, y a partir de ellos, cada término se obtiene sumando los dos anteriores: 1, 1, 2, 3, 5, 8, 13, 21, 34, 55, 89, 144, 233, 377, 610, 987, 1.597  \n",
    "  \n",
    "Para más info, podéis consultar la URL https://es.wikipedia.org/wiki/Sucesi%C3%B3n_de_Fibonacci."
   ]
  },
  {
   "cell_type": "code",
   "execution_count": 55,
   "metadata": {
    "collapsed": true
   },
   "outputs": [],
   "source": [
    "#aquí va tu código"
   ]
  },
  {
   "cell_type": "markdown",
   "metadata": {},
   "source": [
    "## Ejercicio 2.5\n",
    "  \n",
    "Implementa un programa para gestionar el menú de una agenda de visitas médicas. \n",
    "La salida del programa debe ser como sigue: \n",
    "![salida25.png](salida25.png)\n",
    "\n",
    "Si introduce cualquier otro número, debe volver a solicitar la opción\n"
   ]
  },
  {
   "cell_type": "code",
   "execution_count": null,
   "metadata": {},
   "outputs": [],
   "source": [
    "#aquí va tu código"
   ]
  },
  {
   "cell_type": "markdown",
   "metadata": {},
   "source": [
    "## Ejercicio 2.6\n",
    "Vuelve a realizar el ejercicio del factorial utilizando un bucle for en lugar de while. Para el control de entrada de usuario, permite sólo tres intentos de introducción correcta del número. \n"
   ]
  },
  {
   "cell_type": "code",
   "execution_count": null,
   "metadata": {},
   "outputs": [],
   "source": [
    "#tu código va aquí"
   ]
  },
  {
   "cell_type": "markdown",
   "metadata": {},
   "source": [
    "## Ejercicio 2.7.\n",
    "Escribe un programa que pida al usuario un número entero positivo, e imprima por pantalla la suma de todos los números impares desde 0 hasta ese número (sin incluirlo). Utiliza un bucle while. Utiliza otro bucle while para controlar que el usuario está introduciendo un número entero positivo y vuelva a pedirlo si no es así. "
   ]
  },
  {
   "cell_type": "code",
   "execution_count": null,
   "metadata": {},
   "outputs": [],
   "source": [
    "#tu código va aquí "
   ]
  },
  {
   "cell_type": "markdown",
   "metadata": {},
   "source": [
    "# Ejercicio 2.8\n",
    "Repite el ejercicio 2.7 utilizando un bucle for para calcular la suma de los números impares, y otro bucle for para controlar que el usuario tiene como máximo tres intentos para introducir un número entero positivo. "
   ]
  },
  {
   "cell_type": "code",
   "execution_count": 1,
   "metadata": {},
   "outputs": [],
   "source": [
    "#Aquí va tu código"
   ]
  },
  {
   "cell_type": "markdown",
   "metadata": {},
   "source": [
    "# Ejercicio 2.9\n",
    "¿Qué cambio harías en el código anterior para que se sumaran todos los múltiplos de 3?"
   ]
  },
  {
   "cell_type": "code",
   "execution_count": 2,
   "metadata": {},
   "outputs": [],
   "source": [
    "#aquí va tu código"
   ]
  },
  {
   "cell_type": "markdown",
   "metadata": {},
   "source": [
    "# NOTA: EFICIENCIA DE WHILE VS EFICIENCIA DE FOR"
   ]
  },
  {
   "cell_type": "code",
   "execution_count": 17,
   "metadata": {},
   "outputs": [
    {
     "name": "stdout",
     "output_type": "stream",
     "text": [
      "5.82 µs ± 1.77 µs per loop (mean ± std. dev. of 7 runs, 100 loops each)\n",
      "2.64 µs ± 222 ns per loop (mean ± std. dev. of 7 runs, 100 loops each)\n"
     ]
    }
   ],
   "source": [
    "def sumaWhile(num):\n",
    "    total=0\n",
    "    count=1\n",
    "    while count < num: \n",
    "        total += count\n",
    "        count += 2\n",
    "    return(total)\n",
    "    \n",
    "def sumaFor(num):\n",
    "    total=0\n",
    "    for i in range(1, num,2):\n",
    "        total+=i\n",
    "    return(total)\n",
    "\n",
    "%timeit -n 100 sumaWhile(100)\n",
    "%timeit -n 100 sumaFor(100)"
   ]
  },
  {
   "cell_type": "markdown",
   "metadata": {},
   "source": [
    "# Ejercicio 2.10\n",
    "Pide al usuario dos números enteros. A continuación, calcula su Máximo Común Divisor (MCD). Hazlo por la cuenta de la vieja, i.e. encontrando el máximo número que divide a los dos números del usuario. "
   ]
  },
  {
   "cell_type": "code",
   "execution_count": null,
   "metadata": {},
   "outputs": [],
   "source": []
  },
  {
   "cell_type": "markdown",
   "metadata": {},
   "source": [
    "# Ejercicio 2.11\n",
    "Calcula ahora el MCD usando el Algoritmo de Euclides. (https://es.wikipedia.org/wiki/Algoritmo_de_Euclides) "
   ]
  },
  {
   "cell_type": "code",
   "execution_count": null,
   "metadata": {},
   "outputs": [],
   "source": []
  },
  {
   "cell_type": "markdown",
   "metadata": {},
   "source": [
    "¿Cuál de las dos formas (cuenta de la vieja o Euclides) es más eficiente? "
   ]
  },
  {
   "cell_type": "code",
   "execution_count": 15,
   "metadata": {},
   "outputs": [
    {
     "name": "stdout",
     "output_type": "stream",
     "text": [
      "782 ns ± 8.7 ns per loop (mean ± std. dev. of 7 runs, 100 loops each)\n",
      "15.4 µs ± 4.33 µs per loop (mean ± std. dev. of 7 runs, 100 loops each)\n"
     ]
    }
   ],
   "source": [
    "def euclides(num1,num2):\n",
    "\tif num1>num2:\n",
    "\t\ta = num1\n",
    "\t\tb = num2\n",
    "\telse:\n",
    "\t\ta = num2\n",
    "\t\tb = num1\n",
    "\tdivision = divmod(a,b)\n",
    "\twhile division[1]!=0:\n",
    "\t\ta = b\n",
    "\t\tb = division[1]\n",
    "\t\tdivision = divmod(a,b)\n",
    " \n",
    "\treturn b\n",
    "\n",
    "def cuentaDeLaVieja(num1,num2):\n",
    "    for i in range(num1,0, -1 ):\n",
    "        mod1= num1 % i\n",
    "        mod2= num2% i\n",
    "    \n",
    "        if mod1 ==0 and mod2==0:\n",
    "            return(i)\n",
    "        \n",
    "%timeit -n 100 euclides(148,137)\n",
    "%timeit -n 100 cuentaDeLaVieja(148,137)        "
   ]
  },
  {
   "cell_type": "markdown",
   "metadata": {},
   "source": [
    "# Ejercicio 2.12\n",
    "Pide al usuario dos números enteros. Calcula ahora el Mínimo Común Múltiplo. \n",
    "El MCM es el menor número mayor o igual que el mayor de ellos que es divisible por ambos. \n",
    "\n",
    "Nuevamente, comienza haciéndolo por la cuenta de la vieja. \n"
   ]
  },
  {
   "cell_type": "code",
   "execution_count": 3,
   "metadata": {},
   "outputs": [],
   "source": [
    "#Aquí va tu código\n"
   ]
  },
  {
   "cell_type": "markdown",
   "metadata": {},
   "source": [
    "# Ejercicio 2.13\n",
    "Hazlo ahora implementando la fórmula \n",
    "\n",
    "M.C.M(A, B) = (A * B) / M.C.D(A, B)\n",
    "\n",
    "Y comprueba que el resultado es el mismo. "
   ]
  },
  {
   "cell_type": "code",
   "execution_count": null,
   "metadata": {},
   "outputs": [],
   "source": [
    "#Aquí va tu código"
   ]
  },
  {
   "cell_type": "markdown",
   "metadata": {},
   "source": [
    "# Ejercicio 2.14 (Examen Feb 2019)\n",
    "Crea un programa que pida al usuario los términos a,b y c de una ecuación de segundo grado (enteros) y calcule las dos soluciones posibles. El programa debe comprobar que a es un entero distinto de 0. Si a vale 0, el programa debe imprimir un examen avisando del error. "
   ]
  },
  {
   "cell_type": "code",
   "execution_count": null,
   "metadata": {},
   "outputs": [],
   "source": [
    "#tu código va aquí"
   ]
  },
  {
   "cell_type": "markdown",
   "metadata": {},
   "source": [
    "# Ejercicio 2.15 (Examen Feb 2019)\n",
    "Realiza un programa que pida una cantidad (un entero positivo) de euros y imprima un desglose de dicha cantidad en billetes de 10E, billetes de 5E, monedas de 2 euros y monedas de 1E. "
   ]
  },
  {
   "cell_type": "code",
   "execution_count": 4,
   "metadata": {},
   "outputs": [],
   "source": [
    "#tu código va aquí "
   ]
  },
  {
   "cell_type": "markdown",
   "metadata": {},
   "source": [
    "# Ejercicio 2.16 (Examen Feb 2019)\n",
    "Implementa un programa que pida al usuario dos números n (límite inferior) y m (límite superior). A continuación, el programa debe calcular el sumatorio entre esos dos límites (ambos incluidos)"
   ]
  },
  {
   "cell_type": "code",
   "execution_count": null,
   "metadata": {},
   "outputs": [],
   "source": [
    "#aquí va tu código"
   ]
  },
  {
   "cell_type": "markdown",
   "metadata": {},
   "source": [
    "# Ejercicio 2.17 (Examen Feb 2019)\n",
    "Implementa un programa que pida un número por teclado (entero mayor que 1) y nos diga si el número es o no es primo. Recurda que un número primo es un número mayor que 1 que sólo es divisible por 1 y por sí mismo. Mientras el usuario no introduzca un entero mayor que 1, el programa debe seguir pidiendo el número. "
   ]
  },
  {
   "cell_type": "code",
   "execution_count": null,
   "metadata": {},
   "outputs": [],
   "source": [
    "#aquí tu código"
   ]
  }
 ],
 "metadata": {
  "kernelspec": {
   "display_name": "Python 3",
   "language": "python",
   "name": "python3"
  },
  "language_info": {
   "codemirror_mode": {
    "name": "ipython",
    "version": 3
   },
   "file_extension": ".py",
   "mimetype": "text/x-python",
   "name": "python",
   "nbconvert_exporter": "python",
   "pygments_lexer": "ipython3",
   "version": "3.7.2"
  }
 },
 "nbformat": 4,
 "nbformat_minor": 1
}
