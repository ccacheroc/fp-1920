{
 "cells": [
  {
   "cell_type": "markdown",
   "metadata": {},
   "source": [
    "# ALUMNO-V9\n",
    "\n",
    "\n"
   ]
  },
  {
   "cell_type": "markdown",
   "metadata": {
    "collapsed": true
   },
   "source": [
    "# Tema 8: Excepciones"
   ]
  },
  {
   "cell_type": "markdown",
   "metadata": {},
   "source": [
    "## Ejercicio 8.1.\n",
    "\n",
    "Al principio de curso vimos en teoría un programa que nos permitía adivinar un número. \n",
    "Vuelve a implementar dicho programa utilizando excepciones para menejar los errores de 'Valor demasiado pequeño', 'Valor demasiado grande' y 'No es un número entero válido'. Para ello vamos a crear una JERARQUÍA DE EXCEPCIONES: la clase base se llamará Error, y de ella heredarán ErrorDemasiadoPequeño y ErrorDemasiadoGrande. El programa debe seguir pidiéndote números hasta que adivines el valor correcto. \n",
    "\n",
    "Ejemplo de salida: \n",
    "<pre>\n",
    "Introduce un entero entre 1 y 10: w\n",
    "No has introducido un número entero válido. Vuelve a intentarlo. \n",
    "Introduce un entero entre 1 y 10: e\n",
    "No has introducido un número entero válido. Vuelve a intentarlo. \n",
    "Introduce un entero entre 1 y 10: 1\n",
    "Demasiado pequeño. ¡Inténtalo otra vez!\n",
    "\n",
    "Introduce un entero entre 1 y 10: 5\n",
    "Demasiado pequeño. ¡Inténtalo otra vez!\n",
    "\n",
    "Introduce un entero entre 1 y 10: 8\n",
    "Demasiado grande. ¡Inténtalo otra vez!\n",
    "\n",
    "Introduce un entero entre 1 y 10: 7\n",
    "Demasiado grande. ¡Inténtalo otra vez!\n",
    "\n",
    "Introduce un entero entre 1 y 10: 6\n",
    "¡Enhorabuena! Has adivinado el número correctamente en 7 intentos\n",
    "</pre>"
   ]
  },
  {
   "cell_type": "code",
   "execution_count": 12,
   "metadata": {},
   "outputs": [],
   "source": [
    "import random\n",
    "\n",
    "class Error(Exception):\n",
    "   \"\"\"Base class for other exceptions\"\"\"\n",
    "   pass\n",
    "\n",
    "class ValueTooSmallError(Error):\n",
    "   \"\"\"Raised when the input value is too small\"\"\"\n",
    "   pass\n",
    "\n",
    "class ValueTooLargeError(Error):\n",
    "   \"\"\"Raised when the input value is too large\"\"\"\n",
    "   pass\n",
    "\n",
    "#tu código va aquí"
   ]
  },
  {
   "cell_type": "markdown",
   "metadata": {},
   "source": [
    "## Ejercicio 8.2.\n",
    "En la sesión 1 implementamos un ejercicio que leía dos puntos y calculaba la distancia entre ellos ([1.1.](#ejercicio11)). Modifícalo para que gestione los errores en la entrada de usuario mediante el bloque try-except. \n",
    "* El programa debe dar error tan pronto como el usuario introduzca una coordenada errónea (que no sea un entero)\n",
    "* La captura de la excepción debe incluier el tipo concreto de excepción que está siendo capturada\n",
    "* El mensaje que se debe imprimir es el segundo elemento de la tupla que devuelve la llamada a la función sys.exc_info()\n",
    "\n",
    "\n",
    "Ejemplo de salida: \n",
    "<pre>\n",
    "Dime x del punto 1: w\n",
    "invalid literal for int() with base 10: 'w'\n",
    "</pre>"
   ]
  },
  {
   "cell_type": "code",
   "execution_count": 13,
   "metadata": {},
   "outputs": [],
   "source": [
    "#aquí va tu código"
   ]
  },
  {
   "cell_type": "markdown",
   "metadata": {},
   "source": [
    "## Ejercicio 8.3 \n",
    "Modifica ahora el programa anterior para que pida cada coordenada hasta que el usuario introduzca un número. Para ello, crea una función leeNumeroEnteroUsuario(cad) que reciba mediante un parámetro cadena el mensaje que debe imprimir el input. "
   ]
  },
  {
   "cell_type": "code",
   "execution_count": 16,
   "metadata": {},
   "outputs": [
    {
     "ename": "IndentationError",
     "evalue": "expected an indented block (<ipython-input-16-3795615621e1>, line 4)",
     "output_type": "error",
     "traceback": [
      "\u001b[0;36m  File \u001b[0;32m\"<ipython-input-16-3795615621e1>\"\u001b[0;36m, line \u001b[0;32m4\u001b[0m\n\u001b[0;31m    x1=leeNumeroEnteroUsuario(\"Dime x del punto 1: \")\u001b[0m\n\u001b[0m     ^\u001b[0m\n\u001b[0;31mIndentationError\u001b[0m\u001b[0;31m:\u001b[0m expected an indented block\n"
     ]
    }
   ],
   "source": [
    "def leeNumeroEnteroUsuario(cad):\n",
    "    #aquí va tu código\n",
    "            \n",
    "x1=leeNumeroEnteroUsuario(\"Dime x del punto 1: \")\n",
    "y1=leeNumeroEnteroUsuario(\"Dime y del punto 1: \")\n",
    "x2=leeNumeroEnteroUsuario(\"Dime x del punto 2: \")\n",
    "y2=leeNumeroEnteroUsuario(\"Dime y del punto 2: \")\n",
    "longitud=((x2-x1)**2+(y2-y1)**2)**0.5\n",
    "print(\"La longitud de la línea entre los puntos (%d,%d) y (%d,%d) es %f\"%(x1,y1,x2,y2,longitud))"
   ]
  },
  {
   "cell_type": "markdown",
   "metadata": {},
   "source": [
    "## Ejercicio 8.4\n",
    "¿Os acordáis del ejercicio 5b3  en el que pedíamos calcular la masa atómica de una molécula? Rehaz el ejercicio controlando los siguientes errores:\n",
    "* Elemento repetido (e.g. H2-H)\n",
    "* Elemento no existe en diccionario (e.g. Tz1H3)\n",
    "* Molécula mal especificada (e.g. H2_O, NH3, \n",
    "\n",
    "Hazlo: (a) lanzando una excepción genérica con mensaje (Exception) y (b) definiendo previamente una jerarquía de ExcepcionesPesoMolecular. \n",
    "\n"
   ]
  },
  {
   "cell_type": "code",
   "execution_count": 24,
   "metadata": {},
   "outputs": [
    {
     "name": "stdout",
     "output_type": "stream",
     "text": [
      "La masa atómica del amoníaco (N-H3) es  17.0304\n",
      "La masa atómica de la celulosa (C6-H10-O5) es  162.13600000000002\n",
      "La masa atómica de la glucosa (C6-H12-O6) es  180.1512\n",
      "La masa atómica del cloruro de sodio (Na-Cl) es  58.4427\n",
      "La masa atómica de H3 es  3.0237\n",
      "Átomo no existe en el diccionario\n",
      "La masa atómica de N_H3 es  -1\n",
      "Atomo repetido\n",
      "La masa atómica de H3-H2 es  -1\n",
      "Átomo no existe en el diccionario\n",
      "La masa atómica de H2O es  -1\n",
      "Átomo no existe en el diccionario\n",
      "La masa atómica de Tz1-H3  -1\n"
     ]
    }
   ],
   "source": [
    "dm={\n",
    "'H':1.0079, \n",
    "'C':12.01,\n",
    "'O':15.9994,\n",
    "'N':14.0067,\n",
    "'S':31.972071,\n",
    "'P':30.9738,\n",
    "'He':4.0026, \n",
    "'Li':6.941,\n",
    "'Be':9.0122,\n",
    "'Bo':10.811,\n",
    "'F':18.9984,\n",
    "'Ne':20.1797,\n",
    "'Na':22.9897,\n",
    "'Mg':24.305,\n",
    "'Al':26.9815,\n",
    "'Si':28.0855,\n",
    "'Cl':35.453,\n",
    "'K':39.0983,\n",
    "'Ar':39.948,\n",
    "'Ca':40.078,\n",
    "'Sc':44.9559,\n",
    "'Ti':47.867,\n",
    "'V':50.9415,\n",
    "'Cr':51.9961,\n",
    "'Mn':54.938,\n",
    "'Fe':55.845,\n",
    "'Ni':58.6934,\n",
    "'Co':58.9332,\n",
    "'Cu':63.546,\n",
    "'Zn':65.39,\n",
    "'Ga':69.723,\n",
    "'Ge':72.64,\n",
    "'As':74.9216,\n",
    "'Se':78.96,\n",
    "'Br':79.904,\n",
    "'Kr':83.8,\n",
    "'Rb':85.4678,\n",
    "'Sr':87.62,\n",
    "'Y':88.9059,\n",
    "'Zr':91.224,\n",
    "'Nb':92.9064,\n",
    "'Mo':95.94,\n",
    "'Tc':98,\n",
    "'Ru':101.07,\n",
    "'Rh':102.9055,\n",
    "'Pd':106.42,\n",
    "'Ag':107.8682,\n",
    "'Cd':112.411,\n",
    "'In':114.818,\n",
    "'Sn':118.71,\n",
    "'Sb':121.76,\n",
    "'I':126.9045,\n",
    "'Te':127.6,\n",
    "'Xe':131.293,\n",
    "'Cs':132.9055,\n",
    "'Ba':137.327,\n",
    "'La':138.9055,\n",
    "'Ce':140.116,\n",
    "'Pr':140.9077,\n",
    "'Nd':144.24,\n",
    "'Pm':145,\n",
    "'Sm':150.36,\n",
    "'Eu':151.964,\n",
    "'Gd':157.25,\n",
    "'Tb':158.9253,\n",
    "'Dy':162.5,\n",
    "'Ho':164.9303,\n",
    "'Er':167.259,\n",
    "'Tu':168.9342,\n",
    "'Yb':173.04,\n",
    "'Lu':174.967,\n",
    "'Hf':178.49,\n",
    "'Ta':180.9479,\n",
    "'W':183.84,\n",
    "'Re':186.207,\n",
    "'Os':190.23,\n",
    "'Ir':192.217,\n",
    "'Pt':195.078,\n",
    "'Au':196.9665,\n",
    "'Hg':200.59,\n",
    "'Ta':204.3833,\n",
    "'Pb':207.2,\n",
    "'Bi':208.9804,\n",
    "'Po':209,\n",
    "'At':210,\n",
    "'Rd':222,\n",
    "'Fr':223,\n",
    "'Ra':226,\n",
    "'Ac':227,\n",
    "'Pa':231.0359,\n",
    "'Th':232.0381,\n",
    "'Np':237,\n",
    "'U':238.0289,\n",
    "'Am':243,\n",
    "'Pu':244,\n",
    "'Cu':247,\n",
    "'Bk':247,\n",
    "'Cf':251,\n",
    "'Es':252,\n",
    "'Fm':257,\n",
    "'Md':258,\n",
    "'No':259,\n",
    "'Rf':261,\n",
    "'Lr':262,\n",
    "'Db':262,\n",
    "'Bh':264,\n",
    "'Sg':266,\n",
    "'Mt':268,\n",
    "'Hs':277}\n",
    "\n",
    "\n",
    "#Aquí va vuestra función\n",
    "\n",
    "def calcula_masa_atomica(molecula):\n",
    "    pass\n",
    "    \n",
    "print(\"La masa atómica del amoníaco (N-H3) es \",calcula_masa_atomica(\"N-H3\")) #amoníaco: 17.0304\n",
    "print(\"La masa atómica de la celulosa (C6-H10-O5) es \",calcula_masa_atomica(\"C6-H10-O5\")) #celulosa: 162.13600000000002\n",
    "print(\"La masa atómica de la glucosa (C6-H12-O6) es \",calcula_masa_atomica(\"C6-H12-O6\")) #glucosa: 180.1512\n",
    "print(\"La masa atómica del cloruro de sodio (Na-Cl) es \",calcula_masa_atomica(\"Na-Cl\")) #cloruro de sodio: 58.4427\n",
    "print(\"La masa atómica de H3 es \",calcula_masa_atomica(\"H3\")) #prueba cuando solo hay un elemento \n",
    "\n",
    "print(\"La masa atómica de N_H3 es \",calcula_masa_atomica(\"N_H3\")) #separador erróneo    \n",
    "print(\"La masa atómica de H3-H2 es \",calcula_masa_atomica(\"H3-H2\")) #error mismo elemento aparece más de una vez    \n",
    "print(\"La masa atómica de H2O es \",calcula_masa_atomica(\"H2O\")) #error falta separador  \n",
    "print(\"La masa atómica de Tz1-H3 \",calcula_masa_atomica(\"Tz1-H3\")) #error elemento no existe   \n",
    "\n",
    "\n",
    "\n",
    "\n"
   ]
  },
  {
   "cell_type": "markdown",
   "metadata": {},
   "source": [
    "## Ejercicio 8.5\n",
    "\n",
    "Vamos a crear una gestión de menú para un hipotético programa de altas, bajas, modificaciones y consultas de un centro médico. \n",
    "\n",
    "El programa mostrará el menú, y el usuario debe elegir una de las opciones. El programa debe controlar que se introduce un número entero y que ese número está dentro de las opciones válidas. "
   ]
  },
  {
   "cell_type": "code",
   "execution_count": 10,
   "metadata": {},
   "outputs": [
    {
     "name": "stdout",
     "output_type": "stream",
     "text": [
      "1 Altas\n",
      "2 Bajas\n",
      "3 Modificaciones\n",
      "4 Consultas\n",
      "Selecciona opción de menú: 4\n",
      "Introduce el nombre del médico: cris\n",
      "llamo a función cons con médico  cris\n"
     ]
    }
   ],
   "source": [
    "import sys\n",
    "\n",
    "def alta(med):\n",
    "    print(\"llamo a función altas con médico \",med)\n",
    "\n",
    "def baja(med):\n",
    "    print(\"llamo a función bajas con médico \",med)\n",
    "    \n",
    "def modif(med):\n",
    "    print(\"llamo a función modificaciones con médico \",med)\n",
    "    \n",
    "def cons(med):\n",
    "    print(\"llamo a función consultas con médico \",med)\n",
    "    \n",
    "#lista con opción de menú y función asociada   \n",
    "opcionesMenu=[(\"Altas\",alta),(\"Bajas\",baja),(\"Modificaciones\",modif),(\"Consultas\",cons)]\n",
    "\n",
    "#aquí va vuestro código"
   ]
  },
  {
   "cell_type": "markdown",
   "metadata": {},
   "source": [
    "## Ejercicio 8.6\n",
    "¿Os acordáis del formato FASTQ? Como resumen, un fichero FASTQ normalmente usa cuatro líneas por secuencia: \n",
    "\n",
    "* Línea 1 es la 'cabecera de secuencia', y comienza con un carácter '@' al que le sigue un identificador y una descripción opcional (similar a la línea de título del formato FASTA) \n",
    "* Línea 2 es la secuencia biológica.\n",
    "* Línea 3 es la 'cabecera de calidad', y comienza con un carácter '+' al que, de manera opcional, le sigue el mismo identificador de secuencia y su descripción\n",
    "* Línea 4 codifica los valores de calidad para la secuencia de la Línea 2, y debe por tanto contener el mismo número de símbolos que letras tiene la secuencia original. \n",
    "\n",
    "Tenéis una descripción más completa en el ejercicio [6.9.](#ejercicio69) \n",
    " \n",
    "Dado un fichero .fastq (e.g. SRR835775_1.first3.fastq) cread un programa que procese el fichero y genere un fichero .out donde, para cada cuarteto procesado, se guarde la cabecera de la lectura y, en una línea distinta, la calidad media de esa lectura (con dos decimales). Además, el programa debe controlar cualquiera de estos errores y reportarlos mediante print: \n",
    "* Cabecera de secuencia no empieza por @\n",
    "* Cabecera de calidad no empieza por +\n",
    "* Longitud de la secuencia no coincide con la longitud de la cadena de calidad\n",
    "* Los caracteres de la secuencia no son caracteres válidos para ADN (ATCG)\n",
    "* Los caracteres de la secuencia de calidad no son válidos\n",
    "* El fichero no se encuentra\n",
    "\n"
   ]
  },
  {
   "cell_type": "code",
   "execution_count": 36,
   "metadata": {},
   "outputs": [
    {
     "name": "stdout",
     "output_type": "stream",
     "text": [
      "Error en la cabecera de calidad\n"
     ]
    }
   ],
   "source": [
    "import sys\n",
    "\n",
    "class ErrorFastQ(Exception):\n",
    "    \"\"\"Clase base para excepciones en ficheros FASTQ.\"\"\"\n",
    "    pass\n",
    "\n",
    "class SecuenciaError(ErrorFastQ):\n",
    "    pass\n",
    "\n",
    "class CalidadError(ErrorFastQ):\n",
    "    pass\n",
    "        \n",
    "class LongitudError(ErrorFastQ):\n",
    "    pass  \n",
    "\n",
    "class CabeceraSecError(ErrorFastQ):\n",
    "    pass  \n",
    "\n",
    "class CabeceraCalError(ErrorFastQ):\n",
    "    pass\n",
    "        \n",
    "def phred33toQ(codAsciiQ):\n",
    "    \"\"\"\n",
    "    Convierte el carácter ASCII de calidad de una base en el número Q redondeado a cero decimales\n",
    "    \"\"\"\n",
    "    return(ord(codAsciiQ)-33)\n",
    "\n",
    "def Qtophred33(Q):\n",
    "    \"\"\"\n",
    "    Convierte el valor Q redondeado a cero decimales en el carácter ASCII que lo codifica según la codificación Phred 33\n",
    "    \"\"\"\n",
    "    return (chr(int(Q)+33))\n",
    "\n",
    "\n",
    "\n",
    "def procesaFastaQ(nfich):\n",
    "    pass\n",
    "\n",
    "procesaFastaQ(\"SRR835775_1.first3.fastq\")\n",
    "#ve añadiendo errores al fichero para ver si los captura todos bien"
   ]
  },
  {
   "cell_type": "markdown",
   "metadata": {},
   "source": [
    "## Ejercicio 8.7\n",
    "\n",
    "¿Os acordáis del ejercicio 5a.5? Pedía devolver la lista de posiciones donde se encontraba un motivo. En este caso nos han pasado un código donde utilizan la función index para buscar las ocurrencias. \n",
    "A diferencia del método find(), que devolvía -1 si no encontraba la ocurrencia, el método index lanza una excepción si no encuentra dicha ocurrencia. Averigua qué tipo de excepción causa y captúrala para que no aborte el programa. \n"
   ]
  },
  {
   "cell_type": "code",
   "execution_count": 11,
   "metadata": {},
   "outputs": [
    {
     "ename": "ValueError",
     "evalue": "substring not found",
     "output_type": "error",
     "traceback": [
      "\u001b[0;31m---------------------------------------------------------------------------\u001b[0m",
      "\u001b[0;31mValueError\u001b[0m                                Traceback (most recent call last)",
      "\u001b[0;32m<ipython-input-11-a2de546fd5e1>\u001b[0m in \u001b[0;36m<module>\u001b[0;34m()\u001b[0m\n\u001b[1;32m     10\u001b[0m \u001b[0mt\u001b[0m \u001b[0;34m=\u001b[0m \u001b[0;34m'AUGCUUCAGAAAGGUCUUACGUGCUUUA'\u001b[0m\u001b[0;34m\u001b[0m\u001b[0;34m\u001b[0m\u001b[0m\n\u001b[1;32m     11\u001b[0m \u001b[0ms\u001b[0m \u001b[0;34m=\u001b[0m \u001b[0;34m'UGCU'\u001b[0m\u001b[0;34m\u001b[0m\u001b[0;34m\u001b[0m\u001b[0m\n\u001b[0;32m---> 12\u001b[0;31m \u001b[0mprint\u001b[0m\u001b[0;34m(\u001b[0m\u001b[0mbuscar_motivo\u001b[0m\u001b[0;34m(\u001b[0m\u001b[0mt\u001b[0m\u001b[0;34m,\u001b[0m \u001b[0ms\u001b[0m\u001b[0;34m)\u001b[0m\u001b[0;34m)\u001b[0m\u001b[0;34m\u001b[0m\u001b[0;34m\u001b[0m\u001b[0m\n\u001b[0m\u001b[1;32m     13\u001b[0m \u001b[0;34m\u001b[0m\u001b[0m\n\u001b[1;32m     14\u001b[0m \u001b[0mt\u001b[0m \u001b[0;34m=\u001b[0m \u001b[0;34m'AUGCUUCAGAAAGGUCUUACGU'\u001b[0m\u001b[0;34m\u001b[0m\u001b[0;34m\u001b[0m\u001b[0m\n",
      "\u001b[0;32m<ipython-input-11-a2de546fd5e1>\u001b[0m in \u001b[0;36mbuscar_motivo\u001b[0;34m(t, s)\u001b[0m\n\u001b[1;32m      4\u001b[0m \u001b[0;34m\u001b[0m\u001b[0m\n\u001b[1;32m      5\u001b[0m     \u001b[0;32mwhile\u001b[0m \u001b[0;32mTrue\u001b[0m\u001b[0;34m:\u001b[0m\u001b[0;34m\u001b[0m\u001b[0;34m\u001b[0m\u001b[0m\n\u001b[0;32m----> 6\u001b[0;31m         \u001b[0mpos\u001b[0m\u001b[0;34m=\u001b[0m\u001b[0mt\u001b[0m\u001b[0;34m.\u001b[0m\u001b[0mindex\u001b[0m\u001b[0;34m(\u001b[0m\u001b[0ms\u001b[0m\u001b[0;34m,\u001b[0m \u001b[0mpos\u001b[0m\u001b[0;34m+\u001b[0m\u001b[0;36m1\u001b[0m\u001b[0;34m)\u001b[0m\u001b[0;34m\u001b[0m\u001b[0;34m\u001b[0m\u001b[0m\n\u001b[0m\u001b[1;32m      7\u001b[0m         \u001b[0mlista\u001b[0m\u001b[0;34m.\u001b[0m\u001b[0mappend\u001b[0m\u001b[0;34m(\u001b[0m\u001b[0mpos\u001b[0m\u001b[0;34m+\u001b[0m\u001b[0;36m1\u001b[0m\u001b[0;34m)\u001b[0m\u001b[0;34m\u001b[0m\u001b[0;34m\u001b[0m\u001b[0m\n\u001b[1;32m      8\u001b[0m \u001b[0;34m\u001b[0m\u001b[0m\n",
      "\u001b[0;31mValueError\u001b[0m: substring not found"
     ]
    }
   ],
   "source": [
    "def buscar_motivo(t,s):#este es el código que tienes que modificar\n",
    "    pos=-1\n",
    "    lista=[]\n",
    "    \n",
    "    while True:\n",
    "        pos=t.index(s, pos+1)\n",
    "        lista.append(pos+1)\n",
    "\n",
    "#código de ejemplo\n",
    "t = 'AUGCUUCAGAAAGGUCUUACGUGCUUUA'\n",
    "s = 'UGCU'\n",
    "print(buscar_motivo(t, s))\n",
    "\n",
    "t = 'AUGCUUCAGAAAGGUCUUACGU'\n",
    "s = 'U'\n",
    "print(buscar_motivo(t, s))\n",
    "\n",
    "t = 'AUGCUUCAGAAAGGUCUUACGU'\n",
    "s = 'UGCG'\n",
    "print(buscar_motivo(t, s))\n",
    "\n",
    "t = 'GCGTAGTAGGTTCGCGCCTAGTTCCGCCGAAAAGACAAAGGAGAAGGGAATGCTCCTAGTAGTTTCAGTCTAGCAAACATGTTATAACGCTAACTGTGTGCTGCA'\n",
    "s = 'AGA'\n",
    "print(buscar_motivo(t, s))\n",
    "\n",
    "t = \"GATATATGCATATACTT\"\n",
    "s = \"ATAT\"\n",
    "print(buscar_motivo(t, s))"
   ]
  }
 ],
 "metadata": {
  "kernelspec": {
   "display_name": "Python 3",
   "language": "python",
   "name": "python3"
  },
  "language_info": {
   "codemirror_mode": {
    "name": "ipython",
    "version": 3
   },
   "file_extension": ".py",
   "mimetype": "text/x-python",
   "name": "python",
   "nbconvert_exporter": "python",
   "pygments_lexer": "ipython3",
   "version": "3.7.2"
  }
 },
 "nbformat": 4,
 "nbformat_minor": 1
}
