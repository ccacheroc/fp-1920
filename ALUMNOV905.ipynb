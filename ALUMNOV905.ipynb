{
 "cells": [
  {
   "cell_type": "markdown",
   "metadata": {},
   "source": [
    "# Ejercicios de repaso FP"
   ]
  },
  {
   "cell_type": "markdown",
   "metadata": {},
   "source": [
    "## CÓMO RESOLVER LOS EJERCICIOS\n",
    "A la hora de resolver los ejercicios, es muy importante que, sobre todo al principio, antes de poneros a programar dediquéis unos minutos a pensar en lo que os pide el ejercicio y cómo estructurar el código. Para ello os propongo el siguiente proceso: \n",
    "\n",
    "* Definid, en dos líneas, qué os está pidiendo el ejercicio\n",
    "* Identificad las ENTRADAS del programa y de dónde se obtienen\n",
    "* Identificad qué tiene que PROCESAR el programa\n",
    "* Identificad qué SALIDA tiene que producir el programa\n",
    "\n",
    "Sólo una vez que tenéis claro todo esto os debéis poner a programar. \n",
    "\n",
    "Happy programmaing! "
   ]
  },
  {
   "cell_type": "markdown",
   "metadata": {},
   "source": [
    "## Recordatorio: uso de la ayuda del Python\n",
    "\n",
    "Recordad que podéis en cualquier momento invocar el método help() de Python para obtener ayuda sobre métodos, objetos, librerías, etc. \n",
    "\n",
    "Muestra la ayuda de los objetos lista, diccionario, conjunto y tupla, y contesta a las siguientes preguntas:\n",
    "* ¿Qué métodos oferta la clase lista?\n",
    "* ¿Qué clases ofertan el método count? \n",
    "* ¿Qué devuelve el método index() de tuple si no encuentra el valor que se busca?\n",
    "* El método list.insert(), ¿inserta el objeto antes o después de la posición que indica el índice que se pasa como parámetro? ¿Qué ocurre si se le pasa un índice fuera de rango?\n",
    "Veamos algunos ejemplos de invocación de la ayuda: \n",
    "<pre>\n",
    "help(list)\n",
    "help(dict)\n",
    "help(set)\n",
    "help(tuple)\n",
    "help(list.count)\n",
    "</pre>"
   ]
  },
  {
   "cell_type": "code",
   "execution_count": 7,
   "metadata": {},
   "outputs": [
    {
     "name": "stdout",
     "output_type": "stream",
     "text": [
      "Help on method_descriptor:\n",
      "\n",
      "count(self, value, /)\n",
      "    Return number of occurrences of value.\n",
      "\n"
     ]
    }
   ],
   "source": [
    "help(list.count)"
   ]
  },
  {
   "cell_type": "markdown",
   "metadata": {},
   "source": [
    "# 5a.- LISTAS"
   ]
  },
  {
   "cell_type": "markdown",
   "metadata": {},
   "source": [
    "## Ejercicio 5a.0: Phras-o-matic (Libro Head First Learn 2 Code)\n",
    "Escribe un programa que, dadas tres listas con verbos, adjetivos y nombres llenos de 'palabras de moda' (buzz words), cree diez eslóganes potenciales para tu próximo proyecto. \n",
    "\n",
    "Ejemplo de salida: \n",
    "* Sync B-to-B Splash Page\n",
    "* Sync Siloed Early Adopter\n",
    "* 30,000 foot Oriented Early Adopter\n",
    "* Gamify Oriented Splash Page\n",
    "* Target B-to-B Paradigm\n",
    "* 24/7 Oriented Paradigm\n",
    "* 30,000 foot B-to-B Low-hanging Fruit\n",
    "* Target Oriented Low-hanging Fruit\n",
    "* Target A/B Tested Paradigm\n",
    "* Sync A/B Tested Early Adopter"
   ]
  },
  {
   "cell_type": "code",
   "execution_count": 3,
   "metadata": {},
   "outputs": [],
   "source": [
    "\n",
    "\n",
    "verbs = ['Leverage', 'Sync', 'Target',\n",
    "         'Gamify', 'Offline', 'Crowd-sourced',\n",
    "         '24/7', 'Lean-in', '30,000 foot']\n",
    "\n",
    "adjectives = ['A/B Tested', 'Freemium',\n",
    "              'Hyperlocal', 'Siloed', 'B-to-B',\n",
    "              'Oriented', 'Cloud-based', \n",
    "              'API-based']\n",
    "\n",
    "\n",
    "nouns = ['Early Adopter', 'Low-hanging Fruit',\n",
    "         'Pipeline', 'Splash Page', 'Productivity',\n",
    "         'Process', 'Tipping Point', 'Paradigm']\n",
    "\n"
   ]
  },
  {
   "cell_type": "markdown",
   "metadata": {},
   "source": [
    "## Ejercicio 5a.1\n",
    "\n",
    "Existe un formato de fichero utilizado para mantener colecciones de mensajes de correo electrónico llamado mbox (https://en.wikipedia.org/wiki/Mbox)\n",
    "Dentro de esos ficheros, cada mensaje incluye una serie de líneas generadas por un filtro software estadístico de spam de código abierto llamado DSPAM, https://help.ubuntu.com/community/Postfix/Dspam)\n",
    "\n",
    "\n",
    "En ese formato, la primera línea indica si ese correo es spam (X-DSPAM-Result: Innocent), la segunda indica cuándo fue analizado (X-DSPAM-Processed: Tue Jun 16 20:25:03 2009),  la tercera indica el grado de confianza (entre 0 y 1) en el veredicto (inocente/spam) (X-DSPAM-Confidence: 1.0000) y la cuarta línea indica la probabilidad de que el correo sea spam (X-DSPAM-Probability: 0.0023)\n",
    "\n",
    "\n",
    "A partir de un fichero de mail con formato mbox que contiene numerosos mensajes, se ha extraído la lista de cadenas almacenada en la variable lista_conf. \n",
    "\n",
    "Esta lista guarda el nivel de confianza de los distintos mensajes. A partir de ella, se pide calcular el nivel medio de confianza en que los mensajes de ese fichero estén bien reportados como legítimos o SPAM. Redondead el resultado a cuatro decimales.  \n",
    "\n",
    "Nota: la salida os debería dar 0.7507\n"
   ]
  },
  {
   "cell_type": "code",
   "execution_count": 43,
   "metadata": {},
   "outputs": [
    {
     "name": "stdout",
     "output_type": "stream",
     "text": [
      "[0.8475, 0.6178, 0.6961, 0.7565, 0.7626, 0.7556, 0.7002, 0.7615, 0.7601, 0.7605, 0.6959, 0.7606, 0.7559, 0.7605, 0.6932, 0.7558, 0.6526, 0.6948, 0.6528, 0.7002, 0.7554, 0.6956, 0.6959, 0.7556, 0.9846, 0.8509, 0.9907]\n"
     ]
    },
    {
     "data": {
      "text/plain": [
       "0.7507"
      ]
     },
     "execution_count": 43,
     "metadata": {},
     "output_type": "execute_result"
    }
   ],
   "source": [
    "lista_conf=['X-DSPAM-Confidence:0.8475', 'X-DSPAM-Confidence: 0.6178', \n",
    "            'X-DSPAM-Confidence:   0.6961', 'X-DSPAM-Confidence: 0.7565', \n",
    "            'X-DSPAM-Confidence: 0.7626', 'X-DSPAM-Confidence: 0.7556', \n",
    "            'X-DSPAM-Confidence: 0.7002', 'X-DSPAM-Confidence: 0.7615', \n",
    "            'X-DSPAM-Confidence: 0.7601', 'X-DSPAM-Confidence: 0.7605', \n",
    "            'X-DSPAM-Confidence: 0.6959', 'X-DSPAM-Confidence: 0.7606', \n",
    "            'X-DSPAM-Confidence: 0.7559', 'X-DSPAM-Confidence: 0.7605', \n",
    "            'X-DSPAM-Confidence: 0.6932', 'X-DSPAM-Confidence: 0.7558', \n",
    "            'X-DSPAM-Confidence: 0.6526', 'X-DSPAM-Confidence: 0.6948', \n",
    "            'X-DSPAM-Confidence: 0.6528', 'X-DSPAM-Confidence: 0.7002', \n",
    "            'X-DSPAM-Confidence: 0.7554', 'X-DSPAM-Confidence: 0.6956', \n",
    "            'X-DSPAM-Confidence: 0.6959', 'X-DSPAM-Confidence: 0.7556', \n",
    "            'X-DSPAM-Confidence: 0.9846', 'X-DSPAM-Confidence: 0.8509', \n",
    "            'X-DSPAM-Confidence: 0.9907']\n",
    "\n",
    "\n",
    "def media_confianza(lista):\n",
    "    lista1=[]\n",
    "    for cadena in lista:\n",
    "        #num=cadena[20:26]\n",
    "        #lista_elem=cadena.split(\":\")\n",
    "        #num1=float(lista_elem[1])\n",
    "        basura,num=cadena.split(\":\")\n",
    "        num1=float(num)\n",
    "        lista1.append(num1)\n",
    "    print(lista1)\n",
    "    valor=sum(lista1)/len(lista1)\n",
    "    return(round(valor,4))\n",
    "\n",
    "media_confianza(lista_conf)"
   ]
  },
  {
   "cell_type": "code",
   "execution_count": 41,
   "metadata": {},
   "outputs": [
    {
     "name": "stdout",
     "output_type": "stream",
     "text": [
      "0.8475\n",
      "0.6178\n",
      "0.6961\n",
      "0.7565\n",
      "0.7626\n",
      "0.7556\n",
      "0.7002\n",
      "0.7615\n",
      "0.7601\n",
      "0.7605\n",
      "0.6959\n",
      "0.7606\n",
      "0.7559\n",
      "0.7605\n",
      "0.6932\n",
      "0.7558\n",
      "0.6526\n",
      "0.6948\n",
      "0.6528\n",
      "0.7002\n",
      "0.7554\n",
      "0.6956\n",
      "0.6959\n",
      "0.7556\n",
      "0.9846\n",
      "0.8509\n",
      "0.9907\n"
     ]
    }
   ],
   "source": [
    "lista_conf=['X-DSPAM-Confidence: 0.8475', 'X-DSPAM-Confidence: 0.6178', \n",
    "            'X-DSPAM-Confidence: 0.6961', 'X-DSPAM-Confidence: 0.7565', \n",
    "            'X-DSPAM-Confidence: 0.7626', 'X-DSPAM-Confidence: 0.7556', \n",
    "            'X-DSPAM-Confidence: 0.7002', 'X-DSPAM-Confidence: 0.7615', \n",
    "            'X-DSPAM-Confidence: 0.7601', 'X-DSPAM-Confidence: 0.7605', \n",
    "            'X-DSPAM-Confidence: 0.6959', 'X-DSPAM-Confidence: 0.7606', \n",
    "            'X-DSPAM-Confidence: 0.7559', 'X-DSPAM-Confidence: 0.7605', \n",
    "            'X-DSPAM-Confidence: 0.6932', 'X-DSPAM-Confidence: 0.7558', \n",
    "            'X-DSPAM-Confidence: 0.6526', 'X-DSPAM-Confidence: 0.6948', \n",
    "            'X-DSPAM-Confidence: 0.6528', 'X-DSPAM-Confidence: 0.7002', \n",
    "            'X-DSPAM-Confidence: 0.7554', 'X-DSPAM-Confidence: 0.6956', \n",
    "            'X-DSPAM-Confidence: 0.6959', 'X-DSPAM-Confidence: 0.7556', \n",
    "            'X-DSPAM-Confidence: 0.9846', 'X-DSPAM-Confidence: 0.8509', \n",
    "            'X-DSPAM-Confidence: 0.9907']\n",
    "\n",
    "\n",
    "for e in lista_conf:\n",
    "    print(e[20:26])"
   ]
  },
  {
   "cell_type": "markdown",
   "metadata": {},
   "source": [
    "## Ejercicio 5a.2\n",
    "Dada la lista de remitentes contenida en la variable lista_from, se pide imprimir la lista de correos únicos desde donde se han enviado los mensajes\n",
    "\n",
    "Pista: una estrategia sencilla para quedarte con correos únicos (aplicando sólo lo que hemos visto hasta el momento) es que, una vez extraídos los correos en una lista, añadas a otra lista los correos que aún no estén en ella. Otra posibilidad es ordenar la lista y quedarse con la primera ocurrencia de cada uno. Tb puedes convertir la lista a un conjunto para quitar duplicados. Por último, puedes convertir la lista en claves de un diccionario (que son únicas por definición). Más info en http://blog.elcodiguero.com/python/eliminar-objetos-repetidos-de-una-lista.html\n",
    "\n",
    "\n",
    "![Ejemplos de salida](ejemplosalida2.png)\n"
   ]
  },
  {
   "cell_type": "code",
   "execution_count": 8,
   "metadata": {},
   "outputs": [],
   "source": [
    "lista_from=['From stephen.marquard@uct.ac.za Sat Jan  5 09:14:16 2008', \n",
    "            'From: stephen.marquard@uct.ac.za', \n",
    "            'From louis@media.berkeley.edu Fri Jan  4 18:10:48 2008', \n",
    "            'From: louis@media.berkeley.edu', \n",
    "            'From zqian@umich.edu Fri Jan  4 16:10:39 2008', \n",
    "            'From: zqian@umich.edu', \n",
    "            'From rjlowe@iupui.edu Fri Jan  4 15:46:24 2008', \n",
    "            'From: rjlowe@iupui.edu', \n",
    "            'From zqian@umich.edu Fri Jan  4 15:03:18 2008', \n",
    "            'From: zqian@umich.edu', \n",
    "            'From rjlowe@iupui.edu Fri Jan  4 14:50:18 2008', \n",
    "            'From: rjlowe@iupui.edu', 'From cwen@iupui.edu Fri Jan  4 11:37:30 2008', \n",
    "            'From: cwen@iupui.edu', 'From cwen@iupui.edu Fri Jan  4 11:35:08 2008', \n",
    "            'From: cwen@iupui.edu', 'From gsilver@umich.edu Fri Jan  4 11:12:37 2008', \n",
    "            'From: gsilver@umich.edu', 'From gsilver@umich.edu Fri Jan  4 11:11:52 2008', \n",
    "            'From: gsilver@umich.edu', 'From zqian@umich.edu Fri Jan  4 11:11:03 2008', \n",
    "            'From: zqian@umich.edu', 'From gsilver@umich.edu Fri Jan  4 11:10:22 2008', \n",
    "            'From: gsilver@umich.edu', 'From wagnermr@iupui.edu Fri Jan  4 10:38:42 2008', \n",
    "            'From: wagnermr@iupui.edu', 'From zqian@umich.edu Fri Jan  4 10:17:43 2008', \n",
    "            'From: zqian@umich.edu', 'From antranig@caret.cam.ac.uk Fri Jan  4 10:04:14 2008', \n",
    "            'From: antranig@caret.cam.ac.uk', \n",
    "            'From gopal.ramasammycook@gmail.com Fri Jan  4 09:05:31 2008', \n",
    "            'From: gopal.ramasammycook@gmail.com', \n",
    "            'From david.horwitz@uct.ac.za Fri Jan  4 07:02:32 2008', \n",
    "            'From: david.horwitz@uct.ac.za', \n",
    "            'From david.horwitz@uct.ac.za Fri Jan  4 06:08:27 2008', \n",
    "            'From: david.horwitz@uct.ac.za', 'From david.horwitz@uct.ac.za Fri Jan  4 04:49:08 2008', \n",
    "            'From: david.horwitz@uct.ac.za', 'From david.horwitz@uct.ac.za Fri Jan  4 04:33:44 2008', \n",
    "            'From: david.horwitz@uct.ac.za', \n",
    "            'From stephen.marquard@uct.ac.za Fri Jan  4 04:07:34 2008', \n",
    "            'From: stephen.marquard@uct.ac.za', \n",
    "            'From louis@media.berkeley.edu Thu Jan  3 19:51:21 2008', \n",
    "            'From: louis@media.berkeley.edu', \n",
    "            'From louis@media.berkeley.edu Thu Jan  3 17:18:23 2008', \n",
    "            'From: louis@media.berkeley.edu', \n",
    "            'From ray@media.berkeley.edu Thu Jan  3 17:07:00 2008', \n",
    "            'From: ray@media.berkeley.edu', 'From cwen@iupui.edu Thu Jan  3 16:34:40 2008', \n",
    "            'From: cwen@iupui.edu', 'From cwen@iupui.edu Thu Jan  3 16:29:07 2008', \n",
    "            'From: cwen@iupui.edu', \n",
    "            'From cwen@iupui.edu Thu Jan  3 16:23:48 2008', 'From: cwen@iupui.edu']\n",
    "\n",
    "#aquí va tu código\n"
   ]
  },
  {
   "cell_type": "code",
   "execution_count": null,
   "metadata": {},
   "outputs": [],
   "source": []
  },
  {
   "cell_type": "markdown",
   "metadata": {},
   "source": [
    "## Ejercicio 5a.3\n",
    "Implementa  una función que devuelva el número de palabras de la cadena contenida en la variable texto. \n",
    "\n",
    "Nota: Fíjate en que el texto tiene espacios en blanco extras, \\n, que tenéis que tener en cuenta a la hora de contar las palabras. Con el comando repr(texto) podéis ver todos esos caracteres ocultos. El resultado debería ser 143\n",
    "\n",
    "Una vez calculado el número de palabras, crea otra función que te devuelva la longitud media de las palabras contenidas en el texto redondeado a dos decimales. El resultado debería ser 4.76\n",
    "\n",
    "Por último, calcula el número de palabras distintas del texto. Debe darte 90.\n",
    "\n",
    "Prueba a calcular los tres números usando (a) listas y (b) diccionarios\n",
    "\n",
    "\n",
    "Pregunta: ¿Qué diferencias existen entre las funciones replace() y remove()?"
   ]
  },
  {
   "cell_type": "code",
   "execution_count": 12,
   "metadata": {},
   "outputs": [],
   "source": [
    "#RESOLUCIÓN CON LISTAS \n",
    "texto=\"\"\"The Zen of Python, by Tim Peters   \n",
    "\n",
    "Beautiful is better than ugly.\n",
    "Explicit is better than implicit.\n",
    "Simple is better than complex.\n",
    "Complex is better than complicated.\n",
    "Flat is better than nested.\n",
    "Sparse is better than dense.\n",
    "Readability counts.\n",
    "Special cases aren't special enough to break the rules.\n",
    "Although practicality beats purity.\n",
    "Errors should never pass silently.\n",
    "Unless explicitly silenced.\n",
    "In the face of ambiguity, refuse the temptation to guess.\n",
    "There should be one-- and preferably only one --obvious way to do it.\n",
    "Although that way may not be obvious at first unless you're Dutch.\n",
    "Now is better than never.\n",
    "Although never is often better than *right* now.\n",
    "If the implementation is hard to explain, it's a bad idea.\n",
    "If the implementation is easy to explain, it may be a good idea.\n",
    "Namespaces are one honking great idea -- let's do more of those!\n",
    "\"\"\"\n",
    "\n",
    "#aquí va tu código"
   ]
  },
  {
   "cell_type": "code",
   "execution_count": 13,
   "metadata": {},
   "outputs": [],
   "source": [
    "#RESOLUCIÓN CON DICCIONARIOS\n",
    "\n",
    "texto=\"\"\"The Zen of Python, by Tim Peters   \n",
    "\n",
    "Beautiful is better than ugly.\n",
    "Explicit is better than implicit.\n",
    "Simple is better than complex.\n",
    "Complex is better than complicated.\n",
    "Flat is better than nested.\n",
    "Sparse is better than dense.\n",
    "Readability counts.\n",
    "Special cases aren't special enough to break the rules.\n",
    "Although practicality beats purity.\n",
    "Errors should never pass silently.\n",
    "Unless explicitly silenced.\n",
    "In the face of ambiguity, refuse the temptation to guess.\n",
    "There should be one-- and preferably only one --obvious way to do it.\n",
    "Although that way may not be obvious at first unless you're Dutch.\n",
    "Now is better than never.\n",
    "Although never is often better than *right* now.\n",
    "If the implementation is hard to explain, it's a bad idea.\n",
    "If the implementation is easy to explain, it may be a good idea.\n",
    "Namespaces are one honking great idea -- let's do more of those!\n",
    "\"\"\"\n",
    "\n",
    "#aquí va tu código"
   ]
  },
  {
   "cell_type": "markdown",
   "metadata": {},
   "source": [
    "## Ejercicio 5a.4\n",
    "\n",
    "¿Os acordáis del porcentaje GC? Os he proporcionado una función que encapsula dicha funcionalidad.\n",
    "\n",
    "Utilizando esa función y LISTAS, se pide que creéis un programa que procese las cadenas contenida en la variable fichFasta e imprima el porcentaje GC de cada secuencia de ADN. \n",
    "\n",
    "\n",
    "\n",
    "Un ejemplo de salida esperada es como sigue: \n",
    "\n",
    "<pre>\n",
    "Porcentaje GC de secuencia  >HSBGPG Human gene for bone gla protein (BGP) : 63.52558895207149  ( 63.52558895207149 )\n",
    "Porcentaje GC de secuencia  >HSGLTH1 Human theta 1-globin gene : 70.49019607843137  ( 70.49019607843137 )\n",
    "</pre>\n",
    "\n"
   ]
  },
  {
   "cell_type": "code",
   "execution_count": 6,
   "metadata": {},
   "outputs": [
    {
     "name": "stdout",
     "output_type": "stream",
     "text": [
      "['', 'GGCAGATTCCCCCTAGACCCGCCCGCACCATGGTCAGGCATGCCCCTCCTCATCGCTGGGCACAGCCCAGAGGGTATAAACAGTGCTGGAGGCTGGCGGGGCAGGCCAGCTGAGTCCTGAGCAGCAGCCCAGCGCAGCCACCGAGACACCATGAGAGCCCTCACACTCCTCGCCCTATTGGCCCTGGCCGCACTTTGCATCGCTGGCCAGGCAGGTGAGTGCCCCCACCTCCCCTCAGGCCGCATTGCAGTGGGGGCTGAGAGGAGGAAGCACCATGGCCCACCTCTTCTCACCCCTTTGGCTGGCAGTCCCTTTGCAGTCTAACCACCTTGTTGCAGGCTCAATCCATTTGCCCCAGCTCTGCCCTTGCAGAGGGAGAGGAGGGAAGAGCAAGCTGCCCGAGACGCAGGGGAAGGAGGATGAGGGCCCTGGGGATGAGCTGGGGTGAACCAGGCTCCCTTTCCTTTGCAGGTGCGAAGCCCAGCGGTGCAGAGTCCAGCAAAGGTGCAGGTATGAGGATGGACCTGATGGGTTCCTGGACCCTCCCCTCTCACCCTGGTCCCTCAGTCTCATTCCCCCACTCCTGCCACCTCCTGTCTGGCCATCAGGAAGGCCAGCCTGCTCCCCACCTGATCCTCCCAAACCCAGAGCCACCTGATGCCTGCCCCTCTGCTCCACAGCCTTTGTGTCCAAGCAGGAGGGCAGCGAGGTAGTGAAGAGACCCAGGCGCTACCTGTATCAATGGCTGGGGTGAGAGAAAAGGCAGAGCTGGGCCAAGGCCCTGCCTCTCCGGGATGGTCTGTGGGGGAGCTGCAGCAGGGAGTGGCCTCTCTGGGTTGTGGTGGGGGTACAGGCAGCCTGCCCTGGTGGGCACCCTGGAGCCCCATGTGTAGGGAGAGGAGGGATGGGCATTTTGCACGGGGGCTGATGCCACCACGTCGGGTGTCTCAGAGCCCCAGTCCCCTACCCGGATCCCCTGGAGCCCAGGAGGGAGGTGTGTGAGCTCAATCCGGACTGTGACGAGTTGGCTGACCACATCGGCTTTCAGGAGGCCTATCGGCGCTTCTACGGCCCGGTCTAGGGTGTCGCTCTGCTGGCCTGGCCGGCAACCCCAGTTCTGCTCCTCTCCAGGCACCCTTCTTTCCTCTTCCCCTTGCCCTTGCCCTGACCTCCCAGCCCTATGGATGTGGGGTCCCCATCATCCCAGCTGCTCCCAAATAAACTCCAGAAG', 'CCACTGCACTCACCGCACCCGGCCAATTTTTGTGTTTTTAGTAGAGACTAAATACCATATAGTGAACACCTAAGACGGGGGGCCTTGGATCCAGGGCGATTCAGAGGGCCCCGGTCGGAGCTGTCGGAGATTGAGCGCGCGCGGTCCCGGGATCTCCGACGAGGCCCTGGACCCCCGGGCGGCGAAGCTGCGGCGCGGCGCCCCCTGGAGGCCGCGGGACCCCTGGCCGGTCCGCGCAGGCGCAGCGGGGTCGCAGGGCGCGGCGGGTTCCAGCGCGGGGATGGCGCTGTCCGCGGAGGACCGGGCGCTGGTGCGCGCCCTGTGGAAGAAGCTGGGCAGCAACGTCGGCGTCTACACGACAGAGGCCCTGGAAAGGTGCGGCAGGCTGGGCGCCCCCGCCCCCAGGGGCCCTCCCTCCCCAAGCCCCCCGGACGCGCCTCACCCACGTTCCTCTCGCAGGACCTTCCTGGCTTTCCCCGCCACGAAGACCTACTTCTCCCACCTGGACCTGAGCCCCGGCTCCTCACAAGTCAGAGCCCACGGCCAGAAGGTGGCGGACGCGCTGAGCCTCGCCGTGGAGCGCCTGGACGACCTACCCCACGCGCTGTCCGCGCTGAGCCACCTGCACGCGTGCCAGCTGCGAGTGGACCCGGCCAGCTTCCAGGTGAGCGGCTGCCGTGCTGGGCCCCTGTCCCCGGGAGGGCCCCGGCGGGGTGGGTGCGGGGGGCGTGCGGGGCGGGTGCAGGCGAGTGAGCCTTGAGCGCTCGCCGCAGCTCCTGGGCCACTGCCTGCTGGTAACCCTCGCCCGGCACTACCCCGGAGACTTCAGCCCCGCGCTGCAGGCGTCGCTGGACAAGTTCCTGAGCCACGTTATCTCGGCGCTGGTTTCCGAGTACCGCTGAACTGTGGGTGGGTGGCCGCGGGATCCCCAGGCGACCTTCCCCGTGTTTGAGTAAAGCCTCTCCCAGGAGCAGCCTTCTTGCCGTGCTCTCTCGAGGTCAGGACGCGAGAGGAAGGCGC', 'CCACTGCACTCACCGCACCCGGCCAATTTTTGTGTTTTTAGTAGAGACTAAATACCATATAGTGAACACCTAAGACGGGGGGCCTTGGATCCAGGGCGATTCAGAGGGCCCCGGTCGGAGCTGTCGGAGATTGAGCGCGCGCGGTCCCGGGATCTCCGACGAGGCCCTGGACCCCCGGGCGGCGAAGCTGCGGCGCGGCGCCCCCTGGAGGCCGCGGGACCCCTGGCCGGTCCGCGCAGGCGCAGCGGGGTCGCAGGGCGCGGCGGGTTCCAGCGCGGGGATGGCGCTGTCCGCGGAGGACCGGGCGCTGGTGCGCGCCCTGTGGAAGAAGCTGGGCAGCAACGTCGGCGTCTACACGACAGAGGCCCTGGAAAGGTGCGGCAGGCTGGGCGCCCCCGCCCCCAGGGGCCCTCCCTCCCCAAGCCCCCCGGACGCGCCTCACCCACGTTCCTCTCGCAGGACCTTCCTGGCTTTCCCCGCCACGAAGACCTACTTCTCCCACCTGGACCTGAGCCCCGGCTCCTCACAAGTCAGAGCCCACGGCCAGAAGGTGGCGGACGCGCTGAGCCTCGCCGTGGAGCGCCTGGACGACCTACCCCACGCGCTGTCCGCGCTGAGCCACCTGCACGCGTGCCAGCTGCGAGTGGACCCGGCCAGCTTCCAGGTGAGCGGCTGCCGTGCTGGGCCCCTGTCCCCGGGAGGGCCCCGGCGGGGTGGGTGCGGGGGGCGTGCGGGGCGGGTGCAGGCGAGTGAGCCTTGAGCGCTCGCCGCAGCTCCTGGGCCACTGCCTGCTGGTAACCCTCGCCCGGCACTACCCCGGAGACTTCAGCCCCGCGCTGCAGGCGTCGCTGGACAAGTTCCTGAGCCACGTTATCTCGGCGCTGGTTTCCGAGTACCGCTGAACTGTGGGTGGGTGGCCGCGGGATCCCCAGGCGACCTTCCCCGTGTTTGAGTAAAGCCTCTCCCAGGAGCAGCCTTCTTGCCGTGCTCTCTCGAGGTCAGGACGCGAGAGGAAGGCGC']\n",
      "63.52558895207149\n",
      "70.49019607843137\n",
      "70.49019607843137\n"
     ]
    }
   ],
   "source": [
    "fichFasta=\"\"\"\n",
    ">HSBGPG Human gene for bone gla protein (BGP)\n",
    "GGCAGATTCCCCCTAGACCCGCCCGCACCATGGTCAGGCATGCCCCTCCTCATCGCTGGGCACAGCCCAGAGGGT\n",
    "ATAAACAGTGCTGGAGGCTGGCGGGGCAGGCCAGCTGAGTCCTGAGCAGCAGCCCAGCGCAGCCACCGAGACACC\n",
    "ATGAGAGCCCTCACACTCCTCGCCCTATTGGCCCTGGCCGCACTTTGCATCGCTGGCCAGGCAGGTGAGTGCCCC\n",
    "CACCTCCCCTCAGGCCGCATTGCAGTGGGGGCTGAGAGGAGGAAGCACCATGGCCCACCTCTTCTCACCCCTTTG\n",
    "GCTGGCAGTCCCTTTGCAGTCTAACCACCTTGTTGCAGGCTCAATCCATTTGCCCCAGCTCTGCCCTTGCAGAGG\n",
    "GAGAGGAGGGAAGAGCAAGCTGCCCGAGACGCAGGGGAAGGAGGATGAGGGCCCTGGGGATGAGCTGGGGTGAAC\n",
    "CAGGCTCCCTTTCCTTTGCAGGTGCGAAGCCCAGCGGTGCAGAGTCCAGCAAAGGTGCAGGTATGAGGATGGACC\n",
    "TGATGGGTTCCTGGACCCTCCCCTCTCACCCTGGTCCCTCAGTCTCATTCCCCCACTCCTGCCACCTCCTGTCTG\n",
    "GCCATCAGGAAGGCCAGCCTGCTCCCCACCTGATCCTCCCAAACCCAGAGCCACCTGATGCCTGCCCCTCTGCTC\n",
    "CACAGCCTTTGTGTCCAAGCAGGAGGGCAGCGAGGTAGTGAAGAGACCCAGGCGCTACCTGTATCAATGGCTGGG\n",
    "GTGAGAGAAAAGGCAGAGCTGGGCCAAGGCCCTGCCTCTCCGGGATGGTCTGTGGGGGAGCTGCAGCAGGGAGTG\n",
    "GCCTCTCTGGGTTGTGGTGGGGGTACAGGCAGCCTGCCCTGGTGGGCACCCTGGAGCCCCATGTGTAGGGAGAGG\n",
    "AGGGATGGGCATTTTGCACGGGGGCTGATGCCACCACGTCGGGTGTCTCAGAGCCCCAGTCCCCTACCCGGATCC\n",
    "CCTGGAGCCCAGGAGGGAGGTGTGTGAGCTCAATCCGGACTGTGACGAGTTGGCTGACCACATCGGCTTTCAGGA\n",
    "GGCCTATCGGCGCTTCTACGGCCCGGTCTAGGGTGTCGCTCTGCTGGCCTGGCCGGCAACCCCAGTTCTGCTCCT\n",
    "CTCCAGGCACCCTTCTTTCCTCTTCCCCTTGCCCTTGCCCTGACCTCCCAGCCCTATGGATGTGGGGTCCCCATC\n",
    "ATCCCAGCTGCTCCCAAATAAACTCCAGAAG\n",
    ">HSGLTH1 Human theta 1-globin gene\n",
    "CCACTGCACTCACCGCACCCGGCCAATTTTTGTGTTTTTAGTAGAGACTAAATACCATATAGTGAACACCTAAGA\n",
    "CGGGGGGCCTTGGATCCAGGGCGATTCAGAGGGCCCCGGTCGGAGCTGTCGGAGATTGAGCGCGCGCGGTCCCGG\n",
    "GATCTCCGACGAGGCCCTGGACCCCCGGGCGGCGAAGCTGCGGCGCGGCGCCCCCTGGAGGCCGCGGGACCCCTG\n",
    "GCCGGTCCGCGCAGGCGCAGCGGGGTCGCAGGGCGCGGCGGGTTCCAGCGCGGGGATGGCGCTGTCCGCGGAGGA\n",
    "CCGGGCGCTGGTGCGCGCCCTGTGGAAGAAGCTGGGCAGCAACGTCGGCGTCTACACGACAGAGGCCCTGGAAAG\n",
    "GTGCGGCAGGCTGGGCGCCCCCGCCCCCAGGGGCCCTCCCTCCCCAAGCCCCCCGGACGCGCCTCACCCACGTTC\n",
    "CTCTCGCAGGACCTTCCTGGCTTTCCCCGCCACGAAGACCTACTTCTCCCACCTGGACCTGAGCCCCGGCTCCTC\n",
    "ACAAGTCAGAGCCCACGGCCAGAAGGTGGCGGACGCGCTGAGCCTCGCCGTGGAGCGCCTGGACGACCTACCCCA\n",
    "CGCGCTGTCCGCGCTGAGCCACCTGCACGCGTGCCAGCTGCGAGTGGACCCGGCCAGCTTCCAGGTGAGCGGCTG\n",
    "CCGTGCTGGGCCCCTGTCCCCGGGAGGGCCCCGGCGGGGTGGGTGCGGGGGGCGTGCGGGGCGGGTGCAGGCGAG\n",
    "TGAGCCTTGAGCGCTCGCCGCAGCTCCTGGGCCACTGCCTGCTGGTAACCCTCGCCCGGCACTACCCCGGAGACT\n",
    "TCAGCCCCGCGCTGCAGGCGTCGCTGGACAAGTTCCTGAGCCACGTTATCTCGGCGCTGGTTTCCGAGTACCGCT\n",
    "GAACTGTGGGTGGGTGGCCGCGGGATCCCCAGGCGACCTTCCCCGTGTTTGAGTAAAGCCTCTCCCAGGAGCAGC\n",
    "CTTCTTGCCGTGCTCTCTCGAGGTCAGGACGCGAGAGGAAGGCGC\n",
    ">HSGLTH1 Human theta 1-globin2 gene\n",
    "CCACTGCACTCACCGCACCCGGCCAATTTTTGTGTTTTTAGTAGAGACTAAATACCATATAGTGAACACCTAAGA\n",
    "CGGGGGGCCTTGGATCCAGGGCGATTCAGAGGGCCCCGGTCGGAGCTGTCGGAGATTGAGCGCGCGCGGTCCCGG\n",
    "GATCTCCGACGAGGCCCTGGACCCCCGGGCGGCGAAGCTGCGGCGCGGCGCCCCCTGGAGGCCGCGGGACCCCTG\n",
    "GCCGGTCCGCGCAGGCGCAGCGGGGTCGCAGGGCGCGGCGGGTTCCAGCGCGGGGATGGCGCTGTCCGCGGAGGA\n",
    "CCGGGCGCTGGTGCGCGCCCTGTGGAAGAAGCTGGGCAGCAACGTCGGCGTCTACACGACAGAGGCCCTGGAAAG\n",
    "GTGCGGCAGGCTGGGCGCCCCCGCCCCCAGGGGCCCTCCCTCCCCAAGCCCCCCGGACGCGCCTCACCCACGTTC\n",
    "CTCTCGCAGGACCTTCCTGGCTTTCCCCGCCACGAAGACCTACTTCTCCCACCTGGACCTGAGCCCCGGCTCCTC\n",
    "ACAAGTCAGAGCCCACGGCCAGAAGGTGGCGGACGCGCTGAGCCTCGCCGTGGAGCGCCTGGACGACCTACCCCA\n",
    "CGCGCTGTCCGCGCTGAGCCACCTGCACGCGTGCCAGCTGCGAGTGGACCCGGCCAGCTTCCAGGTGAGCGGCTG\n",
    "CCGTGCTGGGCCCCTGTCCCCGGGAGGGCCCCGGCGGGGTGGGTGCGGGGGGCGTGCGGGGCGGGTGCAGGCGAG\n",
    "TGAGCCTTGAGCGCTCGCCGCAGCTCCTGGGCCACTGCCTGCTGGTAACCCTCGCCCGGCACTACCCCGGAGACT\n",
    "TCAGCCCCGCGCTGCAGGCGTCGCTGGACAAGTTCCTGAGCCACGTTATCTCGGCGCTGGTTTCCGAGTACCGCT\n",
    "GAACTGTGGGTGGGTGGCCGCGGGATCCCCAGGCGACCTTCCCCGTGTTTGAGTAAAGCCTCTCCCAGGAGCAGC\n",
    "CTTCTTGCCGTGCTCTCTCGAGGTCAGGACGCGAGAGGAAGGCGC\n",
    "\"\"\"\n",
    "\n",
    "\n",
    "\n",
    "def calculaGC(secuencia):\n",
    "    #print(secuencia)\n",
    "    totalCG=secuencia.count(\"G\")+secuencia.count(\"C\")\n",
    "    totalACGT=secuencia.count(\"A\")+secuencia.count(\"T\")+secuencia.count(\"G\")+secuencia.count(\"C\")  \n",
    "    return(totalCG*100/totalACGT)\n",
    "\n",
    "\n",
    "def imprimeGCdeCadaSecuencia(secuenciaCompuesta):\n",
    "    listaSec=secuenciaCompuesta.split(\">\")\n",
    "    listaLimpia=[]\n",
    "    for sec in listaSec:\n",
    "        secLimpia=sec[sec.find(\"\\n\")+1:]\n",
    "        secLimpia=secLimpia.replace(\"\\n\",\"\")\n",
    "            \n",
    "        listaLimpia.append(secLimpia)\n",
    "    while \"\" in listaLimpia:\n",
    "        listaLimpia.remove(\"\")\n",
    "    for elemento in listaLimpia:\n",
    "        print(calculaGC(elemento))\n",
    "        \n",
    "    \n",
    "    \n",
    "imprimeGCdeCadaSecuencia(fichFasta)\n"
   ]
  },
  {
   "cell_type": "markdown",
   "metadata": {},
   "source": [
    "## Ejercicio 5a.5\n",
    "\n",
    "En genómica, es habitual encontrar regiones de ADN idénticas en genomas de organismos diferentes, lo que apunta a que se trata de una región conservada con muy probablemente una función muy parecida en ambos organismos.\n",
    "\n",
    "En nuestro caso, entenderemos por motivo una secuencia *s* con longitud menor a la secuencia *t* donde querremos buscar ese motivo *len(s) < len(t)*. Por ejemplo, sean *t* y *s*:\n",
    "\n",
    "t = GATATATGCATATACTT<br>\n",
    "s = ATAT<br>\n",
    "\n",
    "el motivo *s* aparece en las siguientes posiciones: 2, 4 y 10 (empezamos a contar en 1, aunque en Python se empiece a contar desde 0).\n",
    "\n",
    "Escribid una función buscar_motivo(t,s) que devuelva en una lista las posiciones donde se ha encontrado el motivo en una determinada secuencia. Si no encuentra el motivo, devolverá una lista vacía. "
   ]
  },
  {
   "cell_type": "code",
   "execution_count": 2,
   "metadata": {},
   "outputs": [
    {
     "name": "stdout",
     "output_type": "stream",
     "text": [
      "[2, 22]\n",
      "[2, 5, 6, 15, 17, 18, 22]\n",
      "[]\n",
      "[33, 42]\n",
      "[2, 10]\n"
     ]
    }
   ],
   "source": [
    "def buscar_motivo(t,s):\n",
    "    #vuestro código\n",
    "        \n",
    "\n",
    "#código de ejemplo\n",
    "t = 'AUGCUUCAGAAAGGUCUUACGUGCUUUA'\n",
    "s = 'UGCU'\n",
    "print(buscar_motivo(t, s)) #[2, 22]\n",
    "\n",
    "t = 'AUGCUUCAGAAAGGUCUUACGU' \n",
    "s = 'U'\n",
    "print(buscar_motivo(t, s))#[2, 5, 6, 15, 17, 18, 22]\n",
    "\n",
    "t = 'AUGCUUCAGAAAGGUCUUACGU'\n",
    "s = 'UGCG'\n",
    "print(buscar_motivo(t, s)) #[]\n",
    "\n",
    "t = 'GCGTAGTAGGTTCGCGCCTAGTTCCGCCGAAAAGACAAAGGAGAAGGGAATGCTCCTAGTAGTTTCAGTCTAGCAAACATGTTATAACGCTAACTGTGTGCTGCA'\n",
    "s = 'AGA'\n",
    "print(buscar_motivo(t, s)) #[33, 42]\n",
    "\n",
    "t = \"GATATATGCATATACTT\"\n",
    "s = \"ATAT\"\n",
    "print(buscar_motivo(t, s)) #[2, 4, 10]"
   ]
  },
  {
   "cell_type": "code",
   "execution_count": 6,
   "metadata": {},
   "outputs": [
    {
     "name": "stdout",
     "output_type": "stream",
     "text": [
      "Help on method_descriptor:\n",
      "\n",
      "index(...)\n",
      "    S.index(sub[, start[, end]]) -> int\n",
      "    \n",
      "    Like S.find() but raise ValueError when the substring is not found.\n",
      "\n"
     ]
    }
   ],
   "source": [
    "help(str.index)"
   ]
  },
  {
   "cell_type": "markdown",
   "metadata": {},
   "source": [
    "## Ejercicio 5a.6. \n",
    "Escribe una función llamada mapa que reciba una función y una lista, y devuelva la lista que resulta de aplicar la función recibida a cada uno de los elementos de la lista recibida. \n"
   ]
  },
  {
   "cell_type": "code",
   "execution_count": 3,
   "metadata": {},
   "outputs": [
    {
     "ename": "NameError",
     "evalue": "name 'mapa' is not defined",
     "output_type": "error",
     "traceback": [
      "\u001b[0;31m---------------------------------------------------------------------------\u001b[0m",
      "\u001b[0;31mNameError\u001b[0m                                 Traceback (most recent call last)",
      "\u001b[0;32m<ipython-input-3-d5f94df4458a>\u001b[0m in \u001b[0;36m<module>\u001b[0;34m()\u001b[0m\n\u001b[1;32m      9\u001b[0m \u001b[0;34m\u001b[0m\u001b[0m\n\u001b[1;32m     10\u001b[0m \u001b[0mlista\u001b[0m\u001b[0;34m=\u001b[0m\u001b[0;34m[\u001b[0m\u001b[0;36m1\u001b[0m\u001b[0;34m,\u001b[0m\u001b[0;36m2\u001b[0m\u001b[0;34m,\u001b[0m\u001b[0;36m3\u001b[0m\u001b[0;34m,\u001b[0m\u001b[0;36m4\u001b[0m\u001b[0;34m]\u001b[0m\u001b[0;34m\u001b[0m\u001b[0m\n\u001b[0;32m---> 11\u001b[0;31m \u001b[0mprint\u001b[0m\u001b[0;34m(\u001b[0m\u001b[0mmapa\u001b[0m\u001b[0;34m(\u001b[0m\u001b[0mmultiplicaPorDos\u001b[0m\u001b[0;34m,\u001b[0m\u001b[0mlista\u001b[0m\u001b[0;34m)\u001b[0m\u001b[0;34m)\u001b[0m \u001b[0;31m#[2, 4, 6, 8]\u001b[0m\u001b[0;34m\u001b[0m\u001b[0m\n\u001b[0m\u001b[1;32m     12\u001b[0m \u001b[0mprint\u001b[0m\u001b[0;34m(\u001b[0m\u001b[0mmapa\u001b[0m\u001b[0;34m(\u001b[0m\u001b[0msumarCinco\u001b[0m\u001b[0;34m,\u001b[0m\u001b[0mlista\u001b[0m\u001b[0;34m)\u001b[0m\u001b[0;34m)\u001b[0m \u001b[0;31m#[6, 7, 8, 9]\u001b[0m\u001b[0;34m\u001b[0m\u001b[0m\n",
      "\u001b[0;31mNameError\u001b[0m: name 'mapa' is not defined"
     ]
    }
   ],
   "source": [
    "#aquí va vuestro código\n",
    "\n",
    "#Pruebas: \n",
    "def multiplicaPorDos(a):\n",
    "    return a*2\n",
    "\n",
    "def sumarCinco(a):\n",
    "    return a+5\n",
    "\n",
    "lista=[1,2,3,4]\n",
    "print(mapa(multiplicaPorDos,lista)) #[2, 4, 6, 8]\n",
    "print(mapa(sumarCinco,lista)) #[6, 7, 8, 9]\n"
   ]
  },
  {
   "cell_type": "markdown",
   "metadata": {},
   "source": [
    "## Ejercicio 5a.7. (Opt)\n",
    "Generación de listas. Crea una lista con un número aleatorio de bases de ADN mediante una expresión generadora de listas. A continuación, únelas en una cadena con la función join().\n",
    "\n",
    "Nota: recuerda, las bases se representan con el vocabulario ACGT"
   ]
  },
  {
   "cell_type": "code",
   "execution_count": 4,
   "metadata": {},
   "outputs": [],
   "source": [
    "#aquí va vuestro código"
   ]
  },
  {
   "cell_type": "markdown",
   "metadata": {},
   "source": [
    "# 5b.-DICCIONARIOS"
   ]
  },
  {
   "cell_type": "markdown",
   "metadata": {},
   "source": [
    "## Ejercicio 5b.1\n",
    "El formato PDB (Protein Data Bank, https://www.cgl.ucsf.edu/chimera/docs/UsersGuide/tutorials/pdbintro.html) se utiliza en química computacional para guardar información sobre moléculas en disco. Cada línea que empieza por ATOM representa un átomo de la molécula. Puedes leer más sobre este banco en https://es.wikipedia.org/wiki/Protein_Data_Bank. A continuación te mostramos los componentes de cada línea de tipo ATOM dentro de este fichero, que es lo que nos interesa en este ejercicio.\n",
    "\n",
    "\n",
    "![Estructura Fichero PDB](estructuraFicheroPDB.png)\n",
    "\n",
    "Veamos como ejemplo la primera parte de la especificación del Glucagon, una pequeña molécula de 29 amino ácidos en una sola cadena. El primer residuo es el aminoácido amino terminal, histidina, al que le sigue un residuo de serina y luego una glutamina. El tipo de cada átomo se encuentra en la última posición de cada línea. \n",
    "\n",
    "<pre>\n",
    "ATOM      1  N   HIS A   1      49.668  24.248  10.436  1.00 25.00           N\n",
    "ATOM      2  CA  HIS A   1      50.197  25.578  10.784  1.00 16.00           C\n",
    "ATOM      3  C   HIS A   1      49.169  26.701  10.917  1.00 16.00           C\n",
    "ATOM      4  O   HIS A   1      48.241  26.524  11.749  1.00 16.00           O\n",
    "ATOM      5  CB  HIS A   1      51.312  26.048   9.843  1.00 16.00           C\n",
    "ATOM      6  CG  HIS A   1      50.958  26.068   8.340  1.00 16.00           C\n",
    "ATOM      7  ND1 HIS A   1      49.636  26.144   7.860  1.00 16.00           N\n",
    "ATOM      8  CD2 HIS A   1      51.797  26.043   7.286  1.00 16.00           C\n",
    "ATOM      9  CE1 HIS A   1      49.691  26.152   6.454  1.00 17.00           C\n",
    "ATOM     10  NE2 HIS A   1      51.046  26.090   6.098  1.00 17.00           N\n",
    "ATOM     11  N   SER A   2      49.788  27.850  10.784  1.00 16.00           N\n",
    "ATOM     12  CA  SER A   2      49.138  29.147  10.620  1.00 15.00           C\n",
    "ATOM     13  C   SER A   2      47.713  29.006  10.110  1.00 15.00           C\n",
    "ATOM     14  O   SER A   2      46.740  29.251  10.864  1.00 15.00           O\n",
    "ATOM     15  CB  SER A   2      49.875  29.930   9.569  1.00 16.00           C\n",
    "ATOM     16  OG  SER A   2      49.145  31.057   9.176  1.00 19.00           O\n",
    "ATOM     17  N   GLN A   3      47.620  28.367   8.973  1.00 15.00           N\n",
    "ATOM     18  CA  GLN A   3      46.287  28.193   8.308  1.00 14.00           C\n",
    "ATOM     19  C   GLN A   3      45.406  27.172   8.963  1.00 14.00           C\n",
    "</pre>\n",
    "\n",
    "Se pide que, dada la variable 'molecula', que contiene la cadena de texto que representa una molécula en formato PDB, defináis una función cuenta_atomos(molecula) que devuelva un diccionario con el número de átomos de cada tipo que tiene dicha molécula. \n"
   ]
  },
  {
   "cell_type": "code",
   "execution_count": 45,
   "metadata": {},
   "outputs": [
    {
     "name": "stdout",
     "output_type": "stream",
     "text": [
      "250.1417\n"
     ]
    }
   ],
   "source": [
    "molecula=\"\"\"\n",
    "ATOM      1  N   HIS A   1      49.668  24.248  10.436  1.00 25.00           N\n",
    "ATOM      2  CA  HIS A   1      50.197  25.578  10.784  1.00 16.00           C\n",
    "ATOM      3  C   HIS A   1      49.169  26.701  10.917  1.00 16.00           C\n",
    "ATOM      4  O   HIS A   1      48.241  26.524  11.749  1.00 16.00           O\n",
    "ATOM      5  CB  HIS A   1      51.312  26.048   9.843  1.00 16.00           C\n",
    "ATOM      6  CG  HIS A   1      50.958  26.068   8.340  1.00 16.00           C\n",
    "ATOM      7  ND1 HIS A   1      49.636  26.144   7.860  1.00 16.00           N\n",
    "ATOM      8  CD2 HIS A   1      51.797  26.043   7.286  1.00 16.00           C\n",
    "ATOM      9  CE1 HIS A   1      49.691  26.152   6.454  1.00 17.00           C\n",
    "ATOM     10  NE2 HIS A   1      51.046  26.090   6.098  1.00 17.00           N\n",
    "ATOM     11  N   SER A   2      49.788  27.850  10.784  1.00 16.00           N\n",
    "ATOM     12  CA  SER A   2      49.138  29.147  10.620  1.00 15.00           C\n",
    "ATOM     13  C   SER A   2      47.713  29.006  10.110  1.00 15.00           C\n",
    "ATOM     14  O   SER A   2      46.740  29.251  10.864  1.00 15.00           O\n",
    "ATOM     15  CB  SER A   2      49.875  29.930   9.569  1.00 16.00           C\n",
    "ATOM     16  OG  SER A   2      49.145  31.057   9.176  1.00 19.00           O\n",
    "ATOM     17  N   GLN A   3      47.620  28.367   8.973  1.00 15.00           N\n",
    "ATOM     18  CA  GLN A   3      46.287  28.193   8.308  1.00 14.00           C\n",
    "ATOM     19  C   GLN A   3      45.406  27.172   8.963  1.00 14.00           C\n",
    "\"\"\"\n",
    "\n",
    "\n",
    "molecula2=\"\"\"\n",
    "ATOM      8  CD2 HIS A   1      51.797  26.043   7.286  1.00 16.00           O\n",
    "ATOM      9  CE1 HIS A   1      49.691  26.152   6.454  1.00 17.00           O\n",
    "ATOM     10  NE2 HIS A   1      51.046  26.090   6.098  1.00 17.00           Ne\n",
    "ATOM     11  N   SER A   2      49.788  27.850  10.784  1.00 16.00           Ne\n",
    "ATOM     12  CA  SER A   2      49.138  29.147  10.620  1.00 15.00           He\n",
    "ATOM     13  C   SER A   2      47.713  29.006  10.110  1.00 15.00           C\n",
    "ATOM     14  O   SER A   2      46.740  29.251  10.864  1.00 15.00           O\n",
    "ATOM     15  CB  SER A   2      49.875  29.930   9.569  1.00 16.00           C\n",
    "ATOM     16  OG  SER A   2      49.145  31.057   9.176  1.00 19.00           O\n",
    "ATOM     17  N   GLN A   3      47.620  28.367   8.973  1.00 15.00           Ne\n",
    "ATOM     18  CA  GLN A   3      46.287  28.193   8.308  1.00 14.00           C\n",
    "ATOM     19  C   GLN A   3      45.406  27.172   8.963  1.00 14.00           C\n",
    "\"\"\"\n",
    "\n"
   ]
  },
  {
   "cell_type": "markdown",
   "metadata": {},
   "source": [
    "## Ejercicio 5b.2\n",
    "Dada la misma molécula, crea ahora una función que almacene en un diccionario las coordenadas x,y,z (columnas 6, 7 y 8, empezando a contar desde 0) de cada átomo. La clave del diccionario será el número de átomo (columna 1, empezando a contar desde 0). A continuación, crea otra función que, dados los ids de dos átomos, calcule su distancia. \n",
    "\n",
    "Nota: la fórmula para calcular la distancia en un espacio tridimensional es: \n",
    "![DistanciaTridimensional](distanciaTridimensional.png)\n",
    "\n"
   ]
  },
  {
   "cell_type": "code",
   "execution_count": 16,
   "metadata": {},
   "outputs": [
    {
     "name": "stdout",
     "output_type": "stream",
     "text": [
      "{1: [49.668, 24.248, 10.436], 2: [50.197, 25.578, 10.784], 3: [49.169, 26.701, 10.917], 4: [48.241, 26.524, 11.749], 5: [51.312, 26.048, 9.843], 6: [50.958, 26.068, 8.34], 7: [49.636, 26.144, 7.86], 8: [51.797, 26.043, 7.286], 9: [49.691, 26.152, 6.454], 10: [51.046, 26.09, 6.098], 11: [49.788, 27.85, 10.784], 12: [49.138, 29.147, 10.62], 13: [47.713, 29.006, 10.11], 14: [46.74, 29.251, 10.864], 15: [49.875, 29.93, 9.569], 16: [49.145, 31.057, 9.176], 17: [47.62, 28.367, 8.973], 18: [46.287, 28.193, 8.308], 19: [45.406, 27.172, 8.963]}\n",
      "2.549033346192238\n",
      "5.72668019012761\n"
     ]
    }
   ],
   "source": [
    "def cargaDiccionario(m):\n",
    "    d={}\n",
    "\n",
    "    elementos=m.split(\"\\n\")\n",
    "    while \"\" in elementos:\n",
    "        elementos.remove(\"\")\n",
    "    for elemento in elementos:\n",
    "        partes=elemento.split(\" \")\n",
    "        while \"\" in partes:\n",
    "            partes.remove(\"\")\n",
    "        identif=int(partes[1])\n",
    "        coordenadas=[]\n",
    "        for i in range(6,9):\n",
    "            coordenadas.append(float(partes[i]))\n",
    "        d[identif]=coordenadas\n",
    "    #aquí vuestro código\n",
    "    return(d)\n",
    "\n",
    "\n",
    "def calculaDistancia(m,idatomo1, idatomo2):\n",
    "    dic=cargaDiccionario(m)\n",
    "    x1,y1,z1=dic[idatomo1]\n",
    "    x2,y2,z2=dic[idatomo2]\n",
    "    d=((x2-x1)**2+(y2-y1)**2+(z2-z1)**2)**0.5\n",
    "    return(d)\n",
    "    #aquí vuestro código\n",
    "    \n",
    "    \n",
    "    \n",
    "molecula=\"\"\"\n",
    "ATOM      1  N   HIS A   1      49.668  24.248  10.436  1.00 25.00           N\n",
    "ATOM      2  CA  HIS A   1      50.197  25.578  10.784  1.00 16.00           C\n",
    "ATOM      3  C   HIS A   1      49.169  26.701  10.917  1.00 16.00           C\n",
    "ATOM      4  O   HIS A   1      48.241  26.524  11.749  1.00 16.00           O\n",
    "ATOM      5  CB  HIS A   1      51.312  26.048   9.843  1.00 16.00           C\n",
    "ATOM      6  CG  HIS A   1      50.958  26.068   8.340  1.00 16.00           C\n",
    "ATOM      7  ND1 HIS A   1      49.636  26.144   7.860  1.00 16.00           N\n",
    "ATOM      8  CD2 HIS A   1      51.797  26.043   7.286  1.00 16.00           C\n",
    "ATOM      9  CE1 HIS A   1      49.691  26.152   6.454  1.00 17.00           C\n",
    "ATOM     10  NE2 HIS A   1      51.046  26.090   6.098  1.00 17.00           N\n",
    "ATOM     11  N   SER A   2      49.788  27.850  10.784  1.00 16.00           N\n",
    "ATOM     12  CA  SER A   2      49.138  29.147  10.620  1.00 15.00           C\n",
    "ATOM     13  C   SER A   2      47.713  29.006  10.110  1.00 15.00           C\n",
    "ATOM     14  O   SER A   2      46.740  29.251  10.864  1.00 15.00           O\n",
    "ATOM     15  CB  SER A   2      49.875  29.930   9.569  1.00 16.00           C\n",
    "ATOM     16  OG  SER A   2      49.145  31.057   9.176  1.00 19.00           O\n",
    "ATOM     17  N   GLN A   3      47.620  28.367   8.973  1.00 15.00           N\n",
    "ATOM     18  CA  GLN A   3      46.287  28.193   8.308  1.00 14.00           C\n",
    "ATOM     19  C   GLN A   3      45.406  27.172   8.963  1.00 14.00           C\n",
    "\"\"\"\n",
    "\n",
    "#programa principal\n",
    "\n",
    "\n",
    "dist=calculaDistancia(molecula,1,3)\n",
    "print(dist)\n",
    "dist=calculaDistancia(molecula,4,8)\n",
    "print(dist)"
   ]
  },
  {
   "cell_type": "markdown",
   "metadata": {
    "collapsed": true
   },
   "source": [
    "\n",
    "## Ejercicio 5b.3\n",
    "Dada una molécula representada por un string de átomos del estilo C9-H8-O4, crea una __función__ llamada calcula_masa_atomica(cadena) que reciba como parámetro dicha cadena y te devuelva su masa atómica. Por ejemplo: para una molécula C4-H3, la masa atómica sería 4*12.01+3.1.007825. \n",
    "\n",
    "Para ello, te proporcionamos un diccionario donde tienes como clave cada tipo de átomo, y como valor su masa atómica. "
   ]
  },
  {
   "cell_type": "code",
   "execution_count": 6,
   "metadata": {},
   "outputs": [
    {
     "name": "stdout",
     "output_type": "stream",
     "text": [
      "Error genérico:  Elemento repetido\n",
      "La masa atómica de H3-H2 es  0\n",
      "Error de clave: elemento no válido H2O\n",
      "La masa atómica de H2O es  0\n",
      "Error de clave: elemento no válido Tz1\n",
      "La masa atómica de Tz1-H3  0\n",
      "La masa atómica de H3 es  3.0237\n",
      "Error de clave: elemento no válido N_H3\n",
      "La masa atómica de N_H3 es  0\n",
      "La masa atómica del amoníaco (N-H3) es  17.0304\n",
      "La masa atómica de la celulosa (C6-H10-O5) es  162.13600000000002\n",
      "La masa atómica de la glucosa (C6-H12-O6) es  180.1512\n",
      "La masa atómica del cloruro de sodio (Na-Cl) es  58.4427\n"
     ]
    }
   ],
   "source": [
    "dm={\n",
    "'H':1.0079, \n",
    "'C':12.01,\n",
    "'O':15.9994,\n",
    "'N':14.0067,\n",
    "'S':31.972071,\n",
    "'P':30.9738,\n",
    "'He':4.0026, \n",
    "'Li':6.941,\n",
    "'Be':9.0122,\n",
    "'Bo':10.811,\n",
    "'F':18.9984,\n",
    "'Ne':20.1797,\n",
    "'Na':22.9897,\n",
    "'Mg':24.305,\n",
    "'Al':26.9815,\n",
    "'Si':28.0855,\n",
    "'Cl':35.453,\n",
    "'K':39.0983,\n",
    "'Ar':39.948,\n",
    "'Ca':40.078,\n",
    "'Sc':44.9559,\n",
    "'Ti':47.867,\n",
    "'V':50.9415,\n",
    "'Cr':51.9961,\n",
    "'Mn':54.938,\n",
    "'Fe':55.845,\n",
    "'Ni':58.6934,\n",
    "'Co':58.9332,\n",
    "'Cu':63.546,\n",
    "'Zn':65.39,\n",
    "'Ga':69.723,\n",
    "'Ge':72.64,\n",
    "'As':74.9216,\n",
    "'Se':78.96,\n",
    "'Br':79.904,\n",
    "'Kr':83.8,\n",
    "'Rb':85.4678,\n",
    "'Sr':87.62,\n",
    "'Y':88.9059,\n",
    "'Zr':91.224,\n",
    "'Nb':92.9064,\n",
    "'Mo':95.94,\n",
    "'Tc':98,\n",
    "'Ru':101.07,\n",
    "'Rh':102.9055,\n",
    "'Pd':106.42,\n",
    "'Ag':107.8682,\n",
    "'Cd':112.411,\n",
    "'In':114.818,\n",
    "'Sn':118.71,\n",
    "'Sb':121.76,\n",
    "'I':126.9045,\n",
    "'Te':127.6,\n",
    "'Xe':131.293,\n",
    "'Cs':132.9055,\n",
    "'Ba':137.327,\n",
    "'La':138.9055,\n",
    "'Ce':140.116,\n",
    "'Pr':140.9077,\n",
    "'Nd':144.24,\n",
    "'Pm':145,\n",
    "'Sm':150.36,\n",
    "'Eu':151.964,\n",
    "'Gd':157.25,\n",
    "'Tb':158.9253,\n",
    "'Dy':162.5,\n",
    "'Ho':164.9303,\n",
    "'Er':167.259,\n",
    "'Tu':168.9342,\n",
    "'Yb':173.04,\n",
    "'Lu':174.967,\n",
    "'Hf':178.49,\n",
    "'Ta':180.9479,\n",
    "'W':183.84,\n",
    "'Re':186.207,\n",
    "'Os':190.23,\n",
    "'Ir':192.217,\n",
    "'Pt':195.078,\n",
    "'Au':196.9665,\n",
    "'Hg':200.59,\n",
    "'Ta':204.3833,\n",
    "'Pb':207.2,\n",
    "'Bi':208.9804,\n",
    "'Po':209,\n",
    "'At':210,\n",
    "'Rd':222,\n",
    "'Fr':223,\n",
    "'Ra':226,\n",
    "'Ac':227,\n",
    "'Pa':231.0359,\n",
    "'Th':232.0381,\n",
    "'Np':237,\n",
    "'U':238.0289,\n",
    "'Am':243,\n",
    "'Pu':244,\n",
    "'Cu':247,\n",
    "'Bk':247,\n",
    "'Cf':251,\n",
    "'Es':252,\n",
    "'Fm':257,\n",
    "'Md':258,\n",
    "'No':259,\n",
    "'Rf':261,\n",
    "'Lr':262,\n",
    "'Db':262,\n",
    "'Bh':264,\n",
    "'Sg':266,\n",
    "'Mt':268,\n",
    "'Hs':277}\n",
    "\n",
    "\n",
    "#Aquí va vuestra función\n",
    "\n",
    "def calcula_masa_atomica(molecula):\n",
    "    try:\n",
    "        elementos=[]\n",
    "        elementos=molecula.split(\"-\")\n",
    "        masa=0\n",
    "        ltipos=[]\n",
    "        for elemento in elementos:\n",
    "            tipo=\"\"\n",
    "            numveces=\"\"\n",
    "            for c in elemento:\n",
    "                if c in \"0123456789\":# if c.isdigit()\n",
    "                    numveces=numveces+c\n",
    "                else:\n",
    "                    tipo=tipo+c\n",
    "                    \n",
    "            if tipo in ltipos:\n",
    "                raise Exception(\"Elemento repetido\")\n",
    "            else:\n",
    "                ltipos.append(tipo)\n",
    "            if numveces==\"\":\n",
    "                numveces=\"1\"\n",
    "            masa=masa+dm[tipo]*int(numveces)\n",
    "        return(masa)\n",
    "    except KeyError:\n",
    "        print(\"Error de clave: elemento no válido\",elemento)\n",
    "        return(0)\n",
    "    except Exception as ex:\n",
    "        print(\"Error genérico: \",format(ex))\n",
    "        return(0)\n",
    "    \n",
    "print(\"La masa atómica de H3-H2 es \",calcula_masa_atomica(\"H3-H2\")) #error mismo elemento aparece más de una vez    \n",
    "print(\"La masa atómica de H2O es \",calcula_masa_atomica(\"H2O\")) #error falta separador  \n",
    "print(\"La masa atómica de Tz1-H3 \",calcula_masa_atomica(\"Tz1-H3\")) #error elemento no existe   \n",
    "print(\"La masa atómica de H3 es \",calcula_masa_atomica(\"H3\")) #sólo hay un elemento  \n",
    "print(\"La masa atómica de N_H3 es \",calcula_masa_atomica(\"N_H3\")) #separador erróneo    \n",
    "print(\"La masa atómica del amoníaco (N-H3) es \",calcula_masa_atomica(\"N-H3\")) #amoníaco: 17.0304\n",
    "print(\"La masa atómica de la celulosa (C6-H10-O5) es \",calcula_masa_atomica(\"C6-H10-O5\")) #celulosa: 162.13600000000002\n",
    "print(\"La masa atómica de la glucosa (C6-H12-O6) es \",calcula_masa_atomica(\"C6-H12-O6\")) #glucosa: 180.1512\n",
    "print(\"La masa atómica del cloruro de sodio (Na-Cl) es \",calcula_masa_atomica(\"Na-Cl\")) #cloruro de sodio: 58.4427"
   ]
  },
  {
   "cell_type": "markdown",
   "metadata": {},
   "source": [
    "## Ejercicio 5b.4\n",
    "\n",
    "¿Os acordáis de la estructura primaria, secundaria y terciaria del ADN?\n",
    "\n",
    "\n",
    "<img src=\"https://upload.wikimedia.org/wikipedia/commons/a/ae/DNA_chemical_structure_es.svg\" alt=\"ADN\" style=\"width: 300px;\"/>\n",
    "\n",
    "En este ejercicio os volvemos a pedir que, dada una secuencia con bases A, C, G o T, imprimáis por pantalla su secuencia complementaria. Esta secuencia se calcula como los elementos complementarios de cada elemento de la secuencia original ordenados en sentido inverso. \n",
    "\n",
    "Ejemplo: \n",
    "<pre>\n",
    "Secuencia:      GGCAGATTCCCCCTAGACCCGCCCGCACCATGGTCAGGCATGCCCCTCCTCATCGCTGGGCACAGCCCAGAGGGT\n",
    "Complementaria: ACCCTCTGGGCTGTGCCCAGCGATGAGGAGGGGCATGCCTGACCATGGTGCGGGCGGGTCTAGGGGGAATCTGCC \n",
    "</pre>\n",
    "\n",
    "A continuación os mostramos el código necesario para realizar esta operación con operaciones simples sobre cadenas. Tenéis que implementar una función que haga lo mismo USANDO UN DICCIONARIO. \n",
    "\n",
    "¿Cuál de las dos implementaciones es más eficiente? (Pista: podéis usar el magic command %timeit para averiguarlo)"
   ]
  },
  {
   "cell_type": "code",
   "execution_count": 5,
   "metadata": {},
   "outputs": [
    {
     "name": "stdout",
     "output_type": "stream",
     "text": [
      "GGCAGATTCCCCCTAGACCCGCCCGCACCATGGTCAGGCATGCCCCTCCTCATCGCTGGGCACAGCCCAGAGGGT\n",
      "ACCCTCTGGGCTGTGCCCAGCGATGAGGAGGGGCATGCCTGACCATGGTGCGGGCGGGTCTAGGGGGAATCTGCC\n",
      "10000 loops, best of 3: 18.5 µs per loop\n",
      "None\n",
      "10000000 loops, best of 3: 109 ns per loop\n"
     ]
    }
   ],
   "source": [
    "\n",
    "\n",
    "def seqComplementariaConCadenas(cadena):\n",
    "    reverso_complementario=\"\"\n",
    "    for c in cadena:\n",
    "        if (c==\"T\"):\n",
    "            cc=\"A\"\n",
    "        elif(c==\"A\"):\n",
    "            cc=\"T\"\n",
    "        elif (c==\"C\"):\n",
    "            cc=\"G\"\n",
    "        elif (c==\"G\"):\n",
    "            cc=\"C\"\n",
    "        reverso_complementario=cc+reverso_complementario #al unir al final estoy haciendo el reverso\n",
    "    return(reverso_complementario)\n",
    "\n",
    "def seqComplementariaConDiccionario(cadena):\n",
    "    pass\n",
    "    #aquí va vuestro código\n",
    "\n",
    "\n",
    "cadena=\"GGCAGATTCCCCCTAGACCCGCCCGCACCATGGTCAGGCATGCCCCTCCTCATCGCTGGGCACAGCCCAGAGGGT\"\n",
    "print(cadena)\n",
    "\n",
    "print(seqComplementariaConCadenas(cadena))\n",
    "%timeit seqComplementariaConCadenas(cadena)\n",
    "print(seqComplementariaConDiccionario(cadena))\n",
    "%timeit seqComplementariaConDiccionario(cadena)\n",
    "\n",
    "\n",
    "\n"
   ]
  },
  {
   "cell_type": "markdown",
   "metadata": {},
   "source": [
    "## Ejercicio 5b.5\n",
    "\n",
    "En la transcripción de ADN a proteínas el concepto de codón juega un papel importante. Un codón es un triplete de nucleótidos, y cada triplete codifica un aminoácido (residuo), aunque un aminoácido puede estar codificado por varios codones. Existe, tres codones especiales, de parada o terminación, que no determinan ningún aminoácido, pero que indica que la transcripción ha de terminar y la proteína está completa (codones \"*\"). \n",
    "\n",
    "Tenéis disponible una tabla de codones en https://en.wikipedia.org/wiki/DNA_codon_table. Esta tabla se ha codificado como un diccionario Python. \n",
    "\n",
    "Dada una secuencia de ADN, crea una función que reciba una cadena que representa la secuencia de ADN y que devuelva la cadena que representa la proteína transcrita. Queremos que la función pare de traducir cuando se encuentre un codón de stop, y devuelva None si no reconoce cualquiera de los codones que componen la secuencia de ADN. \n"
   ]
  },
  {
   "cell_type": "code",
   "execution_count": 90,
   "metadata": {},
   "outputs": [
    {
     "name": "stdout",
     "output_type": "stream",
     "text": [
      "AGTGATCACATAATAATTGATCGAGTTAATCTGGAGGATCTGCTGGGATTT\n",
      "Salida: SDHIIIDRVNLEDLLGF \n",
      "\n",
      "AGTGATTGAATAATAATTGATCGAGTTAATCTGGAGGATCTGCTGGGATTT\n",
      "Salida: SD \n",
      "\n",
      "No reconozco la cadena como una cadena de ADN válida\n",
      "Salida: None \n",
      "\n"
     ]
    }
   ],
   "source": [
    "diccionarioCodones={\"TTT\":\"F\",\"TTC\":\"F\",\"TTA\":\"L\",\"TTG\":\"L\", \"CTT\":\"L\", \"CTC\":\"L\", \"CTA\":\"L\", \"CTG\":\"L\",\"ATT\":\"I\",\"ATC\":\"I\", \n",
    "                    \"ATA\":\"I\", \"ATG\":\"M\", \"GTT\":\"V\", \"GTC\":\"V\", \"GTA\":\"V\", \"GTG\":\"V\", \"TCT\":\"S\",\"TCC\":\"S\", \"TCA\":\"S\", \"TCG\":\"S\", \n",
    "                    \"CCT\":\"P\",\"CCC\":\"P\", \"CCA\":\"P\", \"CCG\":\"P\",\"ACT\":\"T\", \"ACC\":\"T\", \"ACA\":\"T\", \"ACG\":\"T\",\"GCT\":\"A\", \"GCC\":\"A\",\n",
    "                    \"GCA\":\"A\", \"GCG\":\"A\", \"TAT\":\"Y\",\"TAC\":\"Y\",\"TAA\":\"*\",\"TAG\":\"*\",\"CAT\":\"H\", \"CAC\":\"H\",\"CAA\":\"Q\",\"CAG\":\"Q\",\n",
    "                    \"AAT\":\"N\",\"AAC\":\"N\",\"AAA\":\"L\",\"AAG\":\"L\",\"GAT\":\"D\",\"GAC\":\"D\",\"GAA\":\"E\",\"GAG\":\"E\",\"TGT\":\"C\",\"TGC\":\"C\",\n",
    "                    \"TGA\":\"*\",\"TGG\":\"W\",\"CGT\":\"R\",\"CGC\":\"R\", \"CGA\":\"R\", \"CGG\":\"R\",\"AGT\":\"S\", \"AGC\":\"S\",\n",
    "                    \"AGA\":\"R\", \"AGG\":\"R\",\"GGT\":\"G\",\"GGC\":\"G\", \"GGA\":\"G\", \"GGG\":\"G\"}\n",
    "\n",
    "\n",
    "\n",
    "\n",
    "#aquí va vuestro código\n",
    "\n",
    "\n",
    "\n",
    "#ejemplo\n",
    "seqADN1=\"AGTGATCACATAATAATTGATCGAGTTAATCTGGAGGATCTGCTGGGATTT\"\n",
    "print(seqADN1)\n",
    "print(\"Salida:\",ADNtoProtein(seqADN1),\"\\n\") #SDHIIIDRVNLEDLLGF\n",
    "seqADN2=\"AGTGATTGAATAATAATTGATCGAGTTAATCTGGAGGATCTGCTGGGATTT\"\n",
    "print(seqADN2)\n",
    "print(\"Salida:\",ADNtoProtein(seqADN2),\"\\n\") #SD\n",
    "print(\"Salida:\",ADNtoProtein(\"prueba\"),\"\\n\") #None\n",
    "\n"
   ]
  },
  {
   "cell_type": "markdown",
   "metadata": {},
   "source": [
    "## Ejercicio 5b.6\n",
    "\n",
    "Siguiendo con el mismo tema de los codones, nos han pasado la siguiente lista, que contiene todos los codones con sus correspondientes aminoácidos:\n",
    "<pre>\n",
    "['AGT:S', 'ACG:T', 'GCT:A', 'TCT:S', 'TCA:S', 'CGA:R', 'AAT:N', 'ACA:T', 'CTC:L', 'GCG:A', 'ACT:T', 'ATA:I', 'GGC:G', 'TTC:F', 'TAA:*', 'TGA:*', 'CCC:P', 'GTA:V', 'TAT:Y', 'ATT:I', 'GGT:G', 'ATG:M', 'CAT:H', 'CTT:L', 'CAG:Q', 'TGG:W', 'CTG:L', 'AAG:L', 'CTA:L', 'ATC:I', 'AGA:R', 'CAC:H', 'AGG:R', 'GTG:V', 'TTT:F', 'AGC:S', 'GCC:A', 'GTT:V', 'GGA:G', 'GCA:A', 'GAT:D', 'AAA:L', 'CCG:P', 'TGC:C', 'GAG:E', 'TTG:L', 'GAC:D', 'TCC:S', 'CGC:R', 'GGG:G', 'CAA:Q', 'CGT:R', 'AAC:N', 'CCT:P', 'ACC:T', 'TAG:*', 'GTC:V', 'GAA:E', 'TTA:L', 'CGG:R', 'TGT:C', 'TAC:Y', 'TCG:S', 'CCA:P']\n",
    "</pre>\n",
    "Nos piden codificar una función llamada codonesPorAminoacido() que reciba como parámetro la lista de codones y nos devuelva un diccionario donde la clave es el aminoácido y el valor es una tupla (veces,porcentaje) donde veces es el número de codones que codifican ese aminoácido y porcentaje es el porcentaje de codones frente al total.\n",
    "\n",
    "Además, deseamos imprimir el diccionario resultante ordenado: \n",
    "* Alfabéticamente\n",
    "* Por número de codones que codifican ese aminoácido (veces), de mayor a menor\n",
    "\n",
    "\n",
    "Salida esperada: \n",
    "\n",
    "Diccionario Aminoácidos con tuplas ordenadas alfabéticamente por nombre de aminoácido\n",
    " [('*', (3, 4.6875)), ('A', (4, 6.25)), ('C', (2, 3.125)), ('D', (2, 3.125)), ('E', (2, 3.125)), ('F', (2, 3.125)), ('G', (4, 6.25)), ('H', (2, 3.125)), ('I', (3, 4.6875)), ('L', (8, 12.5)), ('M', (1, 1.5625)), ('N', (2, 3.125)), ('P', (4, 6.25)), ('Q', (2, 3.125)), ('R', (6, 9.375)), ('S', (6, 9.375)), ('T', (4, 6.25)), ('V', (4, 6.25)), ('W', (1, 1.5625)), ('Y', (2, 3.125))]<br>\n",
    "Diccionario Aminoácidos con tuplas ordenadas por número de aminoácidos de mayor a menor\n",
    " [('L', (8, 12.5)), ('R', (6, 9.375)), ('S', (6, 9.375)), ('T', (4, 6.25)), ('G', (4, 6.25)), ('A', (4, 6.25)), ('V', (4, 6.25)), ('P', (4, 6.25)), ('I', (3, 4.6875)), ('*', (3, 4.6875)), ('C', (2, 3.125)), ('D', (2, 3.125)), ('F', (2, 3.125)), ('E', (2, 3.125)), ('Q', (2, 3.125)), ('N', (2, 3.125)), ('Y', (2, 3.125)), ('H', (2, 3.125)), ('W', (1, 1.5625)), ('M', (1, 1.5625))]\n",
    "\n"
   ]
  },
  {
   "cell_type": "code",
   "execution_count": 11,
   "metadata": {},
   "outputs": [
    {
     "name": "stdout",
     "output_type": "stream",
     "text": [
      "{'I': (3, 0.046875), 'G': (4, 0.0625), 'W': (1, 0.015625), 'C': (2, 0.03125), 'T': (4, 0.0625), 'N': (2, 0.03125), 'Q': (2, 0.03125), 'P': (4, 0.0625), 'H': (2, 0.03125), 'E': (2, 0.03125), 'L': (8, 0.125), 'A': (4, 0.0625), 'S': (6, 0.09375), 'Y': (2, 0.03125), 'F': (2, 0.03125), 'M': (1, 0.015625), 'R': (6, 0.09375), '*': (3, 0.046875), 'V': (4, 0.0625), 'D': (2, 0.03125)}\n",
      "{'I': (3, 0.046875), 'G': (4, 0.0625), 'W': (1, 0.015625), 'C': (2, 0.03125), 'T': (4, 0.0625), 'N': (2, 0.03125), 'Q': (2, 0.03125), 'P': (4, 0.0625), 'H': (2, 0.03125), 'E': (2, 0.03125), 'L': (8, 0.125), 'A': (4, 0.0625), 'S': (6, 0.09375), 'Y': (2, 0.03125), 'F': (2, 0.03125), 'M': (1, 0.015625), 'R': (6, 0.09375), '*': (3, 0.046875), 'V': (4, 0.0625), 'D': (2, 0.03125)}\n"
     ]
    }
   ],
   "source": [
    "listaCodones=['AGT:S', 'ACG:T', 'GCT:A', 'TCT:S', 'TCA:S', 'CGA:R', 'AAT:N', 'ACA:T', 'CTC:L', 'GCG:A', 'ACT:T', \n",
    "              'ATA:I', 'GGC:G', 'TTC:F', 'TAA:*', 'TGA:*', 'CCC:P', 'GTA:V', 'TAT:Y', 'ATT:I', 'GGT:G', 'ATG:M', \n",
    "              'CAT:H', 'CTT:L', 'CAG:Q', 'TGG:W', 'CTG:L', 'AAG:L', 'CTA:L', 'ATC:I', 'AGA:R', 'CAC:H', 'AGG:R', \n",
    "              'GTG:V', 'TTT:F', 'AGC:S', 'GCC:A', 'GTT:V', 'GGA:G', 'GCA:A', 'GAT:D', 'AAA:L', 'CCG:P', 'TGC:C', \n",
    "              'GAG:E', 'TTG:L', 'GAC:D', 'TCC:S', 'CGC:R', 'GGG:G', 'CAA:Q', 'CGT:R', 'AAC:N', 'CCT:P', 'ACC:T', \n",
    "              'TAG:*', 'GTC:V', 'GAA:E', 'TTA:L', 'CGG:R', 'TGT:C', 'TAC:Y', 'TCG:S', 'CCA:P']\n",
    "\n",
    "\n",
    "#en dos pasos\n",
    "d={}\n",
    "totalCodones=len(listaCodones)\n",
    "for elemento in listaCodones:\n",
    "    codon,amino=elemento.split(\":\")\n",
    "    d[amino]=d.get(amino,0)+1\n",
    "\n",
    "for clave in d.keys():\n",
    "    d[clave]=(d[clave],d[clave]/totalCodones)\n",
    "\n",
    "print(d)\n",
    "\n",
    "\n",
    "\n",
    "#trabajando directamente con tuplas dentro del diccionario\n",
    "d={}\n",
    "totalCodones=len(listaCodones)\n",
    "for elemento in listaCodones:\n",
    "    codon,amino=elemento.split(\":\")\n",
    "    num,porc=d.get(amino,(0,0))\n",
    "    num=num+1\n",
    "    porc=num/totalCodones\n",
    "    d[amino]=(num,porc)\n",
    "\n",
    "print(d)\n",
    "\n",
    "\n",
    "#aquí va vuestro código"
   ]
  },
  {
   "cell_type": "code",
   "execution_count": 18,
   "metadata": {},
   "outputs": [
    {
     "name": "stdout",
     "output_type": "stream",
     "text": [
      "(1, 2, 4, 1, 5, 6, 7)\n",
      "[(1, 2, 4, 1, 5, 6, 7)]\n",
      "[(1, 2, 4, 1, 5, 6, 7), (3, 4)]\n"
     ]
    }
   ],
   "source": [
    "tupla=(1,2,4,1,5,6,7)\n",
    "print(tupla)\n",
    "\n",
    "lista=[]\n",
    "lista.append(tupla)\n",
    "print(lista)\n",
    "tupla2=(3,4)\n",
    "lista.append(tupla2)\n",
    "print(lista)"
   ]
  },
  {
   "cell_type": "markdown",
   "metadata": {},
   "source": [
    "## Ejercicio 5b.7\n",
    "\n",
    "Escribe un programa que vaya solicitando al usuario que ingrese nombres de personas.\n",
    "Si el nombre se encuentra en la agenda (implementada con un diccionario), el programa debe mostrar el teléfono y preguntar si se desea modificar el teléfono, introducir otro nombre para buscar su teléfono o salir del programa. \n",
    "Si el nombre no se encuentra, el programa debe permitir ingresar el teléfono y guardarlo en el diccionario (la agenda). \n",
    "\n"
   ]
  },
  {
   "cell_type": "code",
   "execution_count": null,
   "metadata": {
    "collapsed": true
   },
   "outputs": [],
   "source": [
    "agenda={\"Rosa Berauto\":\"964562343\",\"José Pérez\":\"965234812\",\"Pilar Rodríguez\":\"83726191\"}\n",
    "#aquí va tu código\n"
   ]
  },
  {
   "cell_type": "markdown",
   "metadata": {},
   "source": [
    "## Ejercicio 5b.8\n",
    "Retomemos el formato PDB del ejercicio 5b.3. Implementad una función cuentaAminos(molecula) que calcule el número de aminoácidos que contiene la molécula que se le pase como parámetro. "
   ]
  },
  {
   "cell_type": "code",
   "execution_count": 36,
   "metadata": {},
   "outputs": [
    {
     "ename": "NameError",
     "evalue": "name 'cuentaAminos' is not defined",
     "output_type": "error",
     "traceback": [
      "\u001b[0;31m---------------------------------------------------------------------------\u001b[0m",
      "\u001b[0;31mNameError\u001b[0m                                 Traceback (most recent call last)",
      "\u001b[0;32m<ipython-input-36-bbd9bb443b3b>\u001b[0m in \u001b[0;36m<module>\u001b[0;34m()\u001b[0m\n\u001b[1;32m     24\u001b[0m \u001b[0;34m\u001b[0m\u001b[0m\n\u001b[1;32m     25\u001b[0m \u001b[0;31m#código de prueba\u001b[0m\u001b[0;34m\u001b[0m\u001b[0;34m\u001b[0m\u001b[0m\n\u001b[0;32m---> 26\u001b[0;31m \u001b[0mprint\u001b[0m\u001b[0;34m(\u001b[0m\u001b[0mcuentaAminos\u001b[0m\u001b[0;34m(\u001b[0m\u001b[0mmolecula\u001b[0m\u001b[0;34m)\u001b[0m\u001b[0;34m)\u001b[0m\u001b[0;34m\u001b[0m\u001b[0m\n\u001b[0m",
      "\u001b[0;31mNameError\u001b[0m: name 'cuentaAminos' is not defined"
     ]
    }
   ],
   "source": [
    "molecula=\"\"\"\n",
    "ATOM      1  N   HIS A   1      49.668  24.248  10.436  1.00 25.00           N\n",
    "ATOM      2  CA  HIS A   1      50.197  25.578  10.784  1.00 16.00           C\n",
    "ATOM      3  C   HIS A   1      49.169  26.701  10.917  1.00 16.00           C\n",
    "ATOM      4  O   HIS A   1      48.241  26.524  11.749  1.00 16.00           O\n",
    "ATOM      5  CB  HIS A   1      51.312  26.048   9.843  1.00 16.00           C\n",
    "ATOM      6  CG  HIS A   1      50.958  26.068   8.340  1.00 16.00           C\n",
    "ATOM      7  ND1 HIS A   1      49.636  26.144   7.860  1.00 16.00           N\n",
    "ATOM      8  CD2 HIS A   1      51.797  26.043   7.286  1.00 16.00           C\n",
    "ATOM      9  CE1 HIS A   1      49.691  26.152   6.454  1.00 17.00           C\n",
    "ATOM     10  NE2 HIS A   1      51.046  26.090   6.098  1.00 17.00           N\n",
    "ATOM     11  N   SER A   2      49.788  27.850  10.784  1.00 16.00           N\n",
    "ATOM     12  CA  SER A   2      49.138  29.147  10.620  1.00 15.00           C\n",
    "ATOM     13  C   SER A   2      47.713  29.006  10.110  1.00 15.00           C\n",
    "ATOM     14  O   SER A   2      46.740  29.251  10.864  1.00 15.00           O\n",
    "ATOM     15  CB  SER A   2      49.875  29.930   9.569  1.00 16.00           C\n",
    "ATOM     16  OG  SER A   2      49.145  31.057   9.176  1.00 19.00           O\n",
    "ATOM     17  N   GLN A   3      47.620  28.367   8.973  1.00 15.00           N\n",
    "ATOM     18  CA  GLN A   3      46.287  28.193   8.308  1.00 14.00           C\n",
    "ATOM     19  C   GLN A   3      45.406  27.172   8.963  1.00 14.00           C\n",
    "\"\"\"\n",
    "\n",
    "# Aquí va vuestro código\n",
    "\n",
    "#código de prueba\n",
    "print(cuentaAminos(molecula))"
   ]
  },
  {
   "cell_type": "markdown",
   "metadata": {},
   "source": [
    "# 5c.-TUPLAS"
   ]
  },
  {
   "cell_type": "markdown",
   "metadata": {},
   "source": [
    "## Ejercicio 5c.1. \n",
    "EcoRI es una enzima de restricción muy empleada en todos los laboratorios del mundo para cortar una hebra de ADN en dos partes. EcoRI reconoce el motivo GAATTC, y separa la secuencia inicial de ADN por la posición tras la primera G (G-AATTC) Dada una cadena que representa una hebra de ADN, escribid una función llamada cortaHebraConEcoRI() que reciba como parámetro la hebra de ADN y devuelva una tupla que contenga las dos partes de la hebra de ADN cortada por el motivo GAATTC. Si no lo encuentra, la función debe devolver la hebra completa como primer elemento de la tupla, y None como segundo. \n",
    "\n",
    "Salida esperada con la hebra proporcionada como ejemplo: \n",
    "('ACTGATCGATTACGTATAGTAG', 'AATTCTATCATACATATATATCGATGCGTTCATTAC')"
   ]
  },
  {
   "cell_type": "code",
   "execution_count": 41,
   "metadata": {},
   "outputs": [
    {
     "name": "stdout",
     "output_type": "stream",
     "text": [
      "('ACTGATCGATTACGTATAGTAG', 'AATTCTATCATACATATATATCGATGCGTTCATTAC')\n"
     ]
    }
   ],
   "source": [
    "#aquí vuestro código\n",
    "\n",
    "\n",
    "hebra = 'ACTGATCGATTACGTATAGTAGAATTCTATCATACATATATATCGATGCGTTCATTAC'\n",
    "print(cortaHebraConEcoRI(hebra))"
   ]
  },
  {
   "cell_type": "markdown",
   "metadata": {
    "collapsed": true
   },
   "source": [
    "## Ejercicio 5c.2.\n",
    "\n",
    "Escribe una función que indique si dos fichas de dominó ‘encajan’ o no. La función recibirá dos parámetros, que se corresponderán a dos tuplas, una por cada ficha de dominó. A continuación, escribe un programa principal que genere las fichas del dominó,  de entre ellas seleccione 10 veces dos al azar e imprima si las dos fichas seleccionadas encajan o no. \n",
    "\n",
    "\n"
   ]
  },
  {
   "cell_type": "code",
   "execution_count": null,
   "metadata": {
    "collapsed": true
   },
   "outputs": [],
   "source": [
    "#aquí va vuestro código\n",
    "\n",
    "print(encajan((1,1)(0,0))) #False\n",
    "print(encajan((1,4)(0,1))) #True\n",
    "print(encajan((1,6)(4,6))) #True\n",
    "print(encajan((1,6)(3,4))) #False\n",
    "print(encajan((1,1)(5,6))) #False\n",
    "print(encajan((3,5)(0,3))) #True\n",
    "print(encajan((3,6)(2,3))) #True\n",
    "print(encajan((0,0)(0,1))) #True\n",
    "print(encajan((0,1)(4,5))) #False\n",
    "print(encajan((2,2)(5,6))) #False"
   ]
  },
  {
   "cell_type": "markdown",
   "metadata": {},
   "source": [
    "## Ejercicio 5c.3. \n",
    "\n",
    "A partir del código del ejercicio anterior, escribe un programa que juegue automáticamente al dominó. Para ello: \n",
    "*\tGenera la lista de 28 fichas (una lista con 28 tuplas)\n",
    "*\tAsume cuatro jugadores\n",
    "*\tAsigna 7 fichas al azar a cada jugador\n",
    "*\tComienza con el jugador que tenga el (6, 6)\n",
    "*\tCrea una lista que represente el juego encima de la mesa. Cuando coloques las fichas (las insertes en esa lista, al principio o al final), cuida de colocarlas en el orden que toca, para saber qué número hay en cada extremo.  Las dobles da igual en qué orden las enlaces. \n",
    "*\tEl juego terminará cuando alguno de los jugadores se quede sin fichas o no se puedan colocar más fichas. En este caso gana el jugador que sume menos puntos. \n",
    "\n",
    "\n",
    "Pistas: \n",
    "*\tlista.append(elemento) añade un elemento al final de la lista.\n",
    "*\tlista.insert(pos,elemento) añade un nuevo valor en la posición k (recuerda que la primera posición siempre es la 0) y desplaza un lugar el resto de la lista. \n",
    "*\tLista.remove(elemento) borra el elemento de la lista. El valor debe existir.\n",
    "*\tPara ver si un elemento se encuentra en una lista puedes utilizar el operador in\n"
   ]
  },
  {
   "cell_type": "code",
   "execution_count": null,
   "metadata": {
    "collapsed": true
   },
   "outputs": [],
   "source": [
    "#aquí vuestro código"
   ]
  },
  {
   "cell_type": "markdown",
   "metadata": {},
   "source": [
    "## Ejercicio 5c.4.\n",
    "\n",
    "Escribe una función dime_fecha() que recupere la hora actual del sistema (time.localtime()) y transforme la tupla de tiempo devuelta por dicha función en una cadena en formato “Hoy es  diaSem, dd de Mes de yyyy. Son las hh:mm.”  que imprimirá por pantalla. \n",
    "\n",
    "E.g. de salida: Hoy es Lunes, 29 de Mar de 2018. Son las 14:02.\n",
    " \n",
    "\n",
    "Nota: La salida de time.localtime() es un objeto time.struct_time(tm_year=2016, tm_mon=2, tm_mday=29, tm_hour=13, tm_min=49, tm_sec=35, tm_wday=0, tm_yday=60, tm_isdst=0)\n",
    "\n",
    "Struct_time es una named_tuple. Podéis ver cómo se trabaja con ellas en https://docs.python.org/3.6/glossary.html#term-named-tuple\n",
    "\n"
   ]
  },
  {
   "cell_type": "code",
   "execution_count": null,
   "metadata": {
    "collapsed": true
   },
   "outputs": [],
   "source": [
    "#aquí va tu código"
   ]
  },
  {
   "cell_type": "markdown",
   "metadata": {},
   "source": [
    "## Ejercicio 5c.5.\n",
    "\n",
    "Escribe una función diaSiguiente que pida al usuario un día, un mes y un año –donde día y año son enteros, y mes es una cadena (Ene,Feb,… Dic). A partir de esa entrada, la función debe calcular el día siguiente y y devolverlo en una tupla con formato(dia-entero,mes-cadena,año-entero). \n",
    "\n",
    "Pistas: es posible crear una fecha a partir de un valor de día, mes y año con la función date(año, mes, día) . Esta función se encuentra en el módulo datetime. También es posible sumar 1 a una fecha usando la función timedelta(days=1) como sigue: diaSig=fecha+timedelta(days=1)\n",
    "\n",
    "Esta función también se encuentra en el módulo datetime. \n",
    "\n",
    "Ejemplos de ejecución: \n",
    "![Ejemplos de salida](5c-4-salida.png)"
   ]
  },
  {
   "cell_type": "code",
   "execution_count": null,
   "metadata": {
    "collapsed": true
   },
   "outputs": [],
   "source": [
    "#aquí va tu código"
   ]
  },
  {
   "cell_type": "markdown",
   "metadata": {},
   "source": [
    "## Ejercicio 5c.6.\n",
    "\n",
    "Escribe una función empaquetar que, dada una lista que le pasamos como parámetro, nos devuelva otra lista donde la repetición de valores se indica mediante tuplas. \n",
    "\n",
    "Ejemplo: \n",
    "<pre>\n",
    "lista=[1,2,2,2,3,3,3,3,3,3,3]\n",
    "print(empaquetar(lista)) #[(1,1),(2,3),(3,6)]\n",
    "</pre>"
   ]
  },
  {
   "cell_type": "code",
   "execution_count": null,
   "metadata": {
    "collapsed": true
   },
   "outputs": [],
   "source": [
    "#aquí va vuestro código\n",
    "\n",
    "\n",
    "#ejemplos de ejecución\n",
    "lista1=[1,1,1,1,1,1,2,2,2,2,2,3,3,3,3,4,5,5,5,5,6,6,6,7,7,8,8,8,8,8,8,9]\n",
    "lista2=[1,2,3,3,3,3,3,3,3,3,3,3,3,4,5,6,7,7,7,7,7,7,7,7,7,7,7,8]\n",
    "print(empaquetar(lista1))\n",
    "print(empaquetar(lista2))"
   ]
  },
  {
   "cell_type": "markdown",
   "metadata": {},
   "source": [
    "## Ejercicio 5c.7.\n",
    "\n",
    "Modifica la función empaquetar para que acepte un parámetro que indique si tenemos que tener en cuenta que las ocurrencias repetidas sean consecutivas para contarlas dentro de una misma tupla (consec=True) o no. Por defecto consec=False\n",
    "\n",
    "Ejemplo: \n",
    "<pre>\n",
    "lista=[1,2,2,2,3,3,3,3,3,3,3,1,1,1,1]\n",
    "print(empaquetar(lista)) #[(1,5),(2,3),(3,6)]\n",
    "print(empaquetar(lista,False)) #[(1,5),(2,3),(3,6)]\n",
    "print(empaquetar(lista,True)) #[(1,1),(2,3),(3,6),(1,4)]\n",
    "</pre>"
   ]
  },
  {
   "cell_type": "code",
   "execution_count": 2,
   "metadata": {},
   "outputs": [
    {
     "name": "stdout",
     "output_type": "stream",
     "text": [
      "1\n",
      "2\n",
      "2\n",
      "2\n",
      "3\n",
      "3\n",
      "3\n",
      "3\n",
      "3\n",
      "3\n",
      "3\n",
      "1\n",
      "1\n",
      "1\n",
      "1\n",
      "[(1, 1), (2, 3), (3, 7), (1, 4)]\n"
     ]
    }
   ],
   "source": [
    "def empaquetar(listanum,consec=False):\n",
    "    lista=[]\n",
    "    if consec==False:\n",
    "        dcont={}\n",
    "        for elemento in listanum:\n",
    "            dcont[elemento]=dcont.get(elemento,0)+1\n",
    "        for clave in dcont:\n",
    "            lista.append((clave,dcont[clave]))\n",
    "\n",
    "    else: \n",
    "        actual=None\n",
    "        contador=0\n",
    "        for elemento in listanum:\n",
    "            print(elemento)\n",
    "            if actual==None:\n",
    "                contador=1\n",
    "                actual=elemento\n",
    "            elif elemento!=actual: \n",
    "                lista.append((actual,contador))\n",
    "                contador=1\n",
    "                actual=elemento\n",
    "            else: #elemento repetido\n",
    "                contador=contador+1\n",
    "        lista.append((actual,contador))\n",
    "\n",
    "    return(lista)\n",
    "    \n",
    "lista=[1,2,2,2,3,3,3,3,3,3,3,1,1,1,1]\n",
    "print(empaquetar(lista,True))\n",
    "    "
   ]
  },
  {
   "cell_type": "markdown",
   "metadata": {},
   "source": [
    "# Ejercicio 5c.8.\n",
    "\n",
    "Crea un programa que use una named tuple para calcular la distancia euclídea entre dos puntos\n",
    "\n",
    "Pista: namedtuple se encuentra definida en el módulo collections:\n",
    "from collections import namedtuple\n",
    "\n",
    "\n",
    "Pista: podéis ver explicado este ejemplo en http://librosweb.es/libro/algoritmos_python/capitulo_7/\n"
   ]
  },
  {
   "cell_type": "code",
   "execution_count": null,
   "metadata": {
    "collapsed": true
   },
   "outputs": [],
   "source": [
    "#aquí vuestro código"
   ]
  },
  {
   "cell_type": "markdown",
   "metadata": {},
   "source": [
    "## Ejercicio 5c.9.\n",
    "\n",
    "Nos han pasado el siguiente programa principal de una máquina expendedora de medicamentos:\n",
    "\n",
    "<pre>\n",
    "listaMedicamentos=[(\"Ibuprofeno\",1.97),(\"Paracetamol\",2.50),(\"Strepsils\",9.20),(\"Agua Oxigenada\",3.83),(\"Betadine\",6.71)]\n",
    "\n",
    "def principal(): \n",
    "    numlist=dameOpcionMenu(listaMedicamentos)\n",
    "    if (numlist<=len(listaMedicamentos)): #ha elegido algún medicamento\n",
    "        print(\"Has elegido comprar \",listaMedicamentos[numlist-1][0])\n",
    "        print(\"El precio de\",listaMedicamentos[numlist-1][0], \"es\",listaMedicamentos[numlist-1][1])\n",
    "        listaDinero=generaDineroIntroducido(listaMedicamentos[numlist-1][1])\n",
    "        total=calculaTotalDineroIntroducido(listaDinero) \n",
    "        print(\"Has introducido \",total,\" euros\")\n",
    "\n",
    "        cambio=calculaCambio(total,listaMedicamentos[numlist-1][1])\n",
    "        print(\"Tu cambio es de \",cambio, \"euros\")\n",
    "    else:\n",
    "        print(\"Gracias por confiar en nosotros. Esperamos volver a verte pronto.\")\n",
    "\n",
    "\n",
    "        \n",
    "principal()\n",
    "</pre>\n",
    "\n",
    "\n",
    "Define las funciones necesarias para que el programa funcione correctamente. \n",
    "Ejemplo de ejecución: \n",
    "\n",
    "<pre>\n",
    "Medicamentos\n",
    "1 .- Ibuprofeno --> 1.97\n",
    "2 .- Paracetamol --> 2.5\n",
    "3 .- Strepsils --> 9.2\n",
    "4 .- Agua Oxigenada --> 3.83\n",
    "5 .- Betadine --> 6.71\n",
    "6 .- Calcelar operación.\n",
    "Por favor, elige la opción que deseas comprar...3\n",
    "Has elegido comprar  Strepsils\n",
    "El precio de Strepsils es 9.2\n",
    "Dinero introducido:  [0.1, 10]\n",
    "Has introducido  10.1  euros\n",
    "Tu cambio es de  0.9 euros\n",
    "</pre>"
   ]
  },
  {
   "cell_type": "code",
   "execution_count": 1,
   "metadata": {},
   "outputs": [],
   "source": [
    "#Aquí va tu código"
   ]
  },
  {
   "cell_type": "code",
   "execution_count": null,
   "metadata": {},
   "outputs": [],
   "source": []
  }
 ],
 "metadata": {
  "kernelspec": {
   "display_name": "Python 3",
   "language": "python",
   "name": "python3"
  },
  "language_info": {
   "codemirror_mode": {
    "name": "ipython",
    "version": 3
   },
   "file_extension": ".py",
   "mimetype": "text/x-python",
   "name": "python",
   "nbconvert_exporter": "python",
   "pygments_lexer": "ipython3",
   "version": "3.6.8"
  }
 },
 "nbformat": 4,
 "nbformat_minor": 1
}
